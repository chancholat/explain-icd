{
  "cells": [
    {
      "cell_type": "markdown",
      "metadata": {
        "id": "hHWL4XpU1gYX"
      },
      "source": [
        "# Explaining Medical coding"
      ]
    },
    {
      "cell_type": "markdown",
      "source": [
        "Notebook này có sử dụng một số phần trong mã nguồn công trình Explainable Medical Coding (Joakim Edin et. al - https://github.com/JoakimEdin/explainable-medical-coding)\n",
        "\n",
        "Notebook này thực hiện:\n",
        "- Đánh giá khả năng giải thích của mô hình PLM-ICD trên nhiệm vụ gán nhãn ICD tự động\n",
        "- So sánh phương pháp giải thích ILCA với các phương pháp giải thích khác\n",
        "- Nhóm tác giả có thay đổi một số mục trong mã nguồn của Edin:\n",
        "  - Bổ sung phương pháp giải thích Invert Label Cross Attention\n",
        "  - Thay đổi một số config training\n",
        "  - Mã nguồn đã qua chỉnh sửa https://github.com/chancholat/explain-icd.git\n",
        "  - Nếu sử dụng Colab hoặc Kaggle, vui lòng restart kernel notebook sau khi reinstall các package ở cell đầu tiên"
      ],
      "metadata": {
        "id": "lKGw_f0BPe7D"
      }
    },
    {
      "cell_type": "code",
      "execution_count": null,
      "metadata": {
        "colab": {
          "base_uri": "https://localhost:8080/"
        },
        "collapsed": true,
        "id": "qr8kZYdwD2X9",
        "outputId": "96d4ce7c-4fbb-4951-8523-7fc09ac1a1b1"
      },
      "outputs": [
        {
          "output_type": "stream",
          "name": "stdout",
          "text": [
            "\u001b[?25l   \u001b[90m━━━━━━━━━━━━━━━━━━━━━━━━━━━━━━━━━━━━━━━━\u001b[0m \u001b[32m0.0/487.4 kB\u001b[0m \u001b[31m?\u001b[0m eta \u001b[36m-:--:--\u001b[0m\r\u001b[2K   \u001b[91m━━━━━━━━━━━━━━━━━━━━━━━━━━━━━━━━━━━━━━━\u001b[0m\u001b[90m╺\u001b[0m \u001b[32m481.3/487.4 kB\u001b[0m \u001b[31m14.9 MB/s\u001b[0m eta \u001b[36m0:00:01\u001b[0m\r\u001b[2K   \u001b[90m━━━━━━━━━━━━━━━━━━━━━━━━━━━━━━━━━━━━━━━━\u001b[0m \u001b[32m487.4/487.4 kB\u001b[0m \u001b[31m11.1 MB/s\u001b[0m eta \u001b[36m0:00:00\u001b[0m\n",
            "\u001b[?25h\u001b[?25l   \u001b[90m━━━━━━━━━━━━━━━━━━━━━━━━━━━━━━━━━━━━━━━━\u001b[0m \u001b[32m0.0/183.9 kB\u001b[0m \u001b[31m?\u001b[0m eta \u001b[36m-:--:--\u001b[0m\r\u001b[2K   \u001b[90m━━━━━━━━━━━━━━━━━━━━━━━━━━━━━━━━━━━━━━━━\u001b[0m \u001b[32m183.9/183.9 kB\u001b[0m \u001b[31m17.3 MB/s\u001b[0m eta \u001b[36m0:00:00\u001b[0m\n",
            "\u001b[?25h\u001b[31mERROR: pip's dependency resolver does not currently take into account all the packages that are installed. This behaviour is the source of the following dependency conflicts.\n",
            "torch 2.6.0+cu124 requires nvidia-cublas-cu12==12.4.5.8; platform_system == \"Linux\" and platform_machine == \"x86_64\", but you have nvidia-cublas-cu12 12.5.3.2 which is incompatible.\n",
            "torch 2.6.0+cu124 requires nvidia-cuda-cupti-cu12==12.4.127; platform_system == \"Linux\" and platform_machine == \"x86_64\", but you have nvidia-cuda-cupti-cu12 12.5.82 which is incompatible.\n",
            "torch 2.6.0+cu124 requires nvidia-cuda-nvrtc-cu12==12.4.127; platform_system == \"Linux\" and platform_machine == \"x86_64\", but you have nvidia-cuda-nvrtc-cu12 12.5.82 which is incompatible.\n",
            "torch 2.6.0+cu124 requires nvidia-cuda-runtime-cu12==12.4.127; platform_system == \"Linux\" and platform_machine == \"x86_64\", but you have nvidia-cuda-runtime-cu12 12.5.82 which is incompatible.\n",
            "torch 2.6.0+cu124 requires nvidia-cudnn-cu12==9.1.0.70; platform_system == \"Linux\" and platform_machine == \"x86_64\", but you have nvidia-cudnn-cu12 9.3.0.75 which is incompatible.\n",
            "torch 2.6.0+cu124 requires nvidia-cufft-cu12==11.2.1.3; platform_system == \"Linux\" and platform_machine == \"x86_64\", but you have nvidia-cufft-cu12 11.2.3.61 which is incompatible.\n",
            "torch 2.6.0+cu124 requires nvidia-curand-cu12==10.3.5.147; platform_system == \"Linux\" and platform_machine == \"x86_64\", but you have nvidia-curand-cu12 10.3.6.82 which is incompatible.\n",
            "torch 2.6.0+cu124 requires nvidia-cusolver-cu12==11.6.1.9; platform_system == \"Linux\" and platform_machine == \"x86_64\", but you have nvidia-cusolver-cu12 11.6.3.83 which is incompatible.\n",
            "torch 2.6.0+cu124 requires nvidia-cusparse-cu12==12.3.1.170; platform_system == \"Linux\" and platform_machine == \"x86_64\", but you have nvidia-cusparse-cu12 12.5.1.3 which is incompatible.\n",
            "torch 2.6.0+cu124 requires nvidia-nvjitlink-cu12==12.4.127; platform_system == \"Linux\" and platform_machine == \"x86_64\", but you have nvidia-nvjitlink-cu12 12.5.82 which is incompatible.\n",
            "gcsfs 2025.7.0 requires fsspec==2025.7.0, but you have fsspec 2024.12.0 which is incompatible.\u001b[0m\u001b[31m\n",
            "\u001b[2K   \u001b[90m━━━━━━━━━━━━━━━━━━━━━━━━━━━━━━━━━━━━━━━━\u001b[0m \u001b[32m1.3/1.3 MB\u001b[0m \u001b[31m23.2 MB/s\u001b[0m eta \u001b[36m0:00:00\u001b[0m\n",
            "\u001b[2K   \u001b[90m━━━━━━━━━━━━━━━━━━━━━━━━━━━━━━━━━━━━━━━━\u001b[0m \u001b[32m363.4/363.4 MB\u001b[0m \u001b[31m3.1 MB/s\u001b[0m eta \u001b[36m0:00:00\u001b[0m\n",
            "\u001b[2K   \u001b[90m━━━━━━━━━━━━━━━━━━━━━━━━━━━━━━━━━━━━━━━━\u001b[0m \u001b[32m13.8/13.8 MB\u001b[0m \u001b[31m125.1 MB/s\u001b[0m eta \u001b[36m0:00:00\u001b[0m\n",
            "\u001b[2K   \u001b[90m━━━━━━━━━━━━━━━━━━━━━━━━━━━━━━━━━━━━━━━━\u001b[0m \u001b[32m24.6/24.6 MB\u001b[0m \u001b[31m101.8 MB/s\u001b[0m eta \u001b[36m0:00:00\u001b[0m\n",
            "\u001b[2K   \u001b[90m━━━━━━━━━━━━━━━━━━━━━━━━━━━━━━━━━━━━━━━━\u001b[0m \u001b[32m883.7/883.7 kB\u001b[0m \u001b[31m58.4 MB/s\u001b[0m eta \u001b[36m0:00:00\u001b[0m\n",
            "\u001b[2K   \u001b[90m━━━━━━━━━━━━━━━━━━━━━━━━━━━━━━━━━━━━━━━━\u001b[0m \u001b[32m664.8/664.8 MB\u001b[0m \u001b[31m1.9 MB/s\u001b[0m eta \u001b[36m0:00:00\u001b[0m\n",
            "\u001b[2K   \u001b[90m━━━━━━━━━━━━━━━━━━━━━━━━━━━━━━━━━━━━━━━━\u001b[0m \u001b[32m211.5/211.5 MB\u001b[0m \u001b[31m11.6 MB/s\u001b[0m eta \u001b[36m0:00:00\u001b[0m\n",
            "\u001b[2K   \u001b[90m━━━━━━━━━━━━━━━━━━━━━━━━━━━━━━━━━━━━━━━━\u001b[0m \u001b[32m56.3/56.3 MB\u001b[0m \u001b[31m42.7 MB/s\u001b[0m eta \u001b[36m0:00:00\u001b[0m\n",
            "\u001b[2K   \u001b[90m━━━━━━━━━━━━━━━━━━━━━━━━━━━━━━━━━━━━━━━━\u001b[0m \u001b[32m127.9/127.9 MB\u001b[0m \u001b[31m20.3 MB/s\u001b[0m eta \u001b[36m0:00:00\u001b[0m\n",
            "\u001b[2K   \u001b[90m━━━━━━━━━━━━━━━━━━━━━━━━━━━━━━━━━━━━━━━━\u001b[0m \u001b[32m207.5/207.5 MB\u001b[0m \u001b[31m4.0 MB/s\u001b[0m eta \u001b[36m0:00:00\u001b[0m\n",
            "\u001b[2K   \u001b[90m━━━━━━━━━━━━━━━━━━━━━━━━━━━━━━━━━━━━━━━━\u001b[0m \u001b[32m21.1/21.1 MB\u001b[0m \u001b[31m103.0 MB/s\u001b[0m eta \u001b[36m0:00:00\u001b[0m\n",
            "\u001b[2K     \u001b[90m━━━━━━━━━━━━━━━━━━━━━━━━━━━━━━━━━━━━━━━\u001b[0m \u001b[32m131.1/131.1 kB\u001b[0m \u001b[31m3.9 MB/s\u001b[0m eta \u001b[36m0:00:00\u001b[0m\n",
            "\u001b[2K     \u001b[90m━━━━━━━━━━━━━━━━━━━━━━━━━━━━━━━━━━━━━━━━\u001b[0m \u001b[32m62.1/62.1 kB\u001b[0m \u001b[31m5.2 MB/s\u001b[0m eta \u001b[36m0:00:00\u001b[0m\n",
            "\u001b[2K     \u001b[90m━━━━━━━━━━━━━━━━━━━━━━━━━━━━━━━━━━━━━━━━\u001b[0m \u001b[32m40.5/40.5 kB\u001b[0m \u001b[31m3.5 MB/s\u001b[0m eta \u001b[36m0:00:00\u001b[0m\n",
            "\u001b[2K     \u001b[90m━━━━━━━━━━━━━━━━━━━━━━━━━━━━━━━━━━━━━━━━\u001b[0m \u001b[32m57.7/57.7 kB\u001b[0m \u001b[31m5.2 MB/s\u001b[0m eta \u001b[36m0:00:00\u001b[0m\n",
            "\u001b[2K   \u001b[90m━━━━━━━━━━━━━━━━━━━━━━━━━━━━━━━━━━━━━━━━\u001b[0m \u001b[32m8.5/8.5 MB\u001b[0m \u001b[31m86.7 MB/s\u001b[0m eta \u001b[36m0:00:00\u001b[0m\n",
            "\u001b[2K   \u001b[90m━━━━━━━━━━━━━━━━━━━━━━━━━━━━━━━━━━━━━━━━\u001b[0m \u001b[32m515.7/515.7 kB\u001b[0m \u001b[31m40.3 MB/s\u001b[0m eta \u001b[36m0:00:00\u001b[0m\n",
            "\u001b[2K   \u001b[90m━━━━━━━━━━━━━━━━━━━━━━━━━━━━━━━━━━━━━━━━\u001b[0m \u001b[32m16.9/16.9 MB\u001b[0m \u001b[31m112.9 MB/s\u001b[0m eta \u001b[36m0:00:00\u001b[0m\n",
            "\u001b[2K   \u001b[90m━━━━━━━━━━━━━━━━━━━━━━━━━━━━━━━━━━━━━━━━\u001b[0m \u001b[32m66.5/66.5 kB\u001b[0m \u001b[31m6.6 MB/s\u001b[0m eta \u001b[36m0:00:00\u001b[0m\n",
            "\u001b[2K   \u001b[90m━━━━━━━━━━━━━━━━━━━━━━━━━━━━━━━━━━━━━━━━\u001b[0m \u001b[32m763.0/763.0 kB\u001b[0m \u001b[31m50.0 MB/s\u001b[0m eta \u001b[36m0:00:00\u001b[0m\n",
            "\u001b[2K   \u001b[90m━━━━━━━━━━━━━━━━━━━━━━━━━━━━━━━━━━━━━━━━\u001b[0m \u001b[32m792.7/792.7 kB\u001b[0m \u001b[31m51.0 MB/s\u001b[0m eta \u001b[36m0:00:00\u001b[0m\n",
            "\u001b[2K   \u001b[90m━━━━━━━━━━━━━━━━━━━━━━━━━━━━━━━━━━━━━━━━\u001b[0m \u001b[32m471.6/471.6 kB\u001b[0m \u001b[31m37.6 MB/s\u001b[0m eta \u001b[36m0:00:00\u001b[0m\n",
            "\u001b[2K   \u001b[90m━━━━━━━━━━━━━━━━━━━━━━━━━━━━━━━━━━━━━━━━\u001b[0m \u001b[32m3.6/3.6 MB\u001b[0m \u001b[31m109.6 MB/s\u001b[0m eta \u001b[36m0:00:00\u001b[0m\n",
            "\u001b[2K   \u001b[90m━━━━━━━━━━━━━━━━━━━━━━━━━━━━━━━━━━━━━━━━\u001b[0m \u001b[32m78.5/78.5 kB\u001b[0m \u001b[31m6.5 MB/s\u001b[0m eta \u001b[36m0:00:00\u001b[0m\n",
            "\u001b[2K   \u001b[90m━━━━━━━━━━━━━━━━━━━━━━━━━━━━━━━━━━━━━━━━\u001b[0m \u001b[32m64.8/64.8 kB\u001b[0m \u001b[31m5.8 MB/s\u001b[0m eta \u001b[36m0:00:00\u001b[0m\n",
            "\u001b[2K   \u001b[90m━━━━━━━━━━━━━━━━━━━━━━━━━━━━━━━━━━━━━━━━\u001b[0m \u001b[32m162.7/162.7 kB\u001b[0m \u001b[31m15.1 MB/s\u001b[0m eta \u001b[36m0:00:00\u001b[0m\n",
            "\u001b[2K   \u001b[90m━━━━━━━━━━━━━━━━━━━━━━━━━━━━━━━━━━━━━━━━\u001b[0m \u001b[32m147.3/147.3 kB\u001b[0m \u001b[31m13.7 MB/s\u001b[0m eta \u001b[36m0:00:00\u001b[0m\n",
            "\u001b[2K   \u001b[90m━━━━━━━━━━━━━━━━━━━━━━━━━━━━━━━━━━━━━━━━\u001b[0m \u001b[32m199.6/199.6 kB\u001b[0m \u001b[31m18.5 MB/s\u001b[0m eta \u001b[36m0:00:00\u001b[0m\n",
            "\u001b[2K   \u001b[90m━━━━━━━━━━━━━━━━━━━━━━━━━━━━━━━━━━━━━━━━\u001b[0m \u001b[32m3.1/3.1 MB\u001b[0m \u001b[31m103.4 MB/s\u001b[0m eta \u001b[36m0:00:00\u001b[0m\n",
            "\u001b[2K   \u001b[90m━━━━━━━━━━━━━━━━━━━━━━━━━━━━━━━━━━━━━━━━\u001b[0m \u001b[32m70.4/70.4 kB\u001b[0m \u001b[31m6.1 MB/s\u001b[0m eta \u001b[36m0:00:00\u001b[0m\n",
            "\u001b[2K   \u001b[90m━━━━━━━━━━━━━━━━━━━━━━━━━━━━━━━━━━━━━━━━\u001b[0m \u001b[32m43.9/43.9 kB\u001b[0m \u001b[31m3.7 MB/s\u001b[0m eta \u001b[36m0:00:00\u001b[0m\n",
            "\u001b[2K   \u001b[90m━━━━━━━━━━━━━━━━━━━━━━━━━━━━━━━━━━━━━━━━\u001b[0m \u001b[32m129.8/129.8 kB\u001b[0m \u001b[31m12.1 MB/s\u001b[0m eta \u001b[36m0:00:00\u001b[0m\n",
            "\u001b[?25h\u001b[31mERROR: pip's dependency resolver does not currently take into account all the packages that are installed. This behaviour is the source of the following dependency conflicts.\n",
            "datasets 3.4.1 requires fsspec[http]<=2024.12.0,>=2023.1.0, but you have fsspec 2025.7.0 which is incompatible.\n",
            "google-colab 1.0.0 requires requests==2.32.3, but you have requests 2.32.4 which is incompatible.\n",
            "tensorflow 2.18.0 requires numpy<2.1.0,>=1.26.0, but you have numpy 2.3.2 which is incompatible.\n",
            "opencv-contrib-python 4.12.0.88 requires numpy<2.3.0,>=2; python_version >= \"3.9\", but you have numpy 2.3.2 which is incompatible.\n",
            "numba 0.60.0 requires numpy<2.1,>=1.22, but you have numpy 2.3.2 which is incompatible.\n",
            "opencv-python 4.12.0.88 requires numpy<2.3.0,>=2; python_version >= \"3.9\", but you have numpy 2.3.2 which is incompatible.\n",
            "opencv-python-headless 4.12.0.88 requires numpy<2.3.0,>=2; python_version >= \"3.9\", but you have numpy 2.3.2 which is incompatible.\n",
            "sentence-transformers 4.1.0 requires transformers<5.0.0,>=4.41.0, but you have transformers 4.38.1 which is incompatible.\n",
            "cupy-cuda12x 13.3.0 requires numpy<2.3,>=1.22, but you have numpy 2.3.2 which is incompatible.\u001b[0m\u001b[31m\n",
            "\u001b[2K     \u001b[90m━━━━━━━━━━━━━━━━━━━━━━━━━━━━━━━━━━━━━━━━\u001b[0m \u001b[32m62.0/62.0 kB\u001b[0m \u001b[31m1.9 MB/s\u001b[0m eta \u001b[36m0:00:00\u001b[0m\n",
            "\u001b[2K   \u001b[90m━━━━━━━━━━━━━━━━━━━━━━━━━━━━━━━━━━━━━━━━\u001b[0m \u001b[32m16.4/16.4 MB\u001b[0m \u001b[31m116.9 MB/s\u001b[0m eta \u001b[36m0:00:00\u001b[0m\n",
            "\u001b[?25h\u001b[31mERROR: pip's dependency resolver does not currently take into account all the packages that are installed. This behaviour is the source of the following dependency conflicts.\n",
            "datasets 3.4.1 requires fsspec[http]<=2024.12.0,>=2023.1.0, but you have fsspec 2025.7.0 which is incompatible.\n",
            "tensorflow 2.18.0 requires numpy<2.1.0,>=1.26.0, but you have numpy 2.2.0 which is incompatible.\n",
            "numba 0.60.0 requires numpy<2.1,>=1.22, but you have numpy 2.2.0 which is incompatible.\n",
            "sentence-transformers 4.1.0 requires transformers<5.0.0,>=4.41.0, but you have transformers 4.38.1 which is incompatible.\u001b[0m\u001b[31m\n",
            "\u001b[2K   \u001b[90m━━━━━━━━━━━━━━━━━━━━━━━━━━━━━━━━━━━━━━━━\u001b[0m \u001b[32m154.5/154.5 kB\u001b[0m \u001b[31m3.5 MB/s\u001b[0m eta \u001b[36m0:00:00\u001b[0m\n",
            "\u001b[?25h"
          ]
        }
      ],
      "source": [
        "!git clone https://github.com/chancholat/explain-icd.git\n",
        "!pip install -q python-dotenv==1.0.0\n",
        "!pip install -q datasets==3.4.1\n",
        "!pip install -q omegaconf==2.3.0\n",
        "!pip install -q captum==0.7.0\n",
        "!pip install -q --force-reinstall transformers==4.38.1\n",
        "!pip install -q --force-reinstall numpy==2.2.0\n",
        "!pip install -q hydra-core"
      ]
    },
    {
      "cell_type": "code",
      "execution_count": null,
      "metadata": {
        "id": "TV3QhHLn224L"
      },
      "outputs": [],
      "source": [
        "import os\n",
        "\n",
        "# Change to a specific directory\n",
        "os.chdir(\"/content/explain-icd\")"
      ]
    },
    {
      "cell_type": "code",
      "execution_count": null,
      "metadata": {
        "colab": {
          "base_uri": "https://localhost:8080/"
        },
        "collapsed": true,
        "id": "8e7g2xJ_bGfL",
        "outputId": "7efa5bd0-d405-449e-b727-94c9f02c02e5"
      },
      "outputs": [
        {
          "output_type": "stream",
          "name": "stdout",
          "text": [
            "Downloading from https://www.kaggle.com/api/v1/datasets/download/chanhainguyen/thesis-data-process?dataset_version_number=1...\n"
          ]
        },
        {
          "output_type": "stream",
          "name": "stderr",
          "text": [
            "100%|██████████| 2.95G/2.95G [00:18<00:00, 168MB/s]"
          ]
        },
        {
          "output_type": "stream",
          "name": "stdout",
          "text": [
            "Extracting files...\n"
          ]
        },
        {
          "output_type": "stream",
          "name": "stderr",
          "text": [
            "\n"
          ]
        },
        {
          "output_type": "stream",
          "name": "stdout",
          "text": [
            "/root/.cache/kagglehub/datasets/chanhainguyen/thesis-data-process/versions/1\n"
          ]
        }
      ],
      "source": [
        "import kagglehub\n",
        "\n",
        "#Download the latest version.\n",
        "path = kagglehub.dataset_download('chanhainguyen/thesis-data-process')\n",
        "print(path)"
      ]
    },
    {
      "cell_type": "code",
      "execution_count": null,
      "metadata": {
        "collapsed": true,
        "id": "H03RgE9-qo_c"
      },
      "outputs": [],
      "source": [
        "!mv /root/.cache/kagglehub/datasets/chanhainguyen/thesis-data-process/versions/1/processed /content/explain-icd/data\n",
        "# !mv /kaggle/input/thesis-data-process/processed /content/explain-icd/data"
      ]
    },
    {
      "cell_type": "markdown",
      "metadata": {
        "id": "fI33hqwByOe_"
      },
      "source": [
        "## Evaluate Plausibility"
      ]
    },
    {
      "cell_type": "code",
      "execution_count": null,
      "metadata": {
        "id": "95nGztLlcTk7"
      },
      "outputs": [],
      "source": [
        "from omegaconf import OmegaConf\n",
        "from pathlib import Path\n",
        "# Define the config path\n",
        "experimant_config_path = Path(\"explainable_medical_coding/config/explainability.yaml\")\n",
        "\n",
        "# Load the configuration\n",
        "exp_config = OmegaConf.load(experimant_config_path)"
      ]
    },
    {
      "cell_type": "code",
      "execution_count": null,
      "metadata": {
        "id": "tS2OWF0cWivA"
      },
      "outputs": [],
      "source": [
        "mdace_inpatent_icd9 = OmegaConf.create({\n",
        "    \"dataset_path\": \"explainable_medical_coding/datasets/mdace_inpatient_icd9.py\",\n",
        "    \"target_columns\": [\"diagnosis_codes\", \"procedure_codes\"],\n",
        "    \"max_length\": 6000\n",
        "})\n",
        "exp_config.data = mdace_inpatent_icd9"
      ]
    },
    {
      "cell_type": "code",
      "execution_count": null,
      "metadata": {
        "id": "6vVawub3VhKL"
      },
      "outputs": [],
      "source": [
        "# exp_config.model_name = \"igr\"\n",
        "# exp_config.run_id = 'igr/1p0vue7o'\n",
        "# exp_config.model_name = \"pgd\"\n",
        "# exp_config.run_id = 'pgd/06mt02mq'\n",
        "# exp_config.model_name = \"supervised\"\n",
        "# exp_config.run_id = 'supervised/4wj6cabu'\n",
        "# exp_config.model_name = \"tm\"\n",
        "# exp_config.run_id = 'tm/3hvfq75j'\n",
        "# exp_config.model_name = \"unsupervised\"\n",
        "# exp_config.run_id = 'unsupervised/0fom6iwn'\n",
        "\n",
        "\n",
        "# exp_config.model_name = \"tm\"\n",
        "# exp_config.run_id = 'tm/a6ulgei0'\n",
        "\n",
        "# exp_config.model_name = \"pgd\"\n",
        "# exp_config.run_id = 'pgd/9hpw0up3'\n",
        "\n",
        "# exp_config.model_name = \"pgd\"\n",
        "# exp_config.run_id = 'pgd/b213y2m6'\n",
        "\n",
        "# exp_config.model_name = \"igr\"\n",
        "# exp_config.run_id = 'igr/kbs093u4'\n",
        "\n",
        "# exp_config.model_name = \"tm\"\n",
        "# exp_config.run_id = 'tm/a6ulgei0'\n",
        "\n",
        "# exp_config.model_name = \"unsupervised\"\n",
        "# exp_config.run_id = 'unsupervised/ov55kelz'\n",
        "\n",
        "exp_config.model_name = \"supervised\"\n",
        "exp_config.run_id = 'supervised/v5vsimfr'\n",
        "\n",
        "\n",
        "exp_config.explainers=[\"laat\", \"deeplift\", \"gradient_x_input\", \"grad_attention\", \"atgrad_attention\", \"invert_label_att\"]\n",
        "exp_config.evaluate_faithfulness=False"
      ]
    },
    {
      "cell_type": "code",
      "execution_count": null,
      "metadata": {
        "colab": {
          "base_uri": "https://localhost:8080/"
        },
        "id": "nVEZcsNt0TEg",
        "outputId": "94d71219-a5ef-4417-ac78-5c06e64dd021"
      },
      "outputs": [
        {
          "name": "stderr",
          "output_type": "stream",
          "text": [
            "/content/explain-icd/explainable_medical_coding/utils/loss_functions.py:13: FutureWarning: `torch.cuda.amp.GradScaler(args...)` is deprecated. Please use `torch.amp.GradScaler('cuda', args...)` instead.\n",
            "  diet_gradient_scaler = torch.cuda.amp.GradScaler()\n",
            "/content/explain-icd/explainable_medical_coding/utils/loss_functions.py:14: FutureWarning: `torch.cuda.amp.GradScaler(args...)` is deprecated. Please use `torch.amp.GradScaler('cuda', args...)` instead.\n",
            "  advesarial_noise_gradient_scaler = torch.cuda.amp.GradScaler()\n"
          ]
        }
      ],
      "source": [
        "import torch\n",
        "import os\n",
        "import sys\n",
        "from pathlib import Path\n",
        "sys.path.append('/content/explain-icd')\n",
        "\n",
        "from transformers import AutoTokenizer\n",
        "from explainable_medical_coding.utils.tokenizer import TargetTokenizer\n",
        "from explainable_medical_coding.utils.loaders import (\n",
        "    load_and_prepare_dataset,\n",
        "    load_trained_model,\n",
        ")"
      ]
    },
    {
      "cell_type": "code",
      "execution_count": null,
      "metadata": {
        "colab": {
          "base_uri": "https://localhost:8080/"
        },
        "id": "FyzLph3Rhtbq",
        "outputId": "bf4a88a4-8d77-40c1-9d86-e76a1609de5c"
      },
      "outputs": [
        {
          "name": "stdout",
          "output_type": "stream",
          "text": [
            "CUDA_VISIBLE_DEVICES not set\n"
          ]
        }
      ],
      "source": [
        "device = torch.device(\"cuda\" if torch.cuda.is_available() else \"cpu\")\n",
        "if \"CUDA_VISIBLE_DEVICES\" not in os.environ:\n",
        "  print(\"CUDA_VISIBLE_DEVICES not set\")\n",
        "  os.environ[\"CUDA_VISIBLE_DEVICES\"] = \"0\"\n",
        "target_columns = list(exp_config.data.target_columns)\n",
        "dataset_path = Path(exp_config.data.dataset_path)\n",
        "model_folder_path = Path(exp_config.model_folder_path)\n",
        "run_id = exp_config.run_id\n",
        "model_path = model_folder_path / run_id\n",
        "saved_config = OmegaConf.load(model_path / \"config.yaml\")\n",
        "text_tokenizer_path = saved_config.model.configs.model_path\n",
        "\n",
        "# target_tokenizer.load(experiment_path / \"target_tokenizer.json\")\n",
        "target_tokenizer = TargetTokenizer(autoregressive=False)\n",
        "target_tokenizer.load(model_path / \"target_tokenizer.json\")\n",
        "\n",
        "text_tokenizer = AutoTokenizer.from_pretrained(text_tokenizer_path)\n",
        "max_input_length = int(saved_config.data.max_length)"
      ]
    },
    {
      "cell_type": "code",
      "execution_count": null,
      "metadata": {
        "colab": {
          "base_uri": "https://localhost:8080/",
          "referenced_widgets": [
            "5e7255fe74074122a6d0c0b882322677",
            "b5a4d4331e514c26bfbfc11d49cfccb5",
            "b7f025c0afe04f0f97a2a9fe772e7ff6",
            "c8648800e899436f8adaf33a7ebe7fff",
            "00e5c336a4c04092897fa1ff446bfb22",
            "6d9c31d18767445cb2a0b8248b6777ab",
            "2786681c344c4f59b4cdc4fa0b84162a",
            "c42c353b8e5a48bf992da09cf3999627",
            "d56ceecd6da044e7a71243099881a53c",
            "9f44dcd63aca446895778108e885a2dc",
            "e0c78fb094be4fa8972c4f3339f97521",
            "a5c7d0ebd08245e09facebc6bad43782",
            "5599bf47a59b4401944713efeae020b1",
            "d6ee62394fe442709f3e00e1c3058a99",
            "0029e4d97d134eaa942808e8eeeb75cc",
            "3aace5c213f44f3994c67f64c4f24065",
            "a80280087aa4407d9c9a66b101d166a3",
            "b829bed0c1014b71b74cc1667ee2cb95",
            "a197d558c407498fa2f488af138c4daf",
            "b00780c4347a4d07adf4158c25c5ddf2",
            "113ca9ed4e1940d084ff3e30eea2bce1",
            "be3c8da641a84611bf88fcb7a0ee3ec0",
            "529ad2ddea88417ea0f86f0f2affb599",
            "be9caf22300a41faafb1aee33c1f2f03"
          ]
        },
        "id": "UaMhYfsa-YDQ",
        "outputId": "5b6f35b3-7c72-4b3b-c058-0be662f4fc65"
      },
      "outputs": [
        {
          "name": "stdout",
          "output_type": "stream",
          "text": [
            "The repository for mdace_inpatient_icd9 contains custom code which must be executed to correctly load the dataset. You can inspect the repository content at https://hf.co/datasets/mdace_inpatient_icd9.\n",
            "You can avoid this prompt in future by passing the argument `trust_remote_code=True`.\n",
            "\n",
            "Do you wish to run the custom code? [y/N] y\n"
          ]
        },
        {
          "data": {
            "application/vnd.jupyter.widget-view+json": {
              "model_id": "5e7255fe74074122a6d0c0b882322677",
              "version_major": 2,
              "version_minor": 0
            },
            "text/plain": [
              "Generating train split: 0 examples [00:00, ? examples/s]"
            ]
          },
          "metadata": {},
          "output_type": "display_data"
        },
        {
          "data": {
            "application/vnd.jupyter.widget-view+json": {
              "model_id": "b5a4d4331e514c26bfbfc11d49cfccb5",
              "version_major": 2,
              "version_minor": 0
            },
            "text/plain": [
              "Generating validation split: 0 examples [00:00, ? examples/s]"
            ]
          },
          "metadata": {},
          "output_type": "display_data"
        },
        {
          "data": {
            "application/vnd.jupyter.widget-view+json": {
              "model_id": "b7f025c0afe04f0f97a2a9fe772e7ff6",
              "version_major": 2,
              "version_minor": 0
            },
            "text/plain": [
              "Generating test split: 0 examples [00:00, ? examples/s]"
            ]
          },
          "metadata": {},
          "output_type": "display_data"
        },
        {
          "data": {
            "application/vnd.jupyter.widget-view+json": {
              "model_id": "c8648800e899436f8adaf33a7ebe7fff",
              "version_major": 2,
              "version_minor": 0
            },
            "text/plain": [
              "Tokenizing text (num_proc=8):   0%|          | 0/355 [00:00<?, ? examples/s]"
            ]
          },
          "metadata": {},
          "output_type": "display_data"
        },
        {
          "data": {
            "application/vnd.jupyter.widget-view+json": {
              "model_id": "00e5c336a4c04092897fa1ff446bfb22",
              "version_major": 2,
              "version_minor": 0
            },
            "text/plain": [
              "Tokenizing text (num_proc=8):   0%|          | 0/122 [00:00<?, ? examples/s]"
            ]
          },
          "metadata": {},
          "output_type": "display_data"
        },
        {
          "data": {
            "application/vnd.jupyter.widget-view+json": {
              "model_id": "6d9c31d18767445cb2a0b8248b6777ab",
              "version_major": 2,
              "version_minor": 0
            },
            "text/plain": [
              "Tokenizing text (num_proc=8):   0%|          | 0/127 [00:00<?, ? examples/s]"
            ]
          },
          "metadata": {},
          "output_type": "display_data"
        },
        {
          "data": {
            "application/vnd.jupyter.widget-view+json": {
              "model_id": "2786681c344c4f59b4cdc4fa0b84162a",
              "version_major": 2,
              "version_minor": 0
            },
            "text/plain": [
              "Creating targets column:   0%|          | 0/355 [00:00<?, ? examples/s]"
            ]
          },
          "metadata": {},
          "output_type": "display_data"
        },
        {
          "data": {
            "application/vnd.jupyter.widget-view+json": {
              "model_id": "c42c353b8e5a48bf992da09cf3999627",
              "version_major": 2,
              "version_minor": 0
            },
            "text/plain": [
              "Creating targets column:   0%|          | 0/122 [00:00<?, ? examples/s]"
            ]
          },
          "metadata": {},
          "output_type": "display_data"
        },
        {
          "data": {
            "application/vnd.jupyter.widget-view+json": {
              "model_id": "d56ceecd6da044e7a71243099881a53c",
              "version_major": 2,
              "version_minor": 0
            },
            "text/plain": [
              "Creating targets column:   0%|          | 0/127 [00:00<?, ? examples/s]"
            ]
          },
          "metadata": {},
          "output_type": "display_data"
        },
        {
          "name": "stdout",
          "output_type": "stream",
          "text": [
            "Number of test targets before filtering: 702 \n"
          ]
        },
        {
          "data": {
            "application/vnd.jupyter.widget-view+json": {
              "model_id": "9f44dcd63aca446895778108e885a2dc",
              "version_major": 2,
              "version_minor": 0
            },
            "text/plain": [
              "Filter unknown targets:   0%|          | 0/355 [00:00<?, ? examples/s]"
            ]
          },
          "metadata": {},
          "output_type": "display_data"
        },
        {
          "data": {
            "application/vnd.jupyter.widget-view+json": {
              "model_id": "e0c78fb094be4fa8972c4f3339f97521",
              "version_major": 2,
              "version_minor": 0
            },
            "text/plain": [
              "Filter unknown targets:   0%|          | 0/122 [00:00<?, ? examples/s]"
            ]
          },
          "metadata": {},
          "output_type": "display_data"
        },
        {
          "data": {
            "application/vnd.jupyter.widget-view+json": {
              "model_id": "a5c7d0ebd08245e09facebc6bad43782",
              "version_major": 2,
              "version_minor": 0
            },
            "text/plain": [
              "Filter unknown targets:   0%|          | 0/127 [00:00<?, ? examples/s]"
            ]
          },
          "metadata": {},
          "output_type": "display_data"
        },
        {
          "name": "stdout",
          "output_type": "stream",
          "text": [
            "Number of test targets after filtering: 702 \n"
          ]
        },
        {
          "data": {
            "application/vnd.jupyter.widget-view+json": {
              "model_id": "5599bf47a59b4401944713efeae020b1",
              "version_major": 2,
              "version_minor": 0
            },
            "text/plain": [
              "Filtering empty targets:   0%|          | 0/355 [00:00<?, ? examples/s]"
            ]
          },
          "metadata": {},
          "output_type": "display_data"
        },
        {
          "data": {
            "application/vnd.jupyter.widget-view+json": {
              "model_id": "d6ee62394fe442709f3e00e1c3058a99",
              "version_major": 2,
              "version_minor": 0
            },
            "text/plain": [
              "Filtering empty targets:   0%|          | 0/122 [00:00<?, ? examples/s]"
            ]
          },
          "metadata": {},
          "output_type": "display_data"
        },
        {
          "data": {
            "application/vnd.jupyter.widget-view+json": {
              "model_id": "0029e4d97d134eaa942808e8eeeb75cc",
              "version_major": 2,
              "version_minor": 0
            },
            "text/plain": [
              "Filtering empty targets:   0%|          | 0/127 [00:00<?, ? examples/s]"
            ]
          },
          "metadata": {},
          "output_type": "display_data"
        },
        {
          "data": {
            "application/vnd.jupyter.widget-view+json": {
              "model_id": "3aace5c213f44f3994c67f64c4f24065",
              "version_major": 2,
              "version_minor": 0
            },
            "text/plain": [
              "Converting targets to IDs:   0%|          | 0/355 [00:00<?, ? examples/s]"
            ]
          },
          "metadata": {},
          "output_type": "display_data"
        },
        {
          "data": {
            "application/vnd.jupyter.widget-view+json": {
              "model_id": "a80280087aa4407d9c9a66b101d166a3",
              "version_major": 2,
              "version_minor": 0
            },
            "text/plain": [
              "Converting targets to IDs:   0%|          | 0/122 [00:00<?, ? examples/s]"
            ]
          },
          "metadata": {},
          "output_type": "display_data"
        },
        {
          "data": {
            "application/vnd.jupyter.widget-view+json": {
              "model_id": "b829bed0c1014b71b74cc1667ee2cb95",
              "version_major": 2,
              "version_minor": 0
            },
            "text/plain": [
              "Converting targets to IDs:   0%|          | 0/127 [00:00<?, ? examples/s]"
            ]
          },
          "metadata": {},
          "output_type": "display_data"
        },
        {
          "data": {
            "application/vnd.jupyter.widget-view+json": {
              "model_id": "a197d558c407498fa2f488af138c4daf",
              "version_major": 2,
              "version_minor": 0
            },
            "text/plain": [
              "Map:   0%|          | 0/355 [00:00<?, ? examples/s]"
            ]
          },
          "metadata": {},
          "output_type": "display_data"
        },
        {
          "data": {
            "application/vnd.jupyter.widget-view+json": {
              "model_id": "b00780c4347a4d07adf4158c25c5ddf2",
              "version_major": 2,
              "version_minor": 0
            },
            "text/plain": [
              "Map:   0%|          | 0/122 [00:00<?, ? examples/s]"
            ]
          },
          "metadata": {},
          "output_type": "display_data"
        },
        {
          "data": {
            "application/vnd.jupyter.widget-view+json": {
              "model_id": "113ca9ed4e1940d084ff3e30eea2bce1",
              "version_major": 2,
              "version_minor": 0
            },
            "text/plain": [
              "Map:   0%|          | 0/127 [00:00<?, ? examples/s]"
            ]
          },
          "metadata": {},
          "output_type": "display_data"
        },
        {
          "data": {
            "application/vnd.jupyter.widget-view+json": {
              "model_id": "be3c8da641a84611bf88fcb7a0ee3ec0",
              "version_major": 2,
              "version_minor": 0
            },
            "text/plain": [
              "Filtering all notes that are not discharge summaries:   0%|          | 0/355 [00:00<?, ? examples/s]"
            ]
          },
          "metadata": {},
          "output_type": "display_data"
        },
        {
          "data": {
            "application/vnd.jupyter.widget-view+json": {
              "model_id": "529ad2ddea88417ea0f86f0f2affb599",
              "version_major": 2,
              "version_minor": 0
            },
            "text/plain": [
              "Filtering all notes that are not discharge summaries:   0%|          | 0/122 [00:00<?, ? examples/s]"
            ]
          },
          "metadata": {},
          "output_type": "display_data"
        },
        {
          "data": {
            "application/vnd.jupyter.widget-view+json": {
              "model_id": "be9caf22300a41faafb1aee33c1f2f03",
              "version_major": 2,
              "version_minor": 0
            },
            "text/plain": [
              "Filtering all notes that are not discharge summaries:   0%|          | 0/127 [00:00<?, ? examples/s]"
            ]
          },
          "metadata": {},
          "output_type": "display_data"
        },
        {
          "name": "stdout",
          "output_type": "stream",
          "text": [
            "{'name': 'PLMICD', 'autoregressive': False, 'configs': {'model_path': 'models/roberta-base-pm-m3-voc-hf', 'chunk_size': 128, 'cross_attention': True, 'loss': 'binary_cross_entropy', 'lambda_1': 0.0, 'scale': 1, 'mask_input': False}}\n"
          ]
        }
      ],
      "source": [
        "dataset = load_and_prepare_dataset(\n",
        "    dataset_path, text_tokenizer, target_tokenizer, max_input_length, target_columns\n",
        ")\n",
        "dataset = dataset.filter(\n",
        "    lambda x: x[\"note_type\"] == \"Discharge summary\",\n",
        "    desc=\"Filtering all notes that are not discharge summaries\",\n",
        ")\n",
        "\n",
        "model, decision_boundary = load_trained_model(\n",
        "    model_path,\n",
        "    saved_config,\n",
        "    pad_token_id=text_tokenizer.pad_token_id,\n",
        "    device=device,\n",
        ")\n",
        "\n",
        "results_dir = Path(\"reports/explainability_results/\") /  run_id\n",
        "results_dir.mkdir(parents=True, exist_ok=True)"
      ]
    },
    {
      "cell_type": "code",
      "execution_count": null,
      "metadata": {
        "colab": {
          "base_uri": "https://localhost:8080/",
          "referenced_widgets": [
            "ea4fc2db3ec741ba926f6012505d430b",
            "cd436e0f753044d1a99b8fa6830ad75a",
            "f2dc2f2db98842afaa279be5721cd98a",
            "2af40da835974e7bb89d4059db38313e",
            "725e6e803429407d82650dea3abc30db",
            "c0d4961d8d6b41c2906f695b6719d9fc",
            "3ce077a87853448490c54d46905c163d",
            "085bc45ef57f461f830e830d407b744a",
            "645e7efffc7649a38657d833e04296b9",
            "82e7422b0ec14ca5bbce2802942b03bb",
            "99bc1425e47b4392af9e76ae53e62b25",
            "b3a3674cd71f4cbe9defe2d66429fe20"
          ]
        },
        "collapsed": true,
        "id": "vpRLStJqNWfu",
        "outputId": "50f7211e-c3d4-4eb0-bae8-e31a018a1318"
      },
      "outputs": [
        {
          "data": {
            "text/html": [
              "<pre style=\"white-space:pre;overflow-x:auto;line-height:normal;font-family:Menlo,'DejaVu Sans Mono',consolas,'Courier New',monospace\"><span style=\"color: #008000; text-decoration-color: #008000\">'Evaluating laat'</span>\n",
              "</pre>\n"
            ],
            "text/plain": [
              "\u001b[32m'Evaluating laat'\u001b[0m\n"
            ]
          },
          "metadata": {},
          "output_type": "display_data"
        },
        {
          "data": {
            "application/vnd.jupyter.widget-view+json": {
              "model_id": "ea4fc2db3ec741ba926f6012505d430b",
              "version_major": 2,
              "version_minor": 0
            },
            "text/plain": [
              "Output()"
            ]
          },
          "metadata": {},
          "output_type": "display_data"
        },
        {
          "data": {
            "text/html": [
              "<pre style=\"white-space:pre;overflow-x:auto;line-height:normal;font-family:Menlo,'DejaVu Sans Mono',consolas,'Courier New',monospace\"></pre>\n"
            ],
            "text/plain": []
          },
          "metadata": {},
          "output_type": "display_data"
        },
        {
          "name": "stderr",
          "output_type": "stream",
          "text": [
            "/content/explain-icd/explainable_medical_coding/utils/analysis.py:237: DataOrientationWarning: Row orientation inferred during DataFrame construction. Explicitly specify the orientation by passing `orient=\"row\"` to silence this warning.\n",
            "  df = pl.DataFrame(schema=schema, data=rows)\n",
            "sys:1: MapWithoutReturnDtypeWarning: Calling `map_elements` without specifying `return_dtype` can lead to unpredictable results. Specify `return_dtype` to silence this warning.\n",
            "sys:1: MapWithoutReturnDtypeWarning: Calling `map_elements` without specifying `return_dtype` can lead to unpredictable results. Specify `return_dtype` to silence this warning.\n",
            "sys:1: MapWithoutReturnDtypeWarning: Calling `map_elements` without specifying `return_dtype` can lead to unpredictable results. Specify `return_dtype` to silence this warning.\n",
            "sys:1: MapWithoutReturnDtypeWarning: Calling `map_elements` without specifying `return_dtype` can lead to unpredictable results. Specify `return_dtype` to silence this warning.\n",
            "sys:1: MapWithoutReturnDtypeWarning: Calling `map_elements` without specifying `return_dtype` can lead to unpredictable results. Specify `return_dtype` to silence this warning.\n",
            "sys:1: MapWithoutReturnDtypeWarning: Calling `map_elements` without specifying `return_dtype` can lead to unpredictable results. Specify `return_dtype` to silence this warning.\n"
          ]
        },
        {
          "data": {
            "application/vnd.jupyter.widget-view+json": {
              "model_id": "cd436e0f753044d1a99b8fa6830ad75a",
              "version_major": 2,
              "version_minor": 0
            },
            "text/plain": [
              "Output()"
            ]
          },
          "metadata": {},
          "output_type": "display_data"
        },
        {
          "data": {
            "text/html": [
              "<pre style=\"white-space:pre;overflow-x:auto;line-height:normal;font-family:Menlo,'DejaVu Sans Mono',consolas,'Courier New',monospace\"></pre>\n"
            ],
            "text/plain": []
          },
          "metadata": {},
          "output_type": "display_data"
        },
        {
          "name": "stderr",
          "output_type": "stream",
          "text": [
            "/content/explain-icd/explainable_medical_coding/utils/analysis.py:237: DataOrientationWarning: Row orientation inferred during DataFrame construction. Explicitly specify the orientation by passing `orient=\"row\"` to silence this warning.\n",
            "  df = pl.DataFrame(schema=schema, data=rows)\n",
            "sys:1: MapWithoutReturnDtypeWarning: Calling `map_elements` without specifying `return_dtype` can lead to unpredictable results. Specify `return_dtype` to silence this warning.\n",
            "sys:1: MapWithoutReturnDtypeWarning: Calling `map_elements` without specifying `return_dtype` can lead to unpredictable results. Specify `return_dtype` to silence this warning.\n",
            "sys:1: MapWithoutReturnDtypeWarning: Calling `map_elements` without specifying `return_dtype` can lead to unpredictable results. Specify `return_dtype` to silence this warning.\n",
            "sys:1: MapWithoutReturnDtypeWarning: Calling `map_elements` without specifying `return_dtype` can lead to unpredictable results. Specify `return_dtype` to silence this warning.\n",
            "sys:1: MapWithoutReturnDtypeWarning: Calling `map_elements` without specifying `return_dtype` can lead to unpredictable results. Specify `return_dtype` to silence this warning.\n",
            "sys:1: MapWithoutReturnDtypeWarning: Calling `map_elements` without specifying `return_dtype` can lead to unpredictable results. Specify `return_dtype` to silence this warning.\n",
            "sys:1: MapWithoutReturnDtypeWarning: Calling `map_elements` without specifying `return_dtype` can lead to unpredictable results. Specify `return_dtype` to silence this warning.\n",
            "sys:1: MapWithoutReturnDtypeWarning: Calling `map_elements` without specifying `return_dtype` can lead to unpredictable results. Specify `return_dtype` to silence this warning.\n",
            "sys:1: MapWithoutReturnDtypeWarning: Calling `map_elements` without specifying `return_dtype` can lead to unpredictable results. Specify `return_dtype` to silence this warning.\n",
            "sys:1: MapWithoutReturnDtypeWarning: Calling `map_elements` without specifying `return_dtype` can lead to unpredictable results. Specify `return_dtype` to silence this warning.\n",
            "sys:1: MapWithoutReturnDtypeWarning: Calling `map_elements` without specifying `return_dtype` can lead to unpredictable results. Specify `return_dtype` to silence this warning.\n",
            "sys:1: MapWithoutReturnDtypeWarning: Calling `map_elements` without specifying `return_dtype` can lead to unpredictable results. Specify `return_dtype` to silence this warning.\n",
            "sys:1: MapWithoutReturnDtypeWarning: Calling `map_elements` without specifying `return_dtype` can lead to unpredictable results. Specify `return_dtype` to silence this warning.\n",
            "sys:1: MapWithoutReturnDtypeWarning: Calling `map_elements` without specifying `return_dtype` can lead to unpredictable results. Specify `return_dtype` to silence this warning.\n",
            "sys:1: MapWithoutReturnDtypeWarning: Calling `map_elements` without specifying `return_dtype` can lead to unpredictable results. Specify `return_dtype` to silence this warning.\n",
            "sys:1: MapWithoutReturnDtypeWarning: Calling `map_elements` without specifying `return_dtype` can lead to unpredictable results. Specify `return_dtype` to silence this warning.\n",
            "sys:1: MapWithoutReturnDtypeWarning: Calling `map_elements` without specifying `return_dtype` can lead to unpredictable results. Specify `return_dtype` to silence this warning.\n",
            "sys:1: MapWithoutReturnDtypeWarning: Calling `map_elements` without specifying `return_dtype` can lead to unpredictable results. Specify `return_dtype` to silence this warning.\n",
            "sys:1: MapWithoutReturnDtypeWarning: Calling `map_elements` without specifying `return_dtype` can lead to unpredictable results. Specify `return_dtype` to silence this warning.\n",
            "sys:1: MapWithoutReturnDtypeWarning: Calling `map_elements` without specifying `return_dtype` can lead to unpredictable results. Specify `return_dtype` to silence this warning.\n",
            "sys:1: MapWithoutReturnDtypeWarning: Calling `map_elements` without specifying `return_dtype` can lead to unpredictable results. Specify `return_dtype` to silence this warning.\n",
            "sys:1: MapWithoutReturnDtypeWarning: Calling `map_elements` without specifying `return_dtype` can lead to unpredictable results. Specify `return_dtype` to silence this warning.\n",
            "sys:1: MapWithoutReturnDtypeWarning: Calling `map_elements` without specifying `return_dtype` can lead to unpredictable results. Specify `return_dtype` to silence this warning.\n",
            "sys:1: MapWithoutReturnDtypeWarning: Calling `map_elements` without specifying `return_dtype` can lead to unpredictable results. Specify `return_dtype` to silence this warning.\n"
          ]
        },
        {
          "data": {
            "text/html": [
              "<pre style=\"white-space:pre;overflow-x:auto;line-height:normal;font-family:Menlo,'DejaVu Sans Mono',consolas,'Courier New',monospace\"><span style=\"font-weight: bold\">{</span>\n",
              "<span style=\"color: #7fbf7f; text-decoration-color: #7fbf7f\">│   </span><span style=\"color: #008000; text-decoration-color: #008000\">'decision_boundary'</span>: <span style=\"color: #800080; text-decoration-color: #800080; font-weight: bold\">np.float64</span><span style=\"font-weight: bold\">(</span><span style=\"color: #008080; text-decoration-color: #008080; font-weight: bold\">0.047</span><span style=\"font-weight: bold\">)</span>,\n",
              "<span style=\"color: #7fbf7f; text-decoration-color: #7fbf7f\">│   </span><span style=\"color: #008000; text-decoration-color: #008000\">'precision'</span>: <span style=\"color: #008080; text-decoration-color: #008080; font-weight: bold\">0.4466501240694767</span>,\n",
              "<span style=\"color: #7fbf7f; text-decoration-color: #7fbf7f\">│   </span><span style=\"color: #008000; text-decoration-color: #008000\">'recall'</span>: <span style=\"color: #008080; text-decoration-color: #008080; font-weight: bold\">0.43041606886656897</span>,\n",
              "<span style=\"color: #7fbf7f; text-decoration-color: #7fbf7f\">│   </span><span style=\"color: #008000; text-decoration-color: #008000\">'f1'</span>: <span style=\"color: #008080; text-decoration-color: #008080; font-weight: bold\">0.4383828543544735</span>,\n",
              "<span style=\"color: #7fbf7f; text-decoration-color: #7fbf7f\">│   </span><span style=\"color: #008000; text-decoration-color: #008000\">'auprc'</span>: <span style=\"color: #800080; text-decoration-color: #800080; font-weight: bold\">np.float64</span><span style=\"font-weight: bold\">(</span><span style=\"color: #008080; text-decoration-color: #008080; font-weight: bold\">0.38625576827993124</span><span style=\"font-weight: bold\">)</span>,\n",
              "<span style=\"color: #7fbf7f; text-decoration-color: #7fbf7f\">│   </span><span style=\"color: #008000; text-decoration-color: #008000\">'average_number_of_predicted_tokens'</span>: <span style=\"color: #008080; text-decoration-color: #008080; font-weight: bold\">3.438566552901024</span>,\n",
              "<span style=\"color: #7fbf7f; text-decoration-color: #7fbf7f\">│   </span><span style=\"color: #008000; text-decoration-color: #008000\">'evidence_span_token_recall'</span>: <span style=\"color: #008080; text-decoration-color: #008080; font-weight: bold\">0.6072070728817817</span>,\n",
              "<span style=\"color: #7fbf7f; text-decoration-color: #7fbf7f\">│   </span><span style=\"color: #008000; text-decoration-color: #008000\">'evidence_span_recall'</span>: <span style=\"color: #008080; text-decoration-color: #008080; font-weight: bold\">0.7087599544869293</span>,\n",
              "<span style=\"color: #7fbf7f; text-decoration-color: #7fbf7f\">│   </span><span style=\"color: #008000; text-decoration-color: #008000\">'precision@1'</span>: <span style=\"color: #008080; text-decoration-color: #008080; font-weight: bold\">0.5477815699658704</span>,\n",
              "<span style=\"color: #7fbf7f; text-decoration-color: #7fbf7f\">│   </span><span style=\"color: #008000; text-decoration-color: #008000\">'recall@1'</span>: <span style=\"color: #008080; text-decoration-color: #008080; font-weight: bold\">0.15351506456241032</span>,\n",
              "<span style=\"color: #7fbf7f; text-decoration-color: #7fbf7f\">│   </span><span style=\"color: #008000; text-decoration-color: #008000\">'precision@5'</span>: <span style=\"color: #008080; text-decoration-color: #008080; font-weight: bold\">0.32798634812286687</span>,\n",
              "<span style=\"color: #7fbf7f; text-decoration-color: #7fbf7f\">│   </span><span style=\"color: #008000; text-decoration-color: #008000\">'recall@5'</span>: <span style=\"color: #008080; text-decoration-color: #008080; font-weight: bold\">0.45958871353419417</span>,\n",
              "<span style=\"color: #7fbf7f; text-decoration-color: #7fbf7f\">│   </span><span style=\"color: #008000; text-decoration-color: #008000\">'precision@10'</span>: <span style=\"color: #008080; text-decoration-color: #008080; font-weight: bold\">0.21313993174061432</span>,\n",
              "<span style=\"color: #7fbf7f; text-decoration-color: #7fbf7f\">│   </span><span style=\"color: #008000; text-decoration-color: #008000\">'recall@10'</span>: <span style=\"color: #008080; text-decoration-color: #008080; font-weight: bold\">0.5973218555714969</span>,\n",
              "<span style=\"color: #7fbf7f; text-decoration-color: #7fbf7f\">│   </span><span style=\"color: #008000; text-decoration-color: #008000\">'precision@50'</span>: <span style=\"color: #008080; text-decoration-color: #008080; font-weight: bold\">0.05815699658703072</span>,\n",
              "<span style=\"color: #7fbf7f; text-decoration-color: #7fbf7f\">│   </span><span style=\"color: #008000; text-decoration-color: #008000\">'recall@50'</span>: <span style=\"color: #008080; text-decoration-color: #008080; font-weight: bold\">0.8149210903873745</span>,\n",
              "<span style=\"color: #7fbf7f; text-decoration-color: #7fbf7f\">│   </span><span style=\"color: #008000; text-decoration-color: #008000\">'precision@100'</span>: <span style=\"color: #008080; text-decoration-color: #008080; font-weight: bold\">0.03107508532423208</span>,\n",
              "<span style=\"color: #7fbf7f; text-decoration-color: #7fbf7f\">│   </span><span style=\"color: #008000; text-decoration-color: #008000\">'recall@100'</span>: <span style=\"color: #008080; text-decoration-color: #008080; font-weight: bold\">0.8708751793400287</span>,\n",
              "<span style=\"color: #7fbf7f; text-decoration-color: #7fbf7f\">│   </span><span style=\"color: #008000; text-decoration-color: #008000\">'iou'</span>: <span style=\"color: #008080; text-decoration-color: #008080; font-weight: bold\">0.46747015509910533</span>,\n",
              "<span style=\"color: #7fbf7f; text-decoration-color: #7fbf7f\">│   </span><span style=\"color: #008000; text-decoration-color: #008000\">'kl_divergence'</span>: <span style=\"color: #008080; text-decoration-color: #008080; font-weight: bold\">2.1653679165070043</span>,\n",
              "<span style=\"color: #7fbf7f; text-decoration-color: #7fbf7f\">│   </span><span style=\"color: #008000; text-decoration-color: #008000\">'entropy'</span>: <span style=\"color: #008080; text-decoration-color: #008080; font-weight: bold\">0.4820229350250652</span>,\n",
              "<span style=\"color: #7fbf7f; text-decoration-color: #7fbf7f\">│   </span><span style=\"color: #008000; text-decoration-color: #008000\">'no_predictions'</span>: <span style=\"color: #008080; text-decoration-color: #008080; font-weight: bold\">0.13651877133105803</span>,\n",
              "<span style=\"color: #7fbf7f; text-decoration-color: #7fbf7f\">│   </span><span style=\"color: #008000; text-decoration-color: #008000\">'attributions_sum_zero'</span>: <span style=\"color: #008080; text-decoration-color: #008080; font-weight: bold\">0.0</span>,\n",
              "<span style=\"color: #7fbf7f; text-decoration-color: #7fbf7f\">│   </span><span style=\"color: #008000; text-decoration-color: #008000\">'explainability_method'</span>: <span style=\"color: #008000; text-decoration-color: #008000\">'laat'</span>,\n",
              "<span style=\"color: #7fbf7f; text-decoration-color: #7fbf7f\">│   </span><span style=\"color: #008000; text-decoration-color: #008000\">'prediction_split'</span>: <span style=\"color: #008000; text-decoration-color: #008000\">'all'</span>\n",
              "<span style=\"font-weight: bold\">}</span>\n",
              "</pre>\n"
            ],
            "text/plain": [
              "\u001b[1m{\u001b[0m\n",
              "\u001b[2;32m│   \u001b[0m\u001b[32m'decision_boundary'\u001b[0m: \u001b[1;35mnp.float64\u001b[0m\u001b[1m(\u001b[0m\u001b[1;36m0.047\u001b[0m\u001b[1m)\u001b[0m,\n",
              "\u001b[2;32m│   \u001b[0m\u001b[32m'precision'\u001b[0m: \u001b[1;36m0.4466501240694767\u001b[0m,\n",
              "\u001b[2;32m│   \u001b[0m\u001b[32m'recall'\u001b[0m: \u001b[1;36m0.43041606886656897\u001b[0m,\n",
              "\u001b[2;32m│   \u001b[0m\u001b[32m'f1'\u001b[0m: \u001b[1;36m0.4383828543544735\u001b[0m,\n",
              "\u001b[2;32m│   \u001b[0m\u001b[32m'auprc'\u001b[0m: \u001b[1;35mnp.float64\u001b[0m\u001b[1m(\u001b[0m\u001b[1;36m0.38625576827993124\u001b[0m\u001b[1m)\u001b[0m,\n",
              "\u001b[2;32m│   \u001b[0m\u001b[32m'average_number_of_predicted_tokens'\u001b[0m: \u001b[1;36m3.438566552901024\u001b[0m,\n",
              "\u001b[2;32m│   \u001b[0m\u001b[32m'evidence_span_token_recall'\u001b[0m: \u001b[1;36m0.6072070728817817\u001b[0m,\n",
              "\u001b[2;32m│   \u001b[0m\u001b[32m'evidence_span_recall'\u001b[0m: \u001b[1;36m0.7087599544869293\u001b[0m,\n",
              "\u001b[2;32m│   \u001b[0m\u001b[32m'precision@1'\u001b[0m: \u001b[1;36m0.5477815699658704\u001b[0m,\n",
              "\u001b[2;32m│   \u001b[0m\u001b[32m'recall@1'\u001b[0m: \u001b[1;36m0.15351506456241032\u001b[0m,\n",
              "\u001b[2;32m│   \u001b[0m\u001b[32m'precision@5'\u001b[0m: \u001b[1;36m0.32798634812286687\u001b[0m,\n",
              "\u001b[2;32m│   \u001b[0m\u001b[32m'recall@5'\u001b[0m: \u001b[1;36m0.45958871353419417\u001b[0m,\n",
              "\u001b[2;32m│   \u001b[0m\u001b[32m'precision@10'\u001b[0m: \u001b[1;36m0.21313993174061432\u001b[0m,\n",
              "\u001b[2;32m│   \u001b[0m\u001b[32m'recall@10'\u001b[0m: \u001b[1;36m0.5973218555714969\u001b[0m,\n",
              "\u001b[2;32m│   \u001b[0m\u001b[32m'precision@50'\u001b[0m: \u001b[1;36m0.05815699658703072\u001b[0m,\n",
              "\u001b[2;32m│   \u001b[0m\u001b[32m'recall@50'\u001b[0m: \u001b[1;36m0.8149210903873745\u001b[0m,\n",
              "\u001b[2;32m│   \u001b[0m\u001b[32m'precision@100'\u001b[0m: \u001b[1;36m0.03107508532423208\u001b[0m,\n",
              "\u001b[2;32m│   \u001b[0m\u001b[32m'recall@100'\u001b[0m: \u001b[1;36m0.8708751793400287\u001b[0m,\n",
              "\u001b[2;32m│   \u001b[0m\u001b[32m'iou'\u001b[0m: \u001b[1;36m0.46747015509910533\u001b[0m,\n",
              "\u001b[2;32m│   \u001b[0m\u001b[32m'kl_divergence'\u001b[0m: \u001b[1;36m2.1653679165070043\u001b[0m,\n",
              "\u001b[2;32m│   \u001b[0m\u001b[32m'entropy'\u001b[0m: \u001b[1;36m0.4820229350250652\u001b[0m,\n",
              "\u001b[2;32m│   \u001b[0m\u001b[32m'no_predictions'\u001b[0m: \u001b[1;36m0.13651877133105803\u001b[0m,\n",
              "\u001b[2;32m│   \u001b[0m\u001b[32m'attributions_sum_zero'\u001b[0m: \u001b[1;36m0.0\u001b[0m,\n",
              "\u001b[2;32m│   \u001b[0m\u001b[32m'explainability_method'\u001b[0m: \u001b[32m'laat'\u001b[0m,\n",
              "\u001b[2;32m│   \u001b[0m\u001b[32m'prediction_split'\u001b[0m: \u001b[32m'all'\u001b[0m\n",
              "\u001b[1m}\u001b[0m\n"
            ]
          },
          "metadata": {},
          "output_type": "display_data"
        },
        {
          "name": "stderr",
          "output_type": "stream",
          "text": [
            "sys:1: MapWithoutReturnDtypeWarning: Calling `map_elements` without specifying `return_dtype` can lead to unpredictable results. Specify `return_dtype` to silence this warning.\n",
            "sys:1: MapWithoutReturnDtypeWarning: Calling `map_elements` without specifying `return_dtype` can lead to unpredictable results. Specify `return_dtype` to silence this warning.\n",
            "sys:1: MapWithoutReturnDtypeWarning: Calling `map_elements` without specifying `return_dtype` can lead to unpredictable results. Specify `return_dtype` to silence this warning.\n",
            "sys:1: MapWithoutReturnDtypeWarning: Calling `map_elements` without specifying `return_dtype` can lead to unpredictable results. Specify `return_dtype` to silence this warning.\n",
            "sys:1: MapWithoutReturnDtypeWarning: Calling `map_elements` without specifying `return_dtype` can lead to unpredictable results. Specify `return_dtype` to silence this warning.\n",
            "sys:1: MapWithoutReturnDtypeWarning: Calling `map_elements` without specifying `return_dtype` can lead to unpredictable results. Specify `return_dtype` to silence this warning.\n",
            "sys:1: MapWithoutReturnDtypeWarning: Calling `map_elements` without specifying `return_dtype` can lead to unpredictable results. Specify `return_dtype` to silence this warning.\n",
            "sys:1: MapWithoutReturnDtypeWarning: Calling `map_elements` without specifying `return_dtype` can lead to unpredictable results. Specify `return_dtype` to silence this warning.\n",
            "sys:1: MapWithoutReturnDtypeWarning: Calling `map_elements` without specifying `return_dtype` can lead to unpredictable results. Specify `return_dtype` to silence this warning.\n",
            "sys:1: MapWithoutReturnDtypeWarning: Calling `map_elements` without specifying `return_dtype` can lead to unpredictable results. Specify `return_dtype` to silence this warning.\n",
            "sys:1: MapWithoutReturnDtypeWarning: Calling `map_elements` without specifying `return_dtype` can lead to unpredictable results. Specify `return_dtype` to silence this warning.\n",
            "sys:1: MapWithoutReturnDtypeWarning: Calling `map_elements` without specifying `return_dtype` can lead to unpredictable results. Specify `return_dtype` to silence this warning.\n",
            "sys:1: MapWithoutReturnDtypeWarning: Calling `map_elements` without specifying `return_dtype` can lead to unpredictable results. Specify `return_dtype` to silence this warning.\n",
            "sys:1: MapWithoutReturnDtypeWarning: Calling `map_elements` without specifying `return_dtype` can lead to unpredictable results. Specify `return_dtype` to silence this warning.\n",
            "sys:1: MapWithoutReturnDtypeWarning: Calling `map_elements` without specifying `return_dtype` can lead to unpredictable results. Specify `return_dtype` to silence this warning.\n",
            "sys:1: MapWithoutReturnDtypeWarning: Calling `map_elements` without specifying `return_dtype` can lead to unpredictable results. Specify `return_dtype` to silence this warning.\n",
            "sys:1: MapWithoutReturnDtypeWarning: Calling `map_elements` without specifying `return_dtype` can lead to unpredictable results. Specify `return_dtype` to silence this warning.\n",
            "sys:1: MapWithoutReturnDtypeWarning: Calling `map_elements` without specifying `return_dtype` can lead to unpredictable results. Specify `return_dtype` to silence this warning.\n"
          ]
        },
        {
          "data": {
            "text/html": [
              "<pre style=\"white-space:pre;overflow-x:auto;line-height:normal;font-family:Menlo,'DejaVu Sans Mono',consolas,'Courier New',monospace\"><span style=\"font-weight: bold\">{</span>\n",
              "<span style=\"color: #7fbf7f; text-decoration-color: #7fbf7f\">│   </span><span style=\"color: #008000; text-decoration-color: #008000\">'decision_boundary'</span>: <span style=\"color: #800080; text-decoration-color: #800080; font-weight: bold\">np.float64</span><span style=\"font-weight: bold\">(</span><span style=\"color: #008080; text-decoration-color: #008080; font-weight: bold\">0.047</span><span style=\"font-weight: bold\">)</span>,\n",
              "<span style=\"color: #7fbf7f; text-decoration-color: #7fbf7f\">│   </span><span style=\"color: #008000; text-decoration-color: #008000\">'precision'</span>: <span style=\"color: #008080; text-decoration-color: #008080; font-weight: bold\">0.4380719951189723</span>,\n",
              "<span style=\"color: #7fbf7f; text-decoration-color: #7fbf7f\">│   </span><span style=\"color: #008000; text-decoration-color: #008000\">'recall'</span>: <span style=\"color: #008080; text-decoration-color: #008080; font-weight: bold\">0.5095812633073066</span>,\n",
              "<span style=\"color: #7fbf7f; text-decoration-color: #7fbf7f\">│   </span><span style=\"color: #008000; text-decoration-color: #008000\">'f1'</span>: <span style=\"color: #008080; text-decoration-color: #008080; font-weight: bold\">0.4711286089189099</span>,\n",
              "<span style=\"color: #7fbf7f; text-decoration-color: #7fbf7f\">│   </span><span style=\"color: #008000; text-decoration-color: #008000\">'auprc'</span>: <span style=\"color: #800080; text-decoration-color: #800080; font-weight: bold\">np.float64</span><span style=\"font-weight: bold\">(</span><span style=\"color: #008080; text-decoration-color: #008080; font-weight: bold\">0.42579981215462376</span><span style=\"font-weight: bold\">)</span>,\n",
              "<span style=\"color: #7fbf7f; text-decoration-color: #7fbf7f\">│   </span><span style=\"color: #008000; text-decoration-color: #008000\">'average_number_of_predicted_tokens'</span>: <span style=\"color: #008080; text-decoration-color: #008080; font-weight: bold\">4.077114427860696</span>,\n",
              "<span style=\"color: #7fbf7f; text-decoration-color: #7fbf7f\">│   </span><span style=\"color: #008000; text-decoration-color: #008000\">'evidence_span_token_recall'</span>: <span style=\"color: #008080; text-decoration-color: #008080; font-weight: bold\">0.7044018826626642</span>,\n",
              "<span style=\"color: #7fbf7f; text-decoration-color: #7fbf7f\">│   </span><span style=\"color: #008000; text-decoration-color: #008000\">'evidence_span_recall'</span>: <span style=\"color: #008080; text-decoration-color: #008080; font-weight: bold\">0.8055555555478809</span>,\n",
              "<span style=\"color: #7fbf7f; text-decoration-color: #7fbf7f\">│   </span><span style=\"color: #008000; text-decoration-color: #008000\">'precision@1'</span>: <span style=\"color: #008080; text-decoration-color: #008080; font-weight: bold\">0.5845771144278606</span>,\n",
              "<span style=\"color: #7fbf7f; text-decoration-color: #7fbf7f\">│   </span><span style=\"color: #008000; text-decoration-color: #008000\">'recall@1'</span>: <span style=\"color: #008080; text-decoration-color: #008080; font-weight: bold\">0.16678495386799147</span>,\n",
              "<span style=\"color: #7fbf7f; text-decoration-color: #7fbf7f\">│   </span><span style=\"color: #008000; text-decoration-color: #008000\">'precision@5'</span>: <span style=\"color: #008080; text-decoration-color: #008080; font-weight: bold\">0.3502487562189055</span>,\n",
              "<span style=\"color: #7fbf7f; text-decoration-color: #7fbf7f\">│   </span><span style=\"color: #008000; text-decoration-color: #008000\">'recall@5'</span>: <span style=\"color: #008080; text-decoration-color: #008080; font-weight: bold\">0.49964513839602553</span>,\n",
              "<span style=\"color: #7fbf7f; text-decoration-color: #7fbf7f\">│   </span><span style=\"color: #008000; text-decoration-color: #008000\">'precision@10'</span>: <span style=\"color: #008080; text-decoration-color: #008080; font-weight: bold\">0.22611940298507463</span>,\n",
              "<span style=\"color: #7fbf7f; text-decoration-color: #7fbf7f\">│   </span><span style=\"color: #008000; text-decoration-color: #008000\">'recall@10'</span>: <span style=\"color: #008080; text-decoration-color: #008080; font-weight: bold\">0.64513839602555</span>,\n",
              "<span style=\"color: #7fbf7f; text-decoration-color: #7fbf7f\">│   </span><span style=\"color: #008000; text-decoration-color: #008000\">'precision@50'</span>: <span style=\"color: #008080; text-decoration-color: #008080; font-weight: bold\">0.060497512437810944</span>,\n",
              "<span style=\"color: #7fbf7f; text-decoration-color: #7fbf7f\">│   </span><span style=\"color: #008000; text-decoration-color: #008000\">'recall@50'</span>: <span style=\"color: #008080; text-decoration-color: #008080; font-weight: bold\">0.8630234208658624</span>,\n",
              "<span style=\"color: #7fbf7f; text-decoration-color: #7fbf7f\">│   </span><span style=\"color: #008000; text-decoration-color: #008000\">'precision@100'</span>: <span style=\"color: #008080; text-decoration-color: #008080; font-weight: bold\">0.03221393034825871</span>,\n",
              "<span style=\"color: #7fbf7f; text-decoration-color: #7fbf7f\">│   </span><span style=\"color: #008000; text-decoration-color: #008000\">'recall@100'</span>: <span style=\"color: #008080; text-decoration-color: #008080; font-weight: bold\">0.9190915542938254</span>,\n",
              "<span style=\"color: #7fbf7f; text-decoration-color: #7fbf7f\">│   </span><span style=\"color: #008000; text-decoration-color: #008000\">'iou'</span>: <span style=\"color: #008080; text-decoration-color: #008080; font-weight: bold\">0.5014154829503968</span>,\n",
              "<span style=\"color: #7fbf7f; text-decoration-color: #7fbf7f\">│   </span><span style=\"color: #008000; text-decoration-color: #008000\">'kl_divergence'</span>: <span style=\"color: #008080; text-decoration-color: #008080; font-weight: bold\">1.7784589359681684</span>,\n",
              "<span style=\"color: #7fbf7f; text-decoration-color: #7fbf7f\">│   </span><span style=\"color: #008000; text-decoration-color: #008000\">'entropy'</span>: <span style=\"color: #008080; text-decoration-color: #008080; font-weight: bold\">0.404527097037816</span>,\n",
              "<span style=\"color: #7fbf7f; text-decoration-color: #7fbf7f\">│   </span><span style=\"color: #008000; text-decoration-color: #008000\">'no_predictions'</span>: <span style=\"color: #008080; text-decoration-color: #008080; font-weight: bold\">0.04477611940298507</span>,\n",
              "<span style=\"color: #7fbf7f; text-decoration-color: #7fbf7f\">│   </span><span style=\"color: #008000; text-decoration-color: #008000\">'attributions_sum_zero'</span>: <span style=\"color: #008080; text-decoration-color: #008080; font-weight: bold\">0.0</span>,\n",
              "<span style=\"color: #7fbf7f; text-decoration-color: #7fbf7f\">│   </span><span style=\"color: #008000; text-decoration-color: #008000\">'explainability_method'</span>: <span style=\"color: #008000; text-decoration-color: #008000\">'laat'</span>,\n",
              "<span style=\"color: #7fbf7f; text-decoration-color: #7fbf7f\">│   </span><span style=\"color: #008000; text-decoration-color: #008000\">'prediction_split'</span>: <span style=\"color: #008000; text-decoration-color: #008000\">'predicted'</span>\n",
              "<span style=\"font-weight: bold\">}</span>\n",
              "</pre>\n"
            ],
            "text/plain": [
              "\u001b[1m{\u001b[0m\n",
              "\u001b[2;32m│   \u001b[0m\u001b[32m'decision_boundary'\u001b[0m: \u001b[1;35mnp.float64\u001b[0m\u001b[1m(\u001b[0m\u001b[1;36m0.047\u001b[0m\u001b[1m)\u001b[0m,\n",
              "\u001b[2;32m│   \u001b[0m\u001b[32m'precision'\u001b[0m: \u001b[1;36m0.4380719951189723\u001b[0m,\n",
              "\u001b[2;32m│   \u001b[0m\u001b[32m'recall'\u001b[0m: \u001b[1;36m0.5095812633073066\u001b[0m,\n",
              "\u001b[2;32m│   \u001b[0m\u001b[32m'f1'\u001b[0m: \u001b[1;36m0.4711286089189099\u001b[0m,\n",
              "\u001b[2;32m│   \u001b[0m\u001b[32m'auprc'\u001b[0m: \u001b[1;35mnp.float64\u001b[0m\u001b[1m(\u001b[0m\u001b[1;36m0.42579981215462376\u001b[0m\u001b[1m)\u001b[0m,\n",
              "\u001b[2;32m│   \u001b[0m\u001b[32m'average_number_of_predicted_tokens'\u001b[0m: \u001b[1;36m4.077114427860696\u001b[0m,\n",
              "\u001b[2;32m│   \u001b[0m\u001b[32m'evidence_span_token_recall'\u001b[0m: \u001b[1;36m0.7044018826626642\u001b[0m,\n",
              "\u001b[2;32m│   \u001b[0m\u001b[32m'evidence_span_recall'\u001b[0m: \u001b[1;36m0.8055555555478809\u001b[0m,\n",
              "\u001b[2;32m│   \u001b[0m\u001b[32m'precision@1'\u001b[0m: \u001b[1;36m0.5845771144278606\u001b[0m,\n",
              "\u001b[2;32m│   \u001b[0m\u001b[32m'recall@1'\u001b[0m: \u001b[1;36m0.16678495386799147\u001b[0m,\n",
              "\u001b[2;32m│   \u001b[0m\u001b[32m'precision@5'\u001b[0m: \u001b[1;36m0.3502487562189055\u001b[0m,\n",
              "\u001b[2;32m│   \u001b[0m\u001b[32m'recall@5'\u001b[0m: \u001b[1;36m0.49964513839602553\u001b[0m,\n",
              "\u001b[2;32m│   \u001b[0m\u001b[32m'precision@10'\u001b[0m: \u001b[1;36m0.22611940298507463\u001b[0m,\n",
              "\u001b[2;32m│   \u001b[0m\u001b[32m'recall@10'\u001b[0m: \u001b[1;36m0.64513839602555\u001b[0m,\n",
              "\u001b[2;32m│   \u001b[0m\u001b[32m'precision@50'\u001b[0m: \u001b[1;36m0.060497512437810944\u001b[0m,\n",
              "\u001b[2;32m│   \u001b[0m\u001b[32m'recall@50'\u001b[0m: \u001b[1;36m0.8630234208658624\u001b[0m,\n",
              "\u001b[2;32m│   \u001b[0m\u001b[32m'precision@100'\u001b[0m: \u001b[1;36m0.03221393034825871\u001b[0m,\n",
              "\u001b[2;32m│   \u001b[0m\u001b[32m'recall@100'\u001b[0m: \u001b[1;36m0.9190915542938254\u001b[0m,\n",
              "\u001b[2;32m│   \u001b[0m\u001b[32m'iou'\u001b[0m: \u001b[1;36m0.5014154829503968\u001b[0m,\n",
              "\u001b[2;32m│   \u001b[0m\u001b[32m'kl_divergence'\u001b[0m: \u001b[1;36m1.7784589359681684\u001b[0m,\n",
              "\u001b[2;32m│   \u001b[0m\u001b[32m'entropy'\u001b[0m: \u001b[1;36m0.404527097037816\u001b[0m,\n",
              "\u001b[2;32m│   \u001b[0m\u001b[32m'no_predictions'\u001b[0m: \u001b[1;36m0.04477611940298507\u001b[0m,\n",
              "\u001b[2;32m│   \u001b[0m\u001b[32m'attributions_sum_zero'\u001b[0m: \u001b[1;36m0.0\u001b[0m,\n",
              "\u001b[2;32m│   \u001b[0m\u001b[32m'explainability_method'\u001b[0m: \u001b[32m'laat'\u001b[0m,\n",
              "\u001b[2;32m│   \u001b[0m\u001b[32m'prediction_split'\u001b[0m: \u001b[32m'predicted'\u001b[0m\n",
              "\u001b[1m}\u001b[0m\n"
            ]
          },
          "metadata": {},
          "output_type": "display_data"
        },
        {
          "name": "stderr",
          "output_type": "stream",
          "text": [
            "sys:1: MapWithoutReturnDtypeWarning: Calling `map_elements` without specifying `return_dtype` can lead to unpredictable results. Specify `return_dtype` to silence this warning.\n",
            "sys:1: MapWithoutReturnDtypeWarning: Calling `map_elements` without specifying `return_dtype` can lead to unpredictable results. Specify `return_dtype` to silence this warning.\n",
            "sys:1: MapWithoutReturnDtypeWarning: Calling `map_elements` without specifying `return_dtype` can lead to unpredictable results. Specify `return_dtype` to silence this warning.\n",
            "sys:1: MapWithoutReturnDtypeWarning: Calling `map_elements` without specifying `return_dtype` can lead to unpredictable results. Specify `return_dtype` to silence this warning.\n",
            "sys:1: MapWithoutReturnDtypeWarning: Calling `map_elements` without specifying `return_dtype` can lead to unpredictable results. Specify `return_dtype` to silence this warning.\n",
            "sys:1: MapWithoutReturnDtypeWarning: Calling `map_elements` without specifying `return_dtype` can lead to unpredictable results. Specify `return_dtype` to silence this warning.\n",
            "sys:1: MapWithoutReturnDtypeWarning: Calling `map_elements` without specifying `return_dtype` can lead to unpredictable results. Specify `return_dtype` to silence this warning.\n",
            "sys:1: MapWithoutReturnDtypeWarning: Calling `map_elements` without specifying `return_dtype` can lead to unpredictable results. Specify `return_dtype` to silence this warning.\n",
            "sys:1: MapWithoutReturnDtypeWarning: Calling `map_elements` without specifying `return_dtype` can lead to unpredictable results. Specify `return_dtype` to silence this warning.\n",
            "sys:1: MapWithoutReturnDtypeWarning: Calling `map_elements` without specifying `return_dtype` can lead to unpredictable results. Specify `return_dtype` to silence this warning.\n",
            "sys:1: MapWithoutReturnDtypeWarning: Calling `map_elements` without specifying `return_dtype` can lead to unpredictable results. Specify `return_dtype` to silence this warning.\n",
            "sys:1: MapWithoutReturnDtypeWarning: Calling `map_elements` without specifying `return_dtype` can lead to unpredictable results. Specify `return_dtype` to silence this warning.\n",
            "sys:1: MapWithoutReturnDtypeWarning: Calling `map_elements` without specifying `return_dtype` can lead to unpredictable results. Specify `return_dtype` to silence this warning.\n",
            "sys:1: MapWithoutReturnDtypeWarning: Calling `map_elements` without specifying `return_dtype` can lead to unpredictable results. Specify `return_dtype` to silence this warning.\n",
            "sys:1: MapWithoutReturnDtypeWarning: Calling `map_elements` without specifying `return_dtype` can lead to unpredictable results. Specify `return_dtype` to silence this warning.\n",
            "sys:1: MapWithoutReturnDtypeWarning: Calling `map_elements` without specifying `return_dtype` can lead to unpredictable results. Specify `return_dtype` to silence this warning.\n",
            "sys:1: MapWithoutReturnDtypeWarning: Calling `map_elements` without specifying `return_dtype` can lead to unpredictable results. Specify `return_dtype` to silence this warning.\n",
            "sys:1: MapWithoutReturnDtypeWarning: Calling `map_elements` without specifying `return_dtype` can lead to unpredictable results. Specify `return_dtype` to silence this warning.\n"
          ]
        },
        {
          "data": {
            "text/html": [
              "<pre style=\"white-space:pre;overflow-x:auto;line-height:normal;font-family:Menlo,'DejaVu Sans Mono',consolas,'Courier New',monospace\"><span style=\"font-weight: bold\">{</span>\n",
              "<span style=\"color: #7fbf7f; text-decoration-color: #7fbf7f\">│   </span><span style=\"color: #008000; text-decoration-color: #008000\">'decision_boundary'</span>: <span style=\"color: #800080; text-decoration-color: #800080; font-weight: bold\">np.float64</span><span style=\"font-weight: bold\">(</span><span style=\"color: #008080; text-decoration-color: #008080; font-weight: bold\">0.047</span><span style=\"font-weight: bold\">)</span>,\n",
              "<span style=\"color: #7fbf7f; text-decoration-color: #7fbf7f\">│   </span><span style=\"color: #008000; text-decoration-color: #008000\">'precision'</span>: <span style=\"color: #008080; text-decoration-color: #008080; font-weight: bold\">0.4840425531914765</span>,\n",
              "<span style=\"color: #7fbf7f; text-decoration-color: #7fbf7f\">│   </span><span style=\"color: #008000; text-decoration-color: #008000\">'recall'</span>: <span style=\"color: #008080; text-decoration-color: #008080; font-weight: bold\">0.26686217008797264</span>,\n",
              "<span style=\"color: #7fbf7f; text-decoration-color: #7fbf7f\">│   </span><span style=\"color: #008000; text-decoration-color: #008000\">'f1'</span>: <span style=\"color: #008080; text-decoration-color: #008080; font-weight: bold\">0.34404536861544954</span>,\n",
              "<span style=\"color: #7fbf7f; text-decoration-color: #7fbf7f\">│   </span><span style=\"color: #008000; text-decoration-color: #008000\">'auprc'</span>: <span style=\"color: #800080; text-decoration-color: #800080; font-weight: bold\">np.float64</span><span style=\"font-weight: bold\">(</span><span style=\"color: #008080; text-decoration-color: #008080; font-weight: bold\">0.3133537741030251</span><span style=\"font-weight: bold\">)</span>,\n",
              "<span style=\"color: #7fbf7f; text-decoration-color: #7fbf7f\">│   </span><span style=\"color: #008000; text-decoration-color: #008000\">'average_number_of_predicted_tokens'</span>: <span style=\"color: #008080; text-decoration-color: #008080; font-weight: bold\">2.0434782608695654</span>,\n",
              "<span style=\"color: #7fbf7f; text-decoration-color: #7fbf7f\">│   </span><span style=\"color: #008000; text-decoration-color: #008000\">'evidence_span_token_recall'</span>: <span style=\"color: #008080; text-decoration-color: #008080; font-weight: bold\">0.3948575428170277</span>,\n",
              "<span style=\"color: #7fbf7f; text-decoration-color: #7fbf7f\">│   </span><span style=\"color: #008000; text-decoration-color: #008000\">'evidence_span_recall'</span>: <span style=\"color: #008080; text-decoration-color: #008080; font-weight: bold\">0.4972826086907202</span>,\n",
              "<span style=\"color: #7fbf7f; text-decoration-color: #7fbf7f\">│   </span><span style=\"color: #008000; text-decoration-color: #008000\">'precision@1'</span>: <span style=\"color: #008080; text-decoration-color: #008080; font-weight: bold\">0.4673913043478261</span>,\n",
              "<span style=\"color: #7fbf7f; text-decoration-color: #7fbf7f\">│   </span><span style=\"color: #008000; text-decoration-color: #008000\">'recall@1'</span>: <span style=\"color: #008080; text-decoration-color: #008080; font-weight: bold\">0.12609970674486803</span>,\n",
              "<span style=\"color: #7fbf7f; text-decoration-color: #7fbf7f\">│   </span><span style=\"color: #008000; text-decoration-color: #008000\">'precision@5'</span>: <span style=\"color: #008080; text-decoration-color: #008080; font-weight: bold\">0.2793478260869565</span>,\n",
              "<span style=\"color: #7fbf7f; text-decoration-color: #7fbf7f\">│   </span><span style=\"color: #008000; text-decoration-color: #008000\">'recall@5'</span>: <span style=\"color: #008080; text-decoration-color: #008080; font-weight: bold\">0.37683284457478006</span>,\n",
              "<span style=\"color: #7fbf7f; text-decoration-color: #7fbf7f\">│   </span><span style=\"color: #008000; text-decoration-color: #008000\">'precision@10'</span>: <span style=\"color: #008080; text-decoration-color: #008080; font-weight: bold\">0.18478260869565216</span>,\n",
              "<span style=\"color: #7fbf7f; text-decoration-color: #7fbf7f\">│   </span><span style=\"color: #008000; text-decoration-color: #008000\">'recall@10'</span>: <span style=\"color: #008080; text-decoration-color: #008080; font-weight: bold\">0.49853372434017595</span>,\n",
              "<span style=\"color: #7fbf7f; text-decoration-color: #7fbf7f\">│   </span><span style=\"color: #008000; text-decoration-color: #008000\">'precision@50'</span>: <span style=\"color: #008080; text-decoration-color: #008080; font-weight: bold\">0.05304347826086957</span>,\n",
              "<span style=\"color: #7fbf7f; text-decoration-color: #7fbf7f\">│   </span><span style=\"color: #008000; text-decoration-color: #008000\">'recall@50'</span>: <span style=\"color: #008080; text-decoration-color: #008080; font-weight: bold\">0.7155425219941349</span>,\n",
              "<span style=\"color: #7fbf7f; text-decoration-color: #7fbf7f\">│   </span><span style=\"color: #008000; text-decoration-color: #008000\">'precision@100'</span>: <span style=\"color: #008080; text-decoration-color: #008080; font-weight: bold\">0.02858695652173913</span>,\n",
              "<span style=\"color: #7fbf7f; text-decoration-color: #7fbf7f\">│   </span><span style=\"color: #008000; text-decoration-color: #008000\">'recall@100'</span>: <span style=\"color: #008080; text-decoration-color: #008080; font-weight: bold\">0.7712609970674487</span>,\n",
              "<span style=\"color: #7fbf7f; text-decoration-color: #7fbf7f\">│   </span><span style=\"color: #008000; text-decoration-color: #008000\">'iou'</span>: <span style=\"color: #008080; text-decoration-color: #008080; font-weight: bold\">0.3933069931631313</span>,\n",
              "<span style=\"color: #7fbf7f; text-decoration-color: #7fbf7f\">│   </span><span style=\"color: #008000; text-decoration-color: #008000\">'kl_divergence'</span>: <span style=\"color: #008080; text-decoration-color: #008080; font-weight: bold\">3.010679928336418</span>,\n",
              "<span style=\"color: #7fbf7f; text-decoration-color: #7fbf7f\">│   </span><span style=\"color: #008000; text-decoration-color: #008000\">'entropy'</span>: <span style=\"color: #008080; text-decoration-color: #008080; font-weight: bold\">0.651334494105903</span>,\n",
              "<span style=\"color: #7fbf7f; text-decoration-color: #7fbf7f\">│   </span><span style=\"color: #008000; text-decoration-color: #008000\">'no_predictions'</span>: <span style=\"color: #008080; text-decoration-color: #008080; font-weight: bold\">0.33695652173913043</span>,\n",
              "<span style=\"color: #7fbf7f; text-decoration-color: #7fbf7f\">│   </span><span style=\"color: #008000; text-decoration-color: #008000\">'attributions_sum_zero'</span>: <span style=\"color: #008080; text-decoration-color: #008080; font-weight: bold\">0.0</span>,\n",
              "<span style=\"color: #7fbf7f; text-decoration-color: #7fbf7f\">│   </span><span style=\"color: #008000; text-decoration-color: #008000\">'explainability_method'</span>: <span style=\"color: #008000; text-decoration-color: #008000\">'laat'</span>,\n",
              "<span style=\"color: #7fbf7f; text-decoration-color: #7fbf7f\">│   </span><span style=\"color: #008000; text-decoration-color: #008000\">'prediction_split'</span>: <span style=\"color: #008000; text-decoration-color: #008000\">'not_predicted'</span>\n",
              "<span style=\"font-weight: bold\">}</span>\n",
              "</pre>\n"
            ],
            "text/plain": [
              "\u001b[1m{\u001b[0m\n",
              "\u001b[2;32m│   \u001b[0m\u001b[32m'decision_boundary'\u001b[0m: \u001b[1;35mnp.float64\u001b[0m\u001b[1m(\u001b[0m\u001b[1;36m0.047\u001b[0m\u001b[1m)\u001b[0m,\n",
              "\u001b[2;32m│   \u001b[0m\u001b[32m'precision'\u001b[0m: \u001b[1;36m0.4840425531914765\u001b[0m,\n",
              "\u001b[2;32m│   \u001b[0m\u001b[32m'recall'\u001b[0m: \u001b[1;36m0.26686217008797264\u001b[0m,\n",
              "\u001b[2;32m│   \u001b[0m\u001b[32m'f1'\u001b[0m: \u001b[1;36m0.34404536861544954\u001b[0m,\n",
              "\u001b[2;32m│   \u001b[0m\u001b[32m'auprc'\u001b[0m: \u001b[1;35mnp.float64\u001b[0m\u001b[1m(\u001b[0m\u001b[1;36m0.3133537741030251\u001b[0m\u001b[1m)\u001b[0m,\n",
              "\u001b[2;32m│   \u001b[0m\u001b[32m'average_number_of_predicted_tokens'\u001b[0m: \u001b[1;36m2.0434782608695654\u001b[0m,\n",
              "\u001b[2;32m│   \u001b[0m\u001b[32m'evidence_span_token_recall'\u001b[0m: \u001b[1;36m0.3948575428170277\u001b[0m,\n",
              "\u001b[2;32m│   \u001b[0m\u001b[32m'evidence_span_recall'\u001b[0m: \u001b[1;36m0.4972826086907202\u001b[0m,\n",
              "\u001b[2;32m│   \u001b[0m\u001b[32m'precision@1'\u001b[0m: \u001b[1;36m0.4673913043478261\u001b[0m,\n",
              "\u001b[2;32m│   \u001b[0m\u001b[32m'recall@1'\u001b[0m: \u001b[1;36m0.12609970674486803\u001b[0m,\n",
              "\u001b[2;32m│   \u001b[0m\u001b[32m'precision@5'\u001b[0m: \u001b[1;36m0.2793478260869565\u001b[0m,\n",
              "\u001b[2;32m│   \u001b[0m\u001b[32m'recall@5'\u001b[0m: \u001b[1;36m0.37683284457478006\u001b[0m,\n",
              "\u001b[2;32m│   \u001b[0m\u001b[32m'precision@10'\u001b[0m: \u001b[1;36m0.18478260869565216\u001b[0m,\n",
              "\u001b[2;32m│   \u001b[0m\u001b[32m'recall@10'\u001b[0m: \u001b[1;36m0.49853372434017595\u001b[0m,\n",
              "\u001b[2;32m│   \u001b[0m\u001b[32m'precision@50'\u001b[0m: \u001b[1;36m0.05304347826086957\u001b[0m,\n",
              "\u001b[2;32m│   \u001b[0m\u001b[32m'recall@50'\u001b[0m: \u001b[1;36m0.7155425219941349\u001b[0m,\n",
              "\u001b[2;32m│   \u001b[0m\u001b[32m'precision@100'\u001b[0m: \u001b[1;36m0.02858695652173913\u001b[0m,\n",
              "\u001b[2;32m│   \u001b[0m\u001b[32m'recall@100'\u001b[0m: \u001b[1;36m0.7712609970674487\u001b[0m,\n",
              "\u001b[2;32m│   \u001b[0m\u001b[32m'iou'\u001b[0m: \u001b[1;36m0.3933069931631313\u001b[0m,\n",
              "\u001b[2;32m│   \u001b[0m\u001b[32m'kl_divergence'\u001b[0m: \u001b[1;36m3.010679928336418\u001b[0m,\n",
              "\u001b[2;32m│   \u001b[0m\u001b[32m'entropy'\u001b[0m: \u001b[1;36m0.651334494105903\u001b[0m,\n",
              "\u001b[2;32m│   \u001b[0m\u001b[32m'no_predictions'\u001b[0m: \u001b[1;36m0.33695652173913043\u001b[0m,\n",
              "\u001b[2;32m│   \u001b[0m\u001b[32m'attributions_sum_zero'\u001b[0m: \u001b[1;36m0.0\u001b[0m,\n",
              "\u001b[2;32m│   \u001b[0m\u001b[32m'explainability_method'\u001b[0m: \u001b[32m'laat'\u001b[0m,\n",
              "\u001b[2;32m│   \u001b[0m\u001b[32m'prediction_split'\u001b[0m: \u001b[32m'not_predicted'\u001b[0m\n",
              "\u001b[1m}\u001b[0m\n"
            ]
          },
          "metadata": {},
          "output_type": "display_data"
        },
        {
          "data": {
            "text/html": [
              "<pre style=\"white-space:pre;overflow-x:auto;line-height:normal;font-family:Menlo,'DejaVu Sans Mono',consolas,'Courier New',monospace\"><span style=\"color: #008000; text-decoration-color: #008000\">'Evaluating deeplift'</span>\n",
              "</pre>\n"
            ],
            "text/plain": [
              "\u001b[32m'Evaluating deeplift'\u001b[0m\n"
            ]
          },
          "metadata": {},
          "output_type": "display_data"
        },
        {
          "data": {
            "application/vnd.jupyter.widget-view+json": {
              "model_id": "f2dc2f2db98842afaa279be5721cd98a",
              "version_major": 2,
              "version_minor": 0
            },
            "text/plain": [
              "Output()"
            ]
          },
          "metadata": {},
          "output_type": "display_data"
        },
        {
          "data": {
            "text/html": [
              "<pre style=\"white-space:pre;overflow-x:auto;line-height:normal;font-family:Menlo,'DejaVu Sans Mono',consolas,'Courier New',monospace\"></pre>\n"
            ],
            "text/plain": []
          },
          "metadata": {},
          "output_type": "display_data"
        },
        {
          "name": "stderr",
          "output_type": "stream",
          "text": [
            "/content/explain-icd/explainable_medical_coding/utils/analysis.py:237: DataOrientationWarning: Row orientation inferred during DataFrame construction. Explicitly specify the orientation by passing `orient=\"row\"` to silence this warning.\n",
            "  df = pl.DataFrame(schema=schema, data=rows)\n",
            "sys:1: MapWithoutReturnDtypeWarning: Calling `map_elements` without specifying `return_dtype` can lead to unpredictable results. Specify `return_dtype` to silence this warning.\n",
            "sys:1: MapWithoutReturnDtypeWarning: Calling `map_elements` without specifying `return_dtype` can lead to unpredictable results. Specify `return_dtype` to silence this warning.\n",
            "sys:1: MapWithoutReturnDtypeWarning: Calling `map_elements` without specifying `return_dtype` can lead to unpredictable results. Specify `return_dtype` to silence this warning.\n",
            "sys:1: MapWithoutReturnDtypeWarning: Calling `map_elements` without specifying `return_dtype` can lead to unpredictable results. Specify `return_dtype` to silence this warning.\n",
            "sys:1: MapWithoutReturnDtypeWarning: Calling `map_elements` without specifying `return_dtype` can lead to unpredictable results. Specify `return_dtype` to silence this warning.\n",
            "sys:1: MapWithoutReturnDtypeWarning: Calling `map_elements` without specifying `return_dtype` can lead to unpredictable results. Specify `return_dtype` to silence this warning.\n"
          ]
        },
        {
          "data": {
            "application/vnd.jupyter.widget-view+json": {
              "model_id": "2af40da835974e7bb89d4059db38313e",
              "version_major": 2,
              "version_minor": 0
            },
            "text/plain": [
              "Output()"
            ]
          },
          "metadata": {},
          "output_type": "display_data"
        },
        {
          "data": {
            "text/html": [
              "<pre style=\"white-space:pre;overflow-x:auto;line-height:normal;font-family:Menlo,'DejaVu Sans Mono',consolas,'Courier New',monospace\"></pre>\n"
            ],
            "text/plain": []
          },
          "metadata": {},
          "output_type": "display_data"
        },
        {
          "name": "stderr",
          "output_type": "stream",
          "text": [
            "/content/explain-icd/explainable_medical_coding/utils/analysis.py:237: DataOrientationWarning: Row orientation inferred during DataFrame construction. Explicitly specify the orientation by passing `orient=\"row\"` to silence this warning.\n",
            "  df = pl.DataFrame(schema=schema, data=rows)\n",
            "sys:1: MapWithoutReturnDtypeWarning: Calling `map_elements` without specifying `return_dtype` can lead to unpredictable results. Specify `return_dtype` to silence this warning.\n",
            "sys:1: MapWithoutReturnDtypeWarning: Calling `map_elements` without specifying `return_dtype` can lead to unpredictable results. Specify `return_dtype` to silence this warning.\n",
            "sys:1: MapWithoutReturnDtypeWarning: Calling `map_elements` without specifying `return_dtype` can lead to unpredictable results. Specify `return_dtype` to silence this warning.\n",
            "sys:1: MapWithoutReturnDtypeWarning: Calling `map_elements` without specifying `return_dtype` can lead to unpredictable results. Specify `return_dtype` to silence this warning.\n",
            "sys:1: MapWithoutReturnDtypeWarning: Calling `map_elements` without specifying `return_dtype` can lead to unpredictable results. Specify `return_dtype` to silence this warning.\n",
            "sys:1: MapWithoutReturnDtypeWarning: Calling `map_elements` without specifying `return_dtype` can lead to unpredictable results. Specify `return_dtype` to silence this warning.\n",
            "sys:1: MapWithoutReturnDtypeWarning: Calling `map_elements` without specifying `return_dtype` can lead to unpredictable results. Specify `return_dtype` to silence this warning.\n",
            "sys:1: MapWithoutReturnDtypeWarning: Calling `map_elements` without specifying `return_dtype` can lead to unpredictable results. Specify `return_dtype` to silence this warning.\n",
            "sys:1: MapWithoutReturnDtypeWarning: Calling `map_elements` without specifying `return_dtype` can lead to unpredictable results. Specify `return_dtype` to silence this warning.\n",
            "sys:1: MapWithoutReturnDtypeWarning: Calling `map_elements` without specifying `return_dtype` can lead to unpredictable results. Specify `return_dtype` to silence this warning.\n",
            "sys:1: MapWithoutReturnDtypeWarning: Calling `map_elements` without specifying `return_dtype` can lead to unpredictable results. Specify `return_dtype` to silence this warning.\n",
            "sys:1: MapWithoutReturnDtypeWarning: Calling `map_elements` without specifying `return_dtype` can lead to unpredictable results. Specify `return_dtype` to silence this warning.\n",
            "sys:1: MapWithoutReturnDtypeWarning: Calling `map_elements` without specifying `return_dtype` can lead to unpredictable results. Specify `return_dtype` to silence this warning.\n",
            "sys:1: MapWithoutReturnDtypeWarning: Calling `map_elements` without specifying `return_dtype` can lead to unpredictable results. Specify `return_dtype` to silence this warning.\n",
            "sys:1: MapWithoutReturnDtypeWarning: Calling `map_elements` without specifying `return_dtype` can lead to unpredictable results. Specify `return_dtype` to silence this warning.\n",
            "sys:1: MapWithoutReturnDtypeWarning: Calling `map_elements` without specifying `return_dtype` can lead to unpredictable results. Specify `return_dtype` to silence this warning.\n",
            "sys:1: MapWithoutReturnDtypeWarning: Calling `map_elements` without specifying `return_dtype` can lead to unpredictable results. Specify `return_dtype` to silence this warning.\n",
            "sys:1: MapWithoutReturnDtypeWarning: Calling `map_elements` without specifying `return_dtype` can lead to unpredictable results. Specify `return_dtype` to silence this warning.\n",
            "sys:1: MapWithoutReturnDtypeWarning: Calling `map_elements` without specifying `return_dtype` can lead to unpredictable results. Specify `return_dtype` to silence this warning.\n",
            "sys:1: MapWithoutReturnDtypeWarning: Calling `map_elements` without specifying `return_dtype` can lead to unpredictable results. Specify `return_dtype` to silence this warning.\n",
            "sys:1: MapWithoutReturnDtypeWarning: Calling `map_elements` without specifying `return_dtype` can lead to unpredictable results. Specify `return_dtype` to silence this warning.\n",
            "sys:1: MapWithoutReturnDtypeWarning: Calling `map_elements` without specifying `return_dtype` can lead to unpredictable results. Specify `return_dtype` to silence this warning.\n",
            "sys:1: MapWithoutReturnDtypeWarning: Calling `map_elements` without specifying `return_dtype` can lead to unpredictable results. Specify `return_dtype` to silence this warning.\n",
            "sys:1: MapWithoutReturnDtypeWarning: Calling `map_elements` without specifying `return_dtype` can lead to unpredictable results. Specify `return_dtype` to silence this warning.\n"
          ]
        },
        {
          "data": {
            "text/html": [
              "<pre style=\"white-space:pre;overflow-x:auto;line-height:normal;font-family:Menlo,'DejaVu Sans Mono',consolas,'Courier New',monospace\"><span style=\"font-weight: bold\">{</span>\n",
              "<span style=\"color: #7fbf7f; text-decoration-color: #7fbf7f\">│   </span><span style=\"color: #008000; text-decoration-color: #008000\">'decision_boundary'</span>: <span style=\"color: #800080; text-decoration-color: #800080; font-weight: bold\">np.float64</span><span style=\"font-weight: bold\">(</span><span style=\"color: #008080; text-decoration-color: #008080; font-weight: bold\">0.018000000000000002</span><span style=\"font-weight: bold\">)</span>,\n",
              "<span style=\"color: #7fbf7f; text-decoration-color: #7fbf7f\">│   </span><span style=\"color: #008000; text-decoration-color: #008000\">'precision'</span>: <span style=\"color: #008080; text-decoration-color: #008080; font-weight: bold\">0.2849484536082462</span>,\n",
              "<span style=\"color: #7fbf7f; text-decoration-color: #7fbf7f\">│   </span><span style=\"color: #008000; text-decoration-color: #008000\">'recall'</span>: <span style=\"color: #008080; text-decoration-color: #008080; font-weight: bold\">0.3304638928742213</span>,\n",
              "<span style=\"color: #7fbf7f; text-decoration-color: #7fbf7f\">│   </span><span style=\"color: #008000; text-decoration-color: #008000\">'f1'</span>: <span style=\"color: #008080; text-decoration-color: #008080; font-weight: bold\">0.3060230292244326</span>,\n",
              "<span style=\"color: #7fbf7f; text-decoration-color: #7fbf7f\">│   </span><span style=\"color: #008000; text-decoration-color: #008000\">'auprc'</span>: <span style=\"color: #800080; text-decoration-color: #800080; font-weight: bold\">np.float64</span><span style=\"font-weight: bold\">(</span><span style=\"color: #008080; text-decoration-color: #008080; font-weight: bold\">0.2247456201946741</span><span style=\"font-weight: bold\">)</span>,\n",
              "<span style=\"color: #7fbf7f; text-decoration-color: #7fbf7f\">│   </span><span style=\"color: #008000; text-decoration-color: #008000\">'average_number_of_predicted_tokens'</span>: <span style=\"color: #008080; text-decoration-color: #008080; font-weight: bold\">4.138225255972697</span>,\n",
              "<span style=\"color: #7fbf7f; text-decoration-color: #7fbf7f\">│   </span><span style=\"color: #008000; text-decoration-color: #008000\">'evidence_span_token_recall'</span>: <span style=\"color: #008080; text-decoration-color: #008080; font-weight: bold\">0.47637437931516835</span>,\n",
              "<span style=\"color: #7fbf7f; text-decoration-color: #7fbf7f\">│   </span><span style=\"color: #008000; text-decoration-color: #008000\">'evidence_span_recall'</span>: <span style=\"color: #008080; text-decoration-color: #008080; font-weight: bold\">0.646899886228073</span>,\n",
              "<span style=\"color: #7fbf7f; text-decoration-color: #7fbf7f\">│   </span><span style=\"color: #008000; text-decoration-color: #008000\">'precision@1'</span>: <span style=\"color: #008080; text-decoration-color: #008080; font-weight: bold\">0.40273037542662116</span>,\n",
              "<span style=\"color: #7fbf7f; text-decoration-color: #7fbf7f\">│   </span><span style=\"color: #008000; text-decoration-color: #008000\">'recall@1'</span>: <span style=\"color: #008080; text-decoration-color: #008080; font-weight: bold\">0.1128646580583453</span>,\n",
              "<span style=\"color: #7fbf7f; text-decoration-color: #7fbf7f\">│   </span><span style=\"color: #008000; text-decoration-color: #008000\">'precision@5'</span>: <span style=\"color: #008080; text-decoration-color: #008080; font-weight: bold\">0.257679180887372</span>,\n",
              "<span style=\"color: #7fbf7f; text-decoration-color: #7fbf7f\">│   </span><span style=\"color: #008000; text-decoration-color: #008000\">'recall@5'</span>: <span style=\"color: #008080; text-decoration-color: #008080; font-weight: bold\">0.36107125777140125</span>,\n",
              "<span style=\"color: #7fbf7f; text-decoration-color: #7fbf7f\">│   </span><span style=\"color: #008000; text-decoration-color: #008000\">'precision@10'</span>: <span style=\"color: #008080; text-decoration-color: #008080; font-weight: bold\">0.1697952218430034</span>,\n",
              "<span style=\"color: #7fbf7f; text-decoration-color: #7fbf7f\">│   </span><span style=\"color: #008000; text-decoration-color: #008000\">'recall@10'</span>: <span style=\"color: #008080; text-decoration-color: #008080; font-weight: bold\">0.47584887613582016</span>,\n",
              "<span style=\"color: #7fbf7f; text-decoration-color: #7fbf7f\">│   </span><span style=\"color: #008000; text-decoration-color: #008000\">'precision@50'</span>: <span style=\"color: #008080; text-decoration-color: #008080; font-weight: bold\">0.05372013651877133</span>,\n",
              "<span style=\"color: #7fbf7f; text-decoration-color: #7fbf7f\">│   </span><span style=\"color: #008000; text-decoration-color: #008000\">'recall@50'</span>: <span style=\"color: #008080; text-decoration-color: #008080; font-weight: bold\">0.7527498804399809</span>,\n",
              "<span style=\"color: #7fbf7f; text-decoration-color: #7fbf7f\">│   </span><span style=\"color: #008000; text-decoration-color: #008000\">'precision@100'</span>: <span style=\"color: #008080; text-decoration-color: #008080; font-weight: bold\">0.030409556313993173</span>,\n",
              "<span style=\"color: #7fbf7f; text-decoration-color: #7fbf7f\">│   </span><span style=\"color: #008000; text-decoration-color: #008000\">'recall@100'</span>: <span style=\"color: #008080; text-decoration-color: #008080; font-weight: bold\">0.8522238163558106</span>,\n",
              "<span style=\"color: #7fbf7f; text-decoration-color: #7fbf7f\">│   </span><span style=\"color: #008000; text-decoration-color: #008000\">'iou'</span>: <span style=\"color: #008080; text-decoration-color: #008080; font-weight: bold\">0.2989317104774059</span>,\n",
              "<span style=\"color: #7fbf7f; text-decoration-color: #7fbf7f\">│   </span><span style=\"color: #008000; text-decoration-color: #008000\">'kl_divergence'</span>: <span style=\"color: #008080; text-decoration-color: #008080; font-weight: bold\">3.385567908160004</span>,\n",
              "<span style=\"color: #7fbf7f; text-decoration-color: #7fbf7f\">│   </span><span style=\"color: #008000; text-decoration-color: #008000\">'entropy'</span>: <span style=\"color: #008080; text-decoration-color: #008080; font-weight: bold\">0.7345073157954012</span>,\n",
              "<span style=\"color: #7fbf7f; text-decoration-color: #7fbf7f\">│   </span><span style=\"color: #008000; text-decoration-color: #008000\">'no_predictions'</span>: <span style=\"color: #008080; text-decoration-color: #008080; font-weight: bold\">0.06143344709897611</span>,\n",
              "<span style=\"color: #7fbf7f; text-decoration-color: #7fbf7f\">│   </span><span style=\"color: #008000; text-decoration-color: #008000\">'attributions_sum_zero'</span>: <span style=\"color: #008080; text-decoration-color: #008080; font-weight: bold\">0.0</span>,\n",
              "<span style=\"color: #7fbf7f; text-decoration-color: #7fbf7f\">│   </span><span style=\"color: #008000; text-decoration-color: #008000\">'explainability_method'</span>: <span style=\"color: #008000; text-decoration-color: #008000\">'deeplift'</span>,\n",
              "<span style=\"color: #7fbf7f; text-decoration-color: #7fbf7f\">│   </span><span style=\"color: #008000; text-decoration-color: #008000\">'prediction_split'</span>: <span style=\"color: #008000; text-decoration-color: #008000\">'all'</span>\n",
              "<span style=\"font-weight: bold\">}</span>\n",
              "</pre>\n"
            ],
            "text/plain": [
              "\u001b[1m{\u001b[0m\n",
              "\u001b[2;32m│   \u001b[0m\u001b[32m'decision_boundary'\u001b[0m: \u001b[1;35mnp.float64\u001b[0m\u001b[1m(\u001b[0m\u001b[1;36m0.018000000000000002\u001b[0m\u001b[1m)\u001b[0m,\n",
              "\u001b[2;32m│   \u001b[0m\u001b[32m'precision'\u001b[0m: \u001b[1;36m0.2849484536082462\u001b[0m,\n",
              "\u001b[2;32m│   \u001b[0m\u001b[32m'recall'\u001b[0m: \u001b[1;36m0.3304638928742213\u001b[0m,\n",
              "\u001b[2;32m│   \u001b[0m\u001b[32m'f1'\u001b[0m: \u001b[1;36m0.3060230292244326\u001b[0m,\n",
              "\u001b[2;32m│   \u001b[0m\u001b[32m'auprc'\u001b[0m: \u001b[1;35mnp.float64\u001b[0m\u001b[1m(\u001b[0m\u001b[1;36m0.2247456201946741\u001b[0m\u001b[1m)\u001b[0m,\n",
              "\u001b[2;32m│   \u001b[0m\u001b[32m'average_number_of_predicted_tokens'\u001b[0m: \u001b[1;36m4.138225255972697\u001b[0m,\n",
              "\u001b[2;32m│   \u001b[0m\u001b[32m'evidence_span_token_recall'\u001b[0m: \u001b[1;36m0.47637437931516835\u001b[0m,\n",
              "\u001b[2;32m│   \u001b[0m\u001b[32m'evidence_span_recall'\u001b[0m: \u001b[1;36m0.646899886228073\u001b[0m,\n",
              "\u001b[2;32m│   \u001b[0m\u001b[32m'precision@1'\u001b[0m: \u001b[1;36m0.40273037542662116\u001b[0m,\n",
              "\u001b[2;32m│   \u001b[0m\u001b[32m'recall@1'\u001b[0m: \u001b[1;36m0.1128646580583453\u001b[0m,\n",
              "\u001b[2;32m│   \u001b[0m\u001b[32m'precision@5'\u001b[0m: \u001b[1;36m0.257679180887372\u001b[0m,\n",
              "\u001b[2;32m│   \u001b[0m\u001b[32m'recall@5'\u001b[0m: \u001b[1;36m0.36107125777140125\u001b[0m,\n",
              "\u001b[2;32m│   \u001b[0m\u001b[32m'precision@10'\u001b[0m: \u001b[1;36m0.1697952218430034\u001b[0m,\n",
              "\u001b[2;32m│   \u001b[0m\u001b[32m'recall@10'\u001b[0m: \u001b[1;36m0.47584887613582016\u001b[0m,\n",
              "\u001b[2;32m│   \u001b[0m\u001b[32m'precision@50'\u001b[0m: \u001b[1;36m0.05372013651877133\u001b[0m,\n",
              "\u001b[2;32m│   \u001b[0m\u001b[32m'recall@50'\u001b[0m: \u001b[1;36m0.7527498804399809\u001b[0m,\n",
              "\u001b[2;32m│   \u001b[0m\u001b[32m'precision@100'\u001b[0m: \u001b[1;36m0.030409556313993173\u001b[0m,\n",
              "\u001b[2;32m│   \u001b[0m\u001b[32m'recall@100'\u001b[0m: \u001b[1;36m0.8522238163558106\u001b[0m,\n",
              "\u001b[2;32m│   \u001b[0m\u001b[32m'iou'\u001b[0m: \u001b[1;36m0.2989317104774059\u001b[0m,\n",
              "\u001b[2;32m│   \u001b[0m\u001b[32m'kl_divergence'\u001b[0m: \u001b[1;36m3.385567908160004\u001b[0m,\n",
              "\u001b[2;32m│   \u001b[0m\u001b[32m'entropy'\u001b[0m: \u001b[1;36m0.7345073157954012\u001b[0m,\n",
              "\u001b[2;32m│   \u001b[0m\u001b[32m'no_predictions'\u001b[0m: \u001b[1;36m0.06143344709897611\u001b[0m,\n",
              "\u001b[2;32m│   \u001b[0m\u001b[32m'attributions_sum_zero'\u001b[0m: \u001b[1;36m0.0\u001b[0m,\n",
              "\u001b[2;32m│   \u001b[0m\u001b[32m'explainability_method'\u001b[0m: \u001b[32m'deeplift'\u001b[0m,\n",
              "\u001b[2;32m│   \u001b[0m\u001b[32m'prediction_split'\u001b[0m: \u001b[32m'all'\u001b[0m\n",
              "\u001b[1m}\u001b[0m\n"
            ]
          },
          "metadata": {},
          "output_type": "display_data"
        },
        {
          "name": "stderr",
          "output_type": "stream",
          "text": [
            "sys:1: MapWithoutReturnDtypeWarning: Calling `map_elements` without specifying `return_dtype` can lead to unpredictable results. Specify `return_dtype` to silence this warning.\n",
            "sys:1: MapWithoutReturnDtypeWarning: Calling `map_elements` without specifying `return_dtype` can lead to unpredictable results. Specify `return_dtype` to silence this warning.\n",
            "sys:1: MapWithoutReturnDtypeWarning: Calling `map_elements` without specifying `return_dtype` can lead to unpredictable results. Specify `return_dtype` to silence this warning.\n",
            "sys:1: MapWithoutReturnDtypeWarning: Calling `map_elements` without specifying `return_dtype` can lead to unpredictable results. Specify `return_dtype` to silence this warning.\n",
            "sys:1: MapWithoutReturnDtypeWarning: Calling `map_elements` without specifying `return_dtype` can lead to unpredictable results. Specify `return_dtype` to silence this warning.\n",
            "sys:1: MapWithoutReturnDtypeWarning: Calling `map_elements` without specifying `return_dtype` can lead to unpredictable results. Specify `return_dtype` to silence this warning.\n",
            "sys:1: MapWithoutReturnDtypeWarning: Calling `map_elements` without specifying `return_dtype` can lead to unpredictable results. Specify `return_dtype` to silence this warning.\n",
            "sys:1: MapWithoutReturnDtypeWarning: Calling `map_elements` without specifying `return_dtype` can lead to unpredictable results. Specify `return_dtype` to silence this warning.\n",
            "sys:1: MapWithoutReturnDtypeWarning: Calling `map_elements` without specifying `return_dtype` can lead to unpredictable results. Specify `return_dtype` to silence this warning.\n",
            "sys:1: MapWithoutReturnDtypeWarning: Calling `map_elements` without specifying `return_dtype` can lead to unpredictable results. Specify `return_dtype` to silence this warning.\n",
            "sys:1: MapWithoutReturnDtypeWarning: Calling `map_elements` without specifying `return_dtype` can lead to unpredictable results. Specify `return_dtype` to silence this warning.\n",
            "sys:1: MapWithoutReturnDtypeWarning: Calling `map_elements` without specifying `return_dtype` can lead to unpredictable results. Specify `return_dtype` to silence this warning.\n",
            "sys:1: MapWithoutReturnDtypeWarning: Calling `map_elements` without specifying `return_dtype` can lead to unpredictable results. Specify `return_dtype` to silence this warning.\n",
            "sys:1: MapWithoutReturnDtypeWarning: Calling `map_elements` without specifying `return_dtype` can lead to unpredictable results. Specify `return_dtype` to silence this warning.\n",
            "sys:1: MapWithoutReturnDtypeWarning: Calling `map_elements` without specifying `return_dtype` can lead to unpredictable results. Specify `return_dtype` to silence this warning.\n",
            "sys:1: MapWithoutReturnDtypeWarning: Calling `map_elements` without specifying `return_dtype` can lead to unpredictable results. Specify `return_dtype` to silence this warning.\n",
            "sys:1: MapWithoutReturnDtypeWarning: Calling `map_elements` without specifying `return_dtype` can lead to unpredictable results. Specify `return_dtype` to silence this warning.\n",
            "sys:1: MapWithoutReturnDtypeWarning: Calling `map_elements` without specifying `return_dtype` can lead to unpredictable results. Specify `return_dtype` to silence this warning.\n"
          ]
        },
        {
          "data": {
            "text/html": [
              "<pre style=\"white-space:pre;overflow-x:auto;line-height:normal;font-family:Menlo,'DejaVu Sans Mono',consolas,'Courier New',monospace\"><span style=\"font-weight: bold\">{</span>\n",
              "<span style=\"color: #7fbf7f; text-decoration-color: #7fbf7f\">│   </span><span style=\"color: #008000; text-decoration-color: #008000\">'decision_boundary'</span>: <span style=\"color: #800080; text-decoration-color: #800080; font-weight: bold\">np.float64</span><span style=\"font-weight: bold\">(</span><span style=\"color: #008080; text-decoration-color: #008080; font-weight: bold\">0.018000000000000002</span><span style=\"font-weight: bold\">)</span>,\n",
              "<span style=\"color: #7fbf7f; text-decoration-color: #7fbf7f\">│   </span><span style=\"color: #008000; text-decoration-color: #008000\">'precision'</span>: <span style=\"color: #008080; text-decoration-color: #008080; font-weight: bold\">0.28196721311475254</span>,\n",
              "<span style=\"color: #7fbf7f; text-decoration-color: #7fbf7f\">│   </span><span style=\"color: #008000; text-decoration-color: #008000\">'recall'</span>: <span style=\"color: #008080; text-decoration-color: #008080; font-weight: bold\">0.3662171753016298</span>,\n",
              "<span style=\"color: #7fbf7f; text-decoration-color: #7fbf7f\">│   </span><span style=\"color: #008000; text-decoration-color: #008000\">'f1'</span>: <span style=\"color: #008080; text-decoration-color: #008080; font-weight: bold\">0.31861685704972903</span>,\n",
              "<span style=\"color: #7fbf7f; text-decoration-color: #7fbf7f\">│   </span><span style=\"color: #008000; text-decoration-color: #008000\">'auprc'</span>: <span style=\"color: #800080; text-decoration-color: #800080; font-weight: bold\">np.float64</span><span style=\"font-weight: bold\">(</span><span style=\"color: #008080; text-decoration-color: #008080; font-weight: bold\">0.23697981560315803</span><span style=\"font-weight: bold\">)</span>,\n",
              "<span style=\"color: #7fbf7f; text-decoration-color: #7fbf7f\">│   </span><span style=\"color: #008000; text-decoration-color: #008000\">'average_number_of_predicted_tokens'</span>: <span style=\"color: #008080; text-decoration-color: #008080; font-weight: bold\">4.552238805970149</span>,\n",
              "<span style=\"color: #7fbf7f; text-decoration-color: #7fbf7f\">│   </span><span style=\"color: #008000; text-decoration-color: #008000\">'evidence_span_token_recall'</span>: <span style=\"color: #008080; text-decoration-color: #008080; font-weight: bold\">0.5243722142944115</span>,\n",
              "<span style=\"color: #7fbf7f; text-decoration-color: #7fbf7f\">│   </span><span style=\"color: #008000; text-decoration-color: #008000\">'evidence_span_recall'</span>: <span style=\"color: #008080; text-decoration-color: #008080; font-weight: bold\">0.6992122719667184</span>,\n",
              "<span style=\"color: #7fbf7f; text-decoration-color: #7fbf7f\">│   </span><span style=\"color: #008000; text-decoration-color: #008000\">'precision@1'</span>: <span style=\"color: #008080; text-decoration-color: #008080; font-weight: bold\">0.43532338308457713</span>,\n",
              "<span style=\"color: #7fbf7f; text-decoration-color: #7fbf7f\">│   </span><span style=\"color: #008000; text-decoration-color: #008000\">'recall@1'</span>: <span style=\"color: #008080; text-decoration-color: #008080; font-weight: bold\">0.1242015613910575</span>,\n",
              "<span style=\"color: #7fbf7f; text-decoration-color: #7fbf7f\">│   </span><span style=\"color: #008000; text-decoration-color: #008000\">'precision@5'</span>: <span style=\"color: #008080; text-decoration-color: #008080; font-weight: bold\">0.2701492537313433</span>,\n",
              "<span style=\"color: #7fbf7f; text-decoration-color: #7fbf7f\">│   </span><span style=\"color: #008000; text-decoration-color: #008000\">'recall@5'</span>: <span style=\"color: #008080; text-decoration-color: #008080; font-weight: bold\">0.38537970191625265</span>,\n",
              "<span style=\"color: #7fbf7f; text-decoration-color: #7fbf7f\">│   </span><span style=\"color: #008000; text-decoration-color: #008000\">'precision@10'</span>: <span style=\"color: #008080; text-decoration-color: #008080; font-weight: bold\">0.18159203980099503</span>,\n",
              "<span style=\"color: #7fbf7f; text-decoration-color: #7fbf7f\">│   </span><span style=\"color: #008000; text-decoration-color: #008000\">'recall@10'</span>: <span style=\"color: #008080; text-decoration-color: #008080; font-weight: bold\">0.518097941802697</span>,\n",
              "<span style=\"color: #7fbf7f; text-decoration-color: #7fbf7f\">│   </span><span style=\"color: #008000; text-decoration-color: #008000\">'precision@50'</span>: <span style=\"color: #008080; text-decoration-color: #008080; font-weight: bold\">0.05572139303482587</span>,\n",
              "<span style=\"color: #7fbf7f; text-decoration-color: #7fbf7f\">│   </span><span style=\"color: #008000; text-decoration-color: #008000\">'recall@50'</span>: <span style=\"color: #008080; text-decoration-color: #008080; font-weight: bold\">0.794889992902768</span>,\n",
              "<span style=\"color: #7fbf7f; text-decoration-color: #7fbf7f\">│   </span><span style=\"color: #008000; text-decoration-color: #008000\">'precision@100'</span>: <span style=\"color: #008080; text-decoration-color: #008080; font-weight: bold\">0.03154228855721393</span>,\n",
              "<span style=\"color: #7fbf7f; text-decoration-color: #7fbf7f\">│   </span><span style=\"color: #008000; text-decoration-color: #008000\">'recall@100'</span>: <span style=\"color: #008080; text-decoration-color: #008080; font-weight: bold\">0.8999290276792051</span>,\n",
              "<span style=\"color: #7fbf7f; text-decoration-color: #7fbf7f\">│   </span><span style=\"color: #008000; text-decoration-color: #008000\">'iou'</span>: <span style=\"color: #008080; text-decoration-color: #008080; font-weight: bold\">0.32106110879789806</span>,\n",
              "<span style=\"color: #7fbf7f; text-decoration-color: #7fbf7f\">│   </span><span style=\"color: #008000; text-decoration-color: #008000\">'kl_divergence'</span>: <span style=\"color: #008080; text-decoration-color: #008080; font-weight: bold\">3.2074487336855966</span>,\n",
              "<span style=\"color: #7fbf7f; text-decoration-color: #7fbf7f\">│   </span><span style=\"color: #008000; text-decoration-color: #008000\">'entropy'</span>: <span style=\"color: #008080; text-decoration-color: #008080; font-weight: bold\">0.7189800881070343</span>,\n",
              "<span style=\"color: #7fbf7f; text-decoration-color: #7fbf7f\">│   </span><span style=\"color: #008000; text-decoration-color: #008000\">'no_predictions'</span>: <span style=\"color: #008080; text-decoration-color: #008080; font-weight: bold\">0.024875621890547265</span>,\n",
              "<span style=\"color: #7fbf7f; text-decoration-color: #7fbf7f\">│   </span><span style=\"color: #008000; text-decoration-color: #008000\">'attributions_sum_zero'</span>: <span style=\"color: #008080; text-decoration-color: #008080; font-weight: bold\">0.0</span>,\n",
              "<span style=\"color: #7fbf7f; text-decoration-color: #7fbf7f\">│   </span><span style=\"color: #008000; text-decoration-color: #008000\">'explainability_method'</span>: <span style=\"color: #008000; text-decoration-color: #008000\">'deeplift'</span>,\n",
              "<span style=\"color: #7fbf7f; text-decoration-color: #7fbf7f\">│   </span><span style=\"color: #008000; text-decoration-color: #008000\">'prediction_split'</span>: <span style=\"color: #008000; text-decoration-color: #008000\">'predicted'</span>\n",
              "<span style=\"font-weight: bold\">}</span>\n",
              "</pre>\n"
            ],
            "text/plain": [
              "\u001b[1m{\u001b[0m\n",
              "\u001b[2;32m│   \u001b[0m\u001b[32m'decision_boundary'\u001b[0m: \u001b[1;35mnp.float64\u001b[0m\u001b[1m(\u001b[0m\u001b[1;36m0.018000000000000002\u001b[0m\u001b[1m)\u001b[0m,\n",
              "\u001b[2;32m│   \u001b[0m\u001b[32m'precision'\u001b[0m: \u001b[1;36m0.28196721311475254\u001b[0m,\n",
              "\u001b[2;32m│   \u001b[0m\u001b[32m'recall'\u001b[0m: \u001b[1;36m0.3662171753016298\u001b[0m,\n",
              "\u001b[2;32m│   \u001b[0m\u001b[32m'f1'\u001b[0m: \u001b[1;36m0.31861685704972903\u001b[0m,\n",
              "\u001b[2;32m│   \u001b[0m\u001b[32m'auprc'\u001b[0m: \u001b[1;35mnp.float64\u001b[0m\u001b[1m(\u001b[0m\u001b[1;36m0.23697981560315803\u001b[0m\u001b[1m)\u001b[0m,\n",
              "\u001b[2;32m│   \u001b[0m\u001b[32m'average_number_of_predicted_tokens'\u001b[0m: \u001b[1;36m4.552238805970149\u001b[0m,\n",
              "\u001b[2;32m│   \u001b[0m\u001b[32m'evidence_span_token_recall'\u001b[0m: \u001b[1;36m0.5243722142944115\u001b[0m,\n",
              "\u001b[2;32m│   \u001b[0m\u001b[32m'evidence_span_recall'\u001b[0m: \u001b[1;36m0.6992122719667184\u001b[0m,\n",
              "\u001b[2;32m│   \u001b[0m\u001b[32m'precision@1'\u001b[0m: \u001b[1;36m0.43532338308457713\u001b[0m,\n",
              "\u001b[2;32m│   \u001b[0m\u001b[32m'recall@1'\u001b[0m: \u001b[1;36m0.1242015613910575\u001b[0m,\n",
              "\u001b[2;32m│   \u001b[0m\u001b[32m'precision@5'\u001b[0m: \u001b[1;36m0.2701492537313433\u001b[0m,\n",
              "\u001b[2;32m│   \u001b[0m\u001b[32m'recall@5'\u001b[0m: \u001b[1;36m0.38537970191625265\u001b[0m,\n",
              "\u001b[2;32m│   \u001b[0m\u001b[32m'precision@10'\u001b[0m: \u001b[1;36m0.18159203980099503\u001b[0m,\n",
              "\u001b[2;32m│   \u001b[0m\u001b[32m'recall@10'\u001b[0m: \u001b[1;36m0.518097941802697\u001b[0m,\n",
              "\u001b[2;32m│   \u001b[0m\u001b[32m'precision@50'\u001b[0m: \u001b[1;36m0.05572139303482587\u001b[0m,\n",
              "\u001b[2;32m│   \u001b[0m\u001b[32m'recall@50'\u001b[0m: \u001b[1;36m0.794889992902768\u001b[0m,\n",
              "\u001b[2;32m│   \u001b[0m\u001b[32m'precision@100'\u001b[0m: \u001b[1;36m0.03154228855721393\u001b[0m,\n",
              "\u001b[2;32m│   \u001b[0m\u001b[32m'recall@100'\u001b[0m: \u001b[1;36m0.8999290276792051\u001b[0m,\n",
              "\u001b[2;32m│   \u001b[0m\u001b[32m'iou'\u001b[0m: \u001b[1;36m0.32106110879789806\u001b[0m,\n",
              "\u001b[2;32m│   \u001b[0m\u001b[32m'kl_divergence'\u001b[0m: \u001b[1;36m3.2074487336855966\u001b[0m,\n",
              "\u001b[2;32m│   \u001b[0m\u001b[32m'entropy'\u001b[0m: \u001b[1;36m0.7189800881070343\u001b[0m,\n",
              "\u001b[2;32m│   \u001b[0m\u001b[32m'no_predictions'\u001b[0m: \u001b[1;36m0.024875621890547265\u001b[0m,\n",
              "\u001b[2;32m│   \u001b[0m\u001b[32m'attributions_sum_zero'\u001b[0m: \u001b[1;36m0.0\u001b[0m,\n",
              "\u001b[2;32m│   \u001b[0m\u001b[32m'explainability_method'\u001b[0m: \u001b[32m'deeplift'\u001b[0m,\n",
              "\u001b[2;32m│   \u001b[0m\u001b[32m'prediction_split'\u001b[0m: \u001b[32m'predicted'\u001b[0m\n",
              "\u001b[1m}\u001b[0m\n"
            ]
          },
          "metadata": {},
          "output_type": "display_data"
        },
        {
          "name": "stderr",
          "output_type": "stream",
          "text": [
            "sys:1: MapWithoutReturnDtypeWarning: Calling `map_elements` without specifying `return_dtype` can lead to unpredictable results. Specify `return_dtype` to silence this warning.\n",
            "sys:1: MapWithoutReturnDtypeWarning: Calling `map_elements` without specifying `return_dtype` can lead to unpredictable results. Specify `return_dtype` to silence this warning.\n",
            "sys:1: MapWithoutReturnDtypeWarning: Calling `map_elements` without specifying `return_dtype` can lead to unpredictable results. Specify `return_dtype` to silence this warning.\n",
            "sys:1: MapWithoutReturnDtypeWarning: Calling `map_elements` without specifying `return_dtype` can lead to unpredictable results. Specify `return_dtype` to silence this warning.\n",
            "sys:1: MapWithoutReturnDtypeWarning: Calling `map_elements` without specifying `return_dtype` can lead to unpredictable results. Specify `return_dtype` to silence this warning.\n",
            "sys:1: MapWithoutReturnDtypeWarning: Calling `map_elements` without specifying `return_dtype` can lead to unpredictable results. Specify `return_dtype` to silence this warning.\n",
            "sys:1: MapWithoutReturnDtypeWarning: Calling `map_elements` without specifying `return_dtype` can lead to unpredictable results. Specify `return_dtype` to silence this warning.\n",
            "sys:1: MapWithoutReturnDtypeWarning: Calling `map_elements` without specifying `return_dtype` can lead to unpredictable results. Specify `return_dtype` to silence this warning.\n",
            "sys:1: MapWithoutReturnDtypeWarning: Calling `map_elements` without specifying `return_dtype` can lead to unpredictable results. Specify `return_dtype` to silence this warning.\n",
            "sys:1: MapWithoutReturnDtypeWarning: Calling `map_elements` without specifying `return_dtype` can lead to unpredictable results. Specify `return_dtype` to silence this warning.\n",
            "sys:1: MapWithoutReturnDtypeWarning: Calling `map_elements` without specifying `return_dtype` can lead to unpredictable results. Specify `return_dtype` to silence this warning.\n",
            "sys:1: MapWithoutReturnDtypeWarning: Calling `map_elements` without specifying `return_dtype` can lead to unpredictable results. Specify `return_dtype` to silence this warning.\n",
            "sys:1: MapWithoutReturnDtypeWarning: Calling `map_elements` without specifying `return_dtype` can lead to unpredictable results. Specify `return_dtype` to silence this warning.\n",
            "sys:1: MapWithoutReturnDtypeWarning: Calling `map_elements` without specifying `return_dtype` can lead to unpredictable results. Specify `return_dtype` to silence this warning.\n",
            "sys:1: MapWithoutReturnDtypeWarning: Calling `map_elements` without specifying `return_dtype` can lead to unpredictable results. Specify `return_dtype` to silence this warning.\n",
            "sys:1: MapWithoutReturnDtypeWarning: Calling `map_elements` without specifying `return_dtype` can lead to unpredictable results. Specify `return_dtype` to silence this warning.\n",
            "sys:1: MapWithoutReturnDtypeWarning: Calling `map_elements` without specifying `return_dtype` can lead to unpredictable results. Specify `return_dtype` to silence this warning.\n",
            "sys:1: MapWithoutReturnDtypeWarning: Calling `map_elements` without specifying `return_dtype` can lead to unpredictable results. Specify `return_dtype` to silence this warning.\n"
          ]
        },
        {
          "data": {
            "text/html": [
              "<pre style=\"white-space:pre;overflow-x:auto;line-height:normal;font-family:Menlo,'DejaVu Sans Mono',consolas,'Courier New',monospace\"><span style=\"font-weight: bold\">{</span>\n",
              "<span style=\"color: #7fbf7f; text-decoration-color: #7fbf7f\">│   </span><span style=\"color: #008000; text-decoration-color: #008000\">'decision_boundary'</span>: <span style=\"color: #800080; text-decoration-color: #800080; font-weight: bold\">np.float64</span><span style=\"font-weight: bold\">(</span><span style=\"color: #008080; text-decoration-color: #008080; font-weight: bold\">0.018000000000000002</span><span style=\"font-weight: bold\">)</span>,\n",
              "<span style=\"color: #7fbf7f; text-decoration-color: #7fbf7f\">│   </span><span style=\"color: #008000; text-decoration-color: #008000\">'precision'</span>: <span style=\"color: #008080; text-decoration-color: #008080; font-weight: bold\">0.2941176470588186</span>,\n",
              "<span style=\"color: #7fbf7f; text-decoration-color: #7fbf7f\">│   </span><span style=\"color: #008000; text-decoration-color: #008000\">'recall'</span>: <span style=\"color: #008080; text-decoration-color: #008080; font-weight: bold\">0.25659824046920443</span>,\n",
              "<span style=\"color: #7fbf7f; text-decoration-color: #7fbf7f\">│   </span><span style=\"color: #008000; text-decoration-color: #008000\">'f1'</span>: <span style=\"color: #008080; text-decoration-color: #008080; font-weight: bold\">0.2740798747013619</span>,\n",
              "<span style=\"color: #7fbf7f; text-decoration-color: #7fbf7f\">│   </span><span style=\"color: #008000; text-decoration-color: #008000\">'auprc'</span>: <span style=\"color: #800080; text-decoration-color: #800080; font-weight: bold\">np.float64</span><span style=\"font-weight: bold\">(</span><span style=\"color: #008080; text-decoration-color: #008080; font-weight: bold\">0.20016557120052259</span><span style=\"font-weight: bold\">)</span>,\n",
              "<span style=\"color: #7fbf7f; text-decoration-color: #7fbf7f\">│   </span><span style=\"color: #008000; text-decoration-color: #008000\">'average_number_of_predicted_tokens'</span>: <span style=\"color: #008080; text-decoration-color: #008080; font-weight: bold\">3.233695652173913</span>,\n",
              "<span style=\"color: #7fbf7f; text-decoration-color: #7fbf7f\">│   </span><span style=\"color: #008000; text-decoration-color: #008000\">'evidence_span_token_recall'</span>: <span style=\"color: #008080; text-decoration-color: #008080; font-weight: bold\">0.3715095441974741</span>,\n",
              "<span style=\"color: #7fbf7f; text-decoration-color: #7fbf7f\">│   </span><span style=\"color: #008000; text-decoration-color: #008000\">'evidence_span_recall'</span>: <span style=\"color: #008080; text-decoration-color: #008080; font-weight: bold\">0.5326086956469025</span>,\n",
              "<span style=\"color: #7fbf7f; text-decoration-color: #7fbf7f\">│   </span><span style=\"color: #008000; text-decoration-color: #008000\">'precision@1'</span>: <span style=\"color: #008080; text-decoration-color: #008080; font-weight: bold\">0.33152173913043476</span>,\n",
              "<span style=\"color: #7fbf7f; text-decoration-color: #7fbf7f\">│   </span><span style=\"color: #008000; text-decoration-color: #008000\">'recall@1'</span>: <span style=\"color: #008080; text-decoration-color: #008080; font-weight: bold\">0.08944281524926687</span>,\n",
              "<span style=\"color: #7fbf7f; text-decoration-color: #7fbf7f\">│   </span><span style=\"color: #008000; text-decoration-color: #008000\">'precision@5'</span>: <span style=\"color: #008080; text-decoration-color: #008080; font-weight: bold\">0.23043478260869565</span>,\n",
              "<span style=\"color: #7fbf7f; text-decoration-color: #7fbf7f\">│   </span><span style=\"color: #008000; text-decoration-color: #008000\">'recall@5'</span>: <span style=\"color: #008080; text-decoration-color: #008080; font-weight: bold\">0.31085043988269795</span>,\n",
              "<span style=\"color: #7fbf7f; text-decoration-color: #7fbf7f\">│   </span><span style=\"color: #008000; text-decoration-color: #008000\">'precision@10'</span>: <span style=\"color: #008080; text-decoration-color: #008080; font-weight: bold\">0.14402173913043478</span>,\n",
              "<span style=\"color: #7fbf7f; text-decoration-color: #7fbf7f\">│   </span><span style=\"color: #008000; text-decoration-color: #008000\">'recall@10'</span>: <span style=\"color: #008080; text-decoration-color: #008080; font-weight: bold\">0.3885630498533724</span>,\n",
              "<span style=\"color: #7fbf7f; text-decoration-color: #7fbf7f\">│   </span><span style=\"color: #008000; text-decoration-color: #008000\">'precision@50'</span>: <span style=\"color: #008080; text-decoration-color: #008080; font-weight: bold\">0.04934782608695652</span>,\n",
              "<span style=\"color: #7fbf7f; text-decoration-color: #7fbf7f\">│   </span><span style=\"color: #008000; text-decoration-color: #008000\">'recall@50'</span>: <span style=\"color: #008080; text-decoration-color: #008080; font-weight: bold\">0.6656891495601173</span>,\n",
              "<span style=\"color: #7fbf7f; text-decoration-color: #7fbf7f\">│   </span><span style=\"color: #008000; text-decoration-color: #008000\">'precision@100'</span>: <span style=\"color: #008080; text-decoration-color: #008080; font-weight: bold\">0.02793478260869565</span>,\n",
              "<span style=\"color: #7fbf7f; text-decoration-color: #7fbf7f\">│   </span><span style=\"color: #008000; text-decoration-color: #008000\">'recall@100'</span>: <span style=\"color: #008080; text-decoration-color: #008080; font-weight: bold\">0.7536656891495601</span>,\n",
              "<span style=\"color: #7fbf7f; text-decoration-color: #7fbf7f\">│   </span><span style=\"color: #008000; text-decoration-color: #008000\">'iou'</span>: <span style=\"color: #008080; text-decoration-color: #008080; font-weight: bold\">0.25058378588589575</span>,\n",
              "<span style=\"color: #7fbf7f; text-decoration-color: #7fbf7f\">│   </span><span style=\"color: #008000; text-decoration-color: #008000\">'kl_divergence'</span>: <span style=\"color: #008080; text-decoration-color: #008080; font-weight: bold\">3.774719582826915</span>,\n",
              "<span style=\"color: #7fbf7f; text-decoration-color: #7fbf7f\">│   </span><span style=\"color: #008000; text-decoration-color: #008000\">'entropy'</span>: <span style=\"color: #008080; text-decoration-color: #008080; font-weight: bold\">0.7684309328102026</span>,\n",
              "<span style=\"color: #7fbf7f; text-decoration-color: #7fbf7f\">│   </span><span style=\"color: #008000; text-decoration-color: #008000\">'no_predictions'</span>: <span style=\"color: #008080; text-decoration-color: #008080; font-weight: bold\">0.14130434782608695</span>,\n",
              "<span style=\"color: #7fbf7f; text-decoration-color: #7fbf7f\">│   </span><span style=\"color: #008000; text-decoration-color: #008000\">'attributions_sum_zero'</span>: <span style=\"color: #008080; text-decoration-color: #008080; font-weight: bold\">0.0</span>,\n",
              "<span style=\"color: #7fbf7f; text-decoration-color: #7fbf7f\">│   </span><span style=\"color: #008000; text-decoration-color: #008000\">'explainability_method'</span>: <span style=\"color: #008000; text-decoration-color: #008000\">'deeplift'</span>,\n",
              "<span style=\"color: #7fbf7f; text-decoration-color: #7fbf7f\">│   </span><span style=\"color: #008000; text-decoration-color: #008000\">'prediction_split'</span>: <span style=\"color: #008000; text-decoration-color: #008000\">'not_predicted'</span>\n",
              "<span style=\"font-weight: bold\">}</span>\n",
              "</pre>\n"
            ],
            "text/plain": [
              "\u001b[1m{\u001b[0m\n",
              "\u001b[2;32m│   \u001b[0m\u001b[32m'decision_boundary'\u001b[0m: \u001b[1;35mnp.float64\u001b[0m\u001b[1m(\u001b[0m\u001b[1;36m0.018000000000000002\u001b[0m\u001b[1m)\u001b[0m,\n",
              "\u001b[2;32m│   \u001b[0m\u001b[32m'precision'\u001b[0m: \u001b[1;36m0.2941176470588186\u001b[0m,\n",
              "\u001b[2;32m│   \u001b[0m\u001b[32m'recall'\u001b[0m: \u001b[1;36m0.25659824046920443\u001b[0m,\n",
              "\u001b[2;32m│   \u001b[0m\u001b[32m'f1'\u001b[0m: \u001b[1;36m0.2740798747013619\u001b[0m,\n",
              "\u001b[2;32m│   \u001b[0m\u001b[32m'auprc'\u001b[0m: \u001b[1;35mnp.float64\u001b[0m\u001b[1m(\u001b[0m\u001b[1;36m0.20016557120052259\u001b[0m\u001b[1m)\u001b[0m,\n",
              "\u001b[2;32m│   \u001b[0m\u001b[32m'average_number_of_predicted_tokens'\u001b[0m: \u001b[1;36m3.233695652173913\u001b[0m,\n",
              "\u001b[2;32m│   \u001b[0m\u001b[32m'evidence_span_token_recall'\u001b[0m: \u001b[1;36m0.3715095441974741\u001b[0m,\n",
              "\u001b[2;32m│   \u001b[0m\u001b[32m'evidence_span_recall'\u001b[0m: \u001b[1;36m0.5326086956469025\u001b[0m,\n",
              "\u001b[2;32m│   \u001b[0m\u001b[32m'precision@1'\u001b[0m: \u001b[1;36m0.33152173913043476\u001b[0m,\n",
              "\u001b[2;32m│   \u001b[0m\u001b[32m'recall@1'\u001b[0m: \u001b[1;36m0.08944281524926687\u001b[0m,\n",
              "\u001b[2;32m│   \u001b[0m\u001b[32m'precision@5'\u001b[0m: \u001b[1;36m0.23043478260869565\u001b[0m,\n",
              "\u001b[2;32m│   \u001b[0m\u001b[32m'recall@5'\u001b[0m: \u001b[1;36m0.31085043988269795\u001b[0m,\n",
              "\u001b[2;32m│   \u001b[0m\u001b[32m'precision@10'\u001b[0m: \u001b[1;36m0.14402173913043478\u001b[0m,\n",
              "\u001b[2;32m│   \u001b[0m\u001b[32m'recall@10'\u001b[0m: \u001b[1;36m0.3885630498533724\u001b[0m,\n",
              "\u001b[2;32m│   \u001b[0m\u001b[32m'precision@50'\u001b[0m: \u001b[1;36m0.04934782608695652\u001b[0m,\n",
              "\u001b[2;32m│   \u001b[0m\u001b[32m'recall@50'\u001b[0m: \u001b[1;36m0.6656891495601173\u001b[0m,\n",
              "\u001b[2;32m│   \u001b[0m\u001b[32m'precision@100'\u001b[0m: \u001b[1;36m0.02793478260869565\u001b[0m,\n",
              "\u001b[2;32m│   \u001b[0m\u001b[32m'recall@100'\u001b[0m: \u001b[1;36m0.7536656891495601\u001b[0m,\n",
              "\u001b[2;32m│   \u001b[0m\u001b[32m'iou'\u001b[0m: \u001b[1;36m0.25058378588589575\u001b[0m,\n",
              "\u001b[2;32m│   \u001b[0m\u001b[32m'kl_divergence'\u001b[0m: \u001b[1;36m3.774719582826915\u001b[0m,\n",
              "\u001b[2;32m│   \u001b[0m\u001b[32m'entropy'\u001b[0m: \u001b[1;36m0.7684309328102026\u001b[0m,\n",
              "\u001b[2;32m│   \u001b[0m\u001b[32m'no_predictions'\u001b[0m: \u001b[1;36m0.14130434782608695\u001b[0m,\n",
              "\u001b[2;32m│   \u001b[0m\u001b[32m'attributions_sum_zero'\u001b[0m: \u001b[1;36m0.0\u001b[0m,\n",
              "\u001b[2;32m│   \u001b[0m\u001b[32m'explainability_method'\u001b[0m: \u001b[32m'deeplift'\u001b[0m,\n",
              "\u001b[2;32m│   \u001b[0m\u001b[32m'prediction_split'\u001b[0m: \u001b[32m'not_predicted'\u001b[0m\n",
              "\u001b[1m}\u001b[0m\n"
            ]
          },
          "metadata": {},
          "output_type": "display_data"
        },
        {
          "data": {
            "text/html": [
              "<pre style=\"white-space:pre;overflow-x:auto;line-height:normal;font-family:Menlo,'DejaVu Sans Mono',consolas,'Courier New',monospace\"><span style=\"color: #008000; text-decoration-color: #008000\">'Evaluating gradient_x_input'</span>\n",
              "</pre>\n"
            ],
            "text/plain": [
              "\u001b[32m'Evaluating gradient_x_input'\u001b[0m\n"
            ]
          },
          "metadata": {},
          "output_type": "display_data"
        },
        {
          "data": {
            "application/vnd.jupyter.widget-view+json": {
              "model_id": "725e6e803429407d82650dea3abc30db",
              "version_major": 2,
              "version_minor": 0
            },
            "text/plain": [
              "Output()"
            ]
          },
          "metadata": {},
          "output_type": "display_data"
        },
        {
          "data": {
            "text/html": [
              "<pre style=\"white-space:pre;overflow-x:auto;line-height:normal;font-family:Menlo,'DejaVu Sans Mono',consolas,'Courier New',monospace\"></pre>\n"
            ],
            "text/plain": []
          },
          "metadata": {},
          "output_type": "display_data"
        },
        {
          "name": "stderr",
          "output_type": "stream",
          "text": [
            "/content/explain-icd/explainable_medical_coding/utils/analysis.py:237: DataOrientationWarning: Row orientation inferred during DataFrame construction. Explicitly specify the orientation by passing `orient=\"row\"` to silence this warning.\n",
            "  df = pl.DataFrame(schema=schema, data=rows)\n",
            "sys:1: MapWithoutReturnDtypeWarning: Calling `map_elements` without specifying `return_dtype` can lead to unpredictable results. Specify `return_dtype` to silence this warning.\n",
            "sys:1: MapWithoutReturnDtypeWarning: Calling `map_elements` without specifying `return_dtype` can lead to unpredictable results. Specify `return_dtype` to silence this warning.\n",
            "sys:1: MapWithoutReturnDtypeWarning: Calling `map_elements` without specifying `return_dtype` can lead to unpredictable results. Specify `return_dtype` to silence this warning.\n",
            "sys:1: MapWithoutReturnDtypeWarning: Calling `map_elements` without specifying `return_dtype` can lead to unpredictable results. Specify `return_dtype` to silence this warning.\n",
            "sys:1: MapWithoutReturnDtypeWarning: Calling `map_elements` without specifying `return_dtype` can lead to unpredictable results. Specify `return_dtype` to silence this warning.\n",
            "sys:1: MapWithoutReturnDtypeWarning: Calling `map_elements` without specifying `return_dtype` can lead to unpredictable results. Specify `return_dtype` to silence this warning.\n"
          ]
        },
        {
          "data": {
            "application/vnd.jupyter.widget-view+json": {
              "model_id": "c0d4961d8d6b41c2906f695b6719d9fc",
              "version_major": 2,
              "version_minor": 0
            },
            "text/plain": [
              "Output()"
            ]
          },
          "metadata": {},
          "output_type": "display_data"
        },
        {
          "data": {
            "text/html": [
              "<pre style=\"white-space:pre;overflow-x:auto;line-height:normal;font-family:Menlo,'DejaVu Sans Mono',consolas,'Courier New',monospace\"></pre>\n"
            ],
            "text/plain": []
          },
          "metadata": {},
          "output_type": "display_data"
        },
        {
          "name": "stderr",
          "output_type": "stream",
          "text": [
            "/content/explain-icd/explainable_medical_coding/utils/analysis.py:237: DataOrientationWarning: Row orientation inferred during DataFrame construction. Explicitly specify the orientation by passing `orient=\"row\"` to silence this warning.\n",
            "  df = pl.DataFrame(schema=schema, data=rows)\n",
            "sys:1: MapWithoutReturnDtypeWarning: Calling `map_elements` without specifying `return_dtype` can lead to unpredictable results. Specify `return_dtype` to silence this warning.\n",
            "sys:1: MapWithoutReturnDtypeWarning: Calling `map_elements` without specifying `return_dtype` can lead to unpredictable results. Specify `return_dtype` to silence this warning.\n",
            "sys:1: MapWithoutReturnDtypeWarning: Calling `map_elements` without specifying `return_dtype` can lead to unpredictable results. Specify `return_dtype` to silence this warning.\n",
            "sys:1: MapWithoutReturnDtypeWarning: Calling `map_elements` without specifying `return_dtype` can lead to unpredictable results. Specify `return_dtype` to silence this warning.\n",
            "sys:1: MapWithoutReturnDtypeWarning: Calling `map_elements` without specifying `return_dtype` can lead to unpredictable results. Specify `return_dtype` to silence this warning.\n",
            "sys:1: MapWithoutReturnDtypeWarning: Calling `map_elements` without specifying `return_dtype` can lead to unpredictable results. Specify `return_dtype` to silence this warning.\n",
            "sys:1: MapWithoutReturnDtypeWarning: Calling `map_elements` without specifying `return_dtype` can lead to unpredictable results. Specify `return_dtype` to silence this warning.\n",
            "sys:1: MapWithoutReturnDtypeWarning: Calling `map_elements` without specifying `return_dtype` can lead to unpredictable results. Specify `return_dtype` to silence this warning.\n",
            "sys:1: MapWithoutReturnDtypeWarning: Calling `map_elements` without specifying `return_dtype` can lead to unpredictable results. Specify `return_dtype` to silence this warning.\n",
            "sys:1: MapWithoutReturnDtypeWarning: Calling `map_elements` without specifying `return_dtype` can lead to unpredictable results. Specify `return_dtype` to silence this warning.\n",
            "sys:1: MapWithoutReturnDtypeWarning: Calling `map_elements` without specifying `return_dtype` can lead to unpredictable results. Specify `return_dtype` to silence this warning.\n",
            "sys:1: MapWithoutReturnDtypeWarning: Calling `map_elements` without specifying `return_dtype` can lead to unpredictable results. Specify `return_dtype` to silence this warning.\n",
            "sys:1: MapWithoutReturnDtypeWarning: Calling `map_elements` without specifying `return_dtype` can lead to unpredictable results. Specify `return_dtype` to silence this warning.\n",
            "sys:1: MapWithoutReturnDtypeWarning: Calling `map_elements` without specifying `return_dtype` can lead to unpredictable results. Specify `return_dtype` to silence this warning.\n",
            "sys:1: MapWithoutReturnDtypeWarning: Calling `map_elements` without specifying `return_dtype` can lead to unpredictable results. Specify `return_dtype` to silence this warning.\n",
            "sys:1: MapWithoutReturnDtypeWarning: Calling `map_elements` without specifying `return_dtype` can lead to unpredictable results. Specify `return_dtype` to silence this warning.\n",
            "sys:1: MapWithoutReturnDtypeWarning: Calling `map_elements` without specifying `return_dtype` can lead to unpredictable results. Specify `return_dtype` to silence this warning.\n",
            "sys:1: MapWithoutReturnDtypeWarning: Calling `map_elements` without specifying `return_dtype` can lead to unpredictable results. Specify `return_dtype` to silence this warning.\n",
            "sys:1: MapWithoutReturnDtypeWarning: Calling `map_elements` without specifying `return_dtype` can lead to unpredictable results. Specify `return_dtype` to silence this warning.\n",
            "sys:1: MapWithoutReturnDtypeWarning: Calling `map_elements` without specifying `return_dtype` can lead to unpredictable results. Specify `return_dtype` to silence this warning.\n",
            "sys:1: MapWithoutReturnDtypeWarning: Calling `map_elements` without specifying `return_dtype` can lead to unpredictable results. Specify `return_dtype` to silence this warning.\n",
            "sys:1: MapWithoutReturnDtypeWarning: Calling `map_elements` without specifying `return_dtype` can lead to unpredictable results. Specify `return_dtype` to silence this warning.\n",
            "sys:1: MapWithoutReturnDtypeWarning: Calling `map_elements` without specifying `return_dtype` can lead to unpredictable results. Specify `return_dtype` to silence this warning.\n",
            "sys:1: MapWithoutReturnDtypeWarning: Calling `map_elements` without specifying `return_dtype` can lead to unpredictable results. Specify `return_dtype` to silence this warning.\n"
          ]
        },
        {
          "data": {
            "text/html": [
              "<pre style=\"white-space:pre;overflow-x:auto;line-height:normal;font-family:Menlo,'DejaVu Sans Mono',consolas,'Courier New',monospace\"><span style=\"font-weight: bold\">{</span>\n",
              "<span style=\"color: #7fbf7f; text-decoration-color: #7fbf7f\">│   </span><span style=\"color: #008000; text-decoration-color: #008000\">'decision_boundary'</span>: <span style=\"color: #800080; text-decoration-color: #800080; font-weight: bold\">np.float64</span><span style=\"font-weight: bold\">(</span><span style=\"color: #008080; text-decoration-color: #008080; font-weight: bold\">0.016</span><span style=\"font-weight: bold\">)</span>,\n",
              "<span style=\"color: #7fbf7f; text-decoration-color: #7fbf7f\">│   </span><span style=\"color: #008000; text-decoration-color: #008000\">'precision'</span>: <span style=\"color: #008080; text-decoration-color: #008080; font-weight: bold\">0.2623533594027719</span>,\n",
              "<span style=\"color: #7fbf7f; text-decoration-color: #7fbf7f\">│   </span><span style=\"color: #008000; text-decoration-color: #008000\">'recall'</span>: <span style=\"color: #008080; text-decoration-color: #008080; font-weight: bold\">0.35294117647058654</span>,\n",
              "<span style=\"color: #7fbf7f; text-decoration-color: #7fbf7f\">│   </span><span style=\"color: #008000; text-decoration-color: #008000\">'f1'</span>: <span style=\"color: #008080; text-decoration-color: #008080; font-weight: bold\">0.3009787928172931</span>,\n",
              "<span style=\"color: #7fbf7f; text-decoration-color: #7fbf7f\">│   </span><span style=\"color: #008000; text-decoration-color: #008000\">'auprc'</span>: <span style=\"color: #800080; text-decoration-color: #800080; font-weight: bold\">np.float64</span><span style=\"font-weight: bold\">(</span><span style=\"color: #008080; text-decoration-color: #008080; font-weight: bold\">0.22618729109261942</span><span style=\"font-weight: bold\">)</span>,\n",
              "<span style=\"color: #7fbf7f; text-decoration-color: #7fbf7f\">│   </span><span style=\"color: #008000; text-decoration-color: #008000\">'average_number_of_predicted_tokens'</span>: <span style=\"color: #008080; text-decoration-color: #008080; font-weight: bold\">4.800341296928328</span>,\n",
              "<span style=\"color: #7fbf7f; text-decoration-color: #7fbf7f\">│   </span><span style=\"color: #008000; text-decoration-color: #008000\">'evidence_span_token_recall'</span>: <span style=\"color: #008080; text-decoration-color: #008080; font-weight: bold\">0.4974368137520991</span>,\n",
              "<span style=\"color: #7fbf7f; text-decoration-color: #7fbf7f\">│   </span><span style=\"color: #008000; text-decoration-color: #008000\">'evidence_span_recall'</span>: <span style=\"color: #008080; text-decoration-color: #008080; font-weight: bold\">0.6486063708697111</span>,\n",
              "<span style=\"color: #7fbf7f; text-decoration-color: #7fbf7f\">│   </span><span style=\"color: #008000; text-decoration-color: #008000\">'precision@1'</span>: <span style=\"color: #008080; text-decoration-color: #008080; font-weight: bold\">0.4283276450511945</span>,\n",
              "<span style=\"color: #7fbf7f; text-decoration-color: #7fbf7f\">│   </span><span style=\"color: #008000; text-decoration-color: #008000\">'recall@1'</span>: <span style=\"color: #008080; text-decoration-color: #008080; font-weight: bold\">0.12003825920612148</span>,\n",
              "<span style=\"color: #7fbf7f; text-decoration-color: #7fbf7f\">│   </span><span style=\"color: #008000; text-decoration-color: #008000\">'precision@5'</span>: <span style=\"color: #008080; text-decoration-color: #008080; font-weight: bold\">0.2600682593856655</span>,\n",
              "<span style=\"color: #7fbf7f; text-decoration-color: #7fbf7f\">│   </span><span style=\"color: #008000; text-decoration-color: #008000\">'recall@5'</span>: <span style=\"color: #008080; text-decoration-color: #008080; font-weight: bold\">0.36441893830703015</span>,\n",
              "<span style=\"color: #7fbf7f; text-decoration-color: #7fbf7f\">│   </span><span style=\"color: #008000; text-decoration-color: #008000\">'precision@10'</span>: <span style=\"color: #008080; text-decoration-color: #008080; font-weight: bold\">0.16911262798634813</span>,\n",
              "<span style=\"color: #7fbf7f; text-decoration-color: #7fbf7f\">│   </span><span style=\"color: #008000; text-decoration-color: #008000\">'recall@10'</span>: <span style=\"color: #008080; text-decoration-color: #008080; font-weight: bold\">0.47393591582974653</span>,\n",
              "<span style=\"color: #7fbf7f; text-decoration-color: #7fbf7f\">│   </span><span style=\"color: #008000; text-decoration-color: #008000\">'precision@50'</span>: <span style=\"color: #008080; text-decoration-color: #008080; font-weight: bold\">0.054402730375426624</span>,\n",
              "<span style=\"color: #7fbf7f; text-decoration-color: #7fbf7f\">│   </span><span style=\"color: #008000; text-decoration-color: #008000\">'recall@50'</span>: <span style=\"color: #008080; text-decoration-color: #008080; font-weight: bold\">0.7623146819703491</span>,\n",
              "<span style=\"color: #7fbf7f; text-decoration-color: #7fbf7f\">│   </span><span style=\"color: #008000; text-decoration-color: #008000\">'precision@100'</span>: <span style=\"color: #008080; text-decoration-color: #008080; font-weight: bold\">0.030563139931740615</span>,\n",
              "<span style=\"color: #7fbf7f; text-decoration-color: #7fbf7f\">│   </span><span style=\"color: #008000; text-decoration-color: #008000\">'recall@100'</span>: <span style=\"color: #008080; text-decoration-color: #008080; font-weight: bold\">0.8565279770444764</span>,\n",
              "<span style=\"color: #7fbf7f; text-decoration-color: #7fbf7f\">│   </span><span style=\"color: #008000; text-decoration-color: #008000\">'iou'</span>: <span style=\"color: #008080; text-decoration-color: #008080; font-weight: bold\">0.3070159044099586</span>,\n",
              "<span style=\"color: #7fbf7f; text-decoration-color: #7fbf7f\">│   </span><span style=\"color: #008000; text-decoration-color: #008000\">'kl_divergence'</span>: <span style=\"color: #008080; text-decoration-color: #008080; font-weight: bold\">3.408759620867212</span>,\n",
              "<span style=\"color: #7fbf7f; text-decoration-color: #7fbf7f\">│   </span><span style=\"color: #008000; text-decoration-color: #008000\">'entropy'</span>: <span style=\"color: #008080; text-decoration-color: #008080; font-weight: bold\">0.7392379247615625</span>,\n",
              "<span style=\"color: #7fbf7f; text-decoration-color: #7fbf7f\">│   </span><span style=\"color: #008000; text-decoration-color: #008000\">'no_predictions'</span>: <span style=\"color: #008080; text-decoration-color: #008080; font-weight: bold\">0.06655290102389079</span>,\n",
              "<span style=\"color: #7fbf7f; text-decoration-color: #7fbf7f\">│   </span><span style=\"color: #008000; text-decoration-color: #008000\">'attributions_sum_zero'</span>: <span style=\"color: #008080; text-decoration-color: #008080; font-weight: bold\">0.0</span>,\n",
              "<span style=\"color: #7fbf7f; text-decoration-color: #7fbf7f\">│   </span><span style=\"color: #008000; text-decoration-color: #008000\">'explainability_method'</span>: <span style=\"color: #008000; text-decoration-color: #008000\">'gradient_x_input'</span>,\n",
              "<span style=\"color: #7fbf7f; text-decoration-color: #7fbf7f\">│   </span><span style=\"color: #008000; text-decoration-color: #008000\">'prediction_split'</span>: <span style=\"color: #008000; text-decoration-color: #008000\">'all'</span>\n",
              "<span style=\"font-weight: bold\">}</span>\n",
              "</pre>\n"
            ],
            "text/plain": [
              "\u001b[1m{\u001b[0m\n",
              "\u001b[2;32m│   \u001b[0m\u001b[32m'decision_boundary'\u001b[0m: \u001b[1;35mnp.float64\u001b[0m\u001b[1m(\u001b[0m\u001b[1;36m0.016\u001b[0m\u001b[1m)\u001b[0m,\n",
              "\u001b[2;32m│   \u001b[0m\u001b[32m'precision'\u001b[0m: \u001b[1;36m0.2623533594027719\u001b[0m,\n",
              "\u001b[2;32m│   \u001b[0m\u001b[32m'recall'\u001b[0m: \u001b[1;36m0.35294117647058654\u001b[0m,\n",
              "\u001b[2;32m│   \u001b[0m\u001b[32m'f1'\u001b[0m: \u001b[1;36m0.3009787928172931\u001b[0m,\n",
              "\u001b[2;32m│   \u001b[0m\u001b[32m'auprc'\u001b[0m: \u001b[1;35mnp.float64\u001b[0m\u001b[1m(\u001b[0m\u001b[1;36m0.22618729109261942\u001b[0m\u001b[1m)\u001b[0m,\n",
              "\u001b[2;32m│   \u001b[0m\u001b[32m'average_number_of_predicted_tokens'\u001b[0m: \u001b[1;36m4.800341296928328\u001b[0m,\n",
              "\u001b[2;32m│   \u001b[0m\u001b[32m'evidence_span_token_recall'\u001b[0m: \u001b[1;36m0.4974368137520991\u001b[0m,\n",
              "\u001b[2;32m│   \u001b[0m\u001b[32m'evidence_span_recall'\u001b[0m: \u001b[1;36m0.6486063708697111\u001b[0m,\n",
              "\u001b[2;32m│   \u001b[0m\u001b[32m'precision@1'\u001b[0m: \u001b[1;36m0.4283276450511945\u001b[0m,\n",
              "\u001b[2;32m│   \u001b[0m\u001b[32m'recall@1'\u001b[0m: \u001b[1;36m0.12003825920612148\u001b[0m,\n",
              "\u001b[2;32m│   \u001b[0m\u001b[32m'precision@5'\u001b[0m: \u001b[1;36m0.2600682593856655\u001b[0m,\n",
              "\u001b[2;32m│   \u001b[0m\u001b[32m'recall@5'\u001b[0m: \u001b[1;36m0.36441893830703015\u001b[0m,\n",
              "\u001b[2;32m│   \u001b[0m\u001b[32m'precision@10'\u001b[0m: \u001b[1;36m0.16911262798634813\u001b[0m,\n",
              "\u001b[2;32m│   \u001b[0m\u001b[32m'recall@10'\u001b[0m: \u001b[1;36m0.47393591582974653\u001b[0m,\n",
              "\u001b[2;32m│   \u001b[0m\u001b[32m'precision@50'\u001b[0m: \u001b[1;36m0.054402730375426624\u001b[0m,\n",
              "\u001b[2;32m│   \u001b[0m\u001b[32m'recall@50'\u001b[0m: \u001b[1;36m0.7623146819703491\u001b[0m,\n",
              "\u001b[2;32m│   \u001b[0m\u001b[32m'precision@100'\u001b[0m: \u001b[1;36m0.030563139931740615\u001b[0m,\n",
              "\u001b[2;32m│   \u001b[0m\u001b[32m'recall@100'\u001b[0m: \u001b[1;36m0.8565279770444764\u001b[0m,\n",
              "\u001b[2;32m│   \u001b[0m\u001b[32m'iou'\u001b[0m: \u001b[1;36m0.3070159044099586\u001b[0m,\n",
              "\u001b[2;32m│   \u001b[0m\u001b[32m'kl_divergence'\u001b[0m: \u001b[1;36m3.408759620867212\u001b[0m,\n",
              "\u001b[2;32m│   \u001b[0m\u001b[32m'entropy'\u001b[0m: \u001b[1;36m0.7392379247615625\u001b[0m,\n",
              "\u001b[2;32m│   \u001b[0m\u001b[32m'no_predictions'\u001b[0m: \u001b[1;36m0.06655290102389079\u001b[0m,\n",
              "\u001b[2;32m│   \u001b[0m\u001b[32m'attributions_sum_zero'\u001b[0m: \u001b[1;36m0.0\u001b[0m,\n",
              "\u001b[2;32m│   \u001b[0m\u001b[32m'explainability_method'\u001b[0m: \u001b[32m'gradient_x_input'\u001b[0m,\n",
              "\u001b[2;32m│   \u001b[0m\u001b[32m'prediction_split'\u001b[0m: \u001b[32m'all'\u001b[0m\n",
              "\u001b[1m}\u001b[0m\n"
            ]
          },
          "metadata": {},
          "output_type": "display_data"
        },
        {
          "name": "stderr",
          "output_type": "stream",
          "text": [
            "sys:1: MapWithoutReturnDtypeWarning: Calling `map_elements` without specifying `return_dtype` can lead to unpredictable results. Specify `return_dtype` to silence this warning.\n",
            "sys:1: MapWithoutReturnDtypeWarning: Calling `map_elements` without specifying `return_dtype` can lead to unpredictable results. Specify `return_dtype` to silence this warning.\n",
            "sys:1: MapWithoutReturnDtypeWarning: Calling `map_elements` without specifying `return_dtype` can lead to unpredictable results. Specify `return_dtype` to silence this warning.\n",
            "sys:1: MapWithoutReturnDtypeWarning: Calling `map_elements` without specifying `return_dtype` can lead to unpredictable results. Specify `return_dtype` to silence this warning.\n",
            "sys:1: MapWithoutReturnDtypeWarning: Calling `map_elements` without specifying `return_dtype` can lead to unpredictable results. Specify `return_dtype` to silence this warning.\n",
            "sys:1: MapWithoutReturnDtypeWarning: Calling `map_elements` without specifying `return_dtype` can lead to unpredictable results. Specify `return_dtype` to silence this warning.\n",
            "sys:1: MapWithoutReturnDtypeWarning: Calling `map_elements` without specifying `return_dtype` can lead to unpredictable results. Specify `return_dtype` to silence this warning.\n",
            "sys:1: MapWithoutReturnDtypeWarning: Calling `map_elements` without specifying `return_dtype` can lead to unpredictable results. Specify `return_dtype` to silence this warning.\n",
            "sys:1: MapWithoutReturnDtypeWarning: Calling `map_elements` without specifying `return_dtype` can lead to unpredictable results. Specify `return_dtype` to silence this warning.\n",
            "sys:1: MapWithoutReturnDtypeWarning: Calling `map_elements` without specifying `return_dtype` can lead to unpredictable results. Specify `return_dtype` to silence this warning.\n",
            "sys:1: MapWithoutReturnDtypeWarning: Calling `map_elements` without specifying `return_dtype` can lead to unpredictable results. Specify `return_dtype` to silence this warning.\n",
            "sys:1: MapWithoutReturnDtypeWarning: Calling `map_elements` without specifying `return_dtype` can lead to unpredictable results. Specify `return_dtype` to silence this warning.\n",
            "sys:1: MapWithoutReturnDtypeWarning: Calling `map_elements` without specifying `return_dtype` can lead to unpredictable results. Specify `return_dtype` to silence this warning.\n",
            "sys:1: MapWithoutReturnDtypeWarning: Calling `map_elements` without specifying `return_dtype` can lead to unpredictable results. Specify `return_dtype` to silence this warning.\n",
            "sys:1: MapWithoutReturnDtypeWarning: Calling `map_elements` without specifying `return_dtype` can lead to unpredictable results. Specify `return_dtype` to silence this warning.\n",
            "sys:1: MapWithoutReturnDtypeWarning: Calling `map_elements` without specifying `return_dtype` can lead to unpredictable results. Specify `return_dtype` to silence this warning.\n",
            "sys:1: MapWithoutReturnDtypeWarning: Calling `map_elements` without specifying `return_dtype` can lead to unpredictable results. Specify `return_dtype` to silence this warning.\n",
            "sys:1: MapWithoutReturnDtypeWarning: Calling `map_elements` without specifying `return_dtype` can lead to unpredictable results. Specify `return_dtype` to silence this warning.\n"
          ]
        },
        {
          "data": {
            "text/html": [
              "<pre style=\"white-space:pre;overflow-x:auto;line-height:normal;font-family:Menlo,'DejaVu Sans Mono',consolas,'Courier New',monospace\"><span style=\"font-weight: bold\">{</span>\n",
              "<span style=\"color: #7fbf7f; text-decoration-color: #7fbf7f\">│   </span><span style=\"color: #008000; text-decoration-color: #008000\">'decision_boundary'</span>: <span style=\"color: #800080; text-decoration-color: #800080; font-weight: bold\">np.float64</span><span style=\"font-weight: bold\">(</span><span style=\"color: #008080; text-decoration-color: #008080; font-weight: bold\">0.016</span><span style=\"font-weight: bold\">)</span>,\n",
              "<span style=\"color: #7fbf7f; text-decoration-color: #7fbf7f\">│   </span><span style=\"color: #008000; text-decoration-color: #008000\">'precision'</span>: <span style=\"color: #008080; text-decoration-color: #008080; font-weight: bold\">0.2558906691800176</span>,\n",
              "<span style=\"color: #7fbf7f; text-decoration-color: #7fbf7f\">│   </span><span style=\"color: #008000; text-decoration-color: #008000\">'recall'</span>: <span style=\"color: #008080; text-decoration-color: #008080; font-weight: bold\">0.38537970191624993</span>,\n",
              "<span style=\"color: #7fbf7f; text-decoration-color: #7fbf7f\">│   </span><span style=\"color: #008000; text-decoration-color: #008000\">'f1'</span>: <span style=\"color: #008080; text-decoration-color: #008080; font-weight: bold\">0.3075615972764256</span>,\n",
              "<span style=\"color: #7fbf7f; text-decoration-color: #7fbf7f\">│   </span><span style=\"color: #008000; text-decoration-color: #008000\">'auprc'</span>: <span style=\"color: #800080; text-decoration-color: #800080; font-weight: bold\">np.float64</span><span style=\"font-weight: bold\">(</span><span style=\"color: #008080; text-decoration-color: #008080; font-weight: bold\">0.23753030201307626</span><span style=\"font-weight: bold\">)</span>,\n",
              "<span style=\"color: #7fbf7f; text-decoration-color: #7fbf7f\">│   </span><span style=\"color: #008000; text-decoration-color: #008000\">'average_number_of_predicted_tokens'</span>: <span style=\"color: #008080; text-decoration-color: #008080; font-weight: bold\">5.278606965174129</span>,\n",
              "<span style=\"color: #7fbf7f; text-decoration-color: #7fbf7f\">│   </span><span style=\"color: #008000; text-decoration-color: #008000\">'evidence_span_token_recall'</span>: <span style=\"color: #008080; text-decoration-color: #008080; font-weight: bold\">0.5413975224577268</span>,\n",
              "<span style=\"color: #7fbf7f; text-decoration-color: #7fbf7f\">│   </span><span style=\"color: #008000; text-decoration-color: #008000\">'evidence_span_recall'</span>: <span style=\"color: #008080; text-decoration-color: #008080; font-weight: bold\">0.6992122719667433</span>,\n",
              "<span style=\"color: #7fbf7f; text-decoration-color: #7fbf7f\">│   </span><span style=\"color: #008000; text-decoration-color: #008000\">'precision@1'</span>: <span style=\"color: #008080; text-decoration-color: #008080; font-weight: bold\">0.4552238805970149</span>,\n",
              "<span style=\"color: #7fbf7f; text-decoration-color: #7fbf7f\">│   </span><span style=\"color: #008000; text-decoration-color: #008000\">'recall@1'</span>: <span style=\"color: #008080; text-decoration-color: #008080; font-weight: bold\">0.12987934705464868</span>,\n",
              "<span style=\"color: #7fbf7f; text-decoration-color: #7fbf7f\">│   </span><span style=\"color: #008000; text-decoration-color: #008000\">'precision@5'</span>: <span style=\"color: #008080; text-decoration-color: #008080; font-weight: bold\">0.2746268656716418</span>,\n",
              "<span style=\"color: #7fbf7f; text-decoration-color: #7fbf7f\">│   </span><span style=\"color: #008000; text-decoration-color: #008000\">'recall@5'</span>: <span style=\"color: #008080; text-decoration-color: #008080; font-weight: bold\">0.39176721078779275</span>,\n",
              "<span style=\"color: #7fbf7f; text-decoration-color: #7fbf7f\">│   </span><span style=\"color: #008000; text-decoration-color: #008000\">'precision@10'</span>: <span style=\"color: #008080; text-decoration-color: #008080; font-weight: bold\">0.17885572139303482</span>,\n",
              "<span style=\"color: #7fbf7f; text-decoration-color: #7fbf7f\">│   </span><span style=\"color: #008000; text-decoration-color: #008000\">'recall@10'</span>: <span style=\"color: #008080; text-decoration-color: #008080; font-weight: bold\">0.5102909865152591</span>,\n",
              "<span style=\"color: #7fbf7f; text-decoration-color: #7fbf7f\">│   </span><span style=\"color: #008000; text-decoration-color: #008000\">'precision@50'</span>: <span style=\"color: #008080; text-decoration-color: #008080; font-weight: bold\">0.0563681592039801</span>,\n",
              "<span style=\"color: #7fbf7f; text-decoration-color: #7fbf7f\">│   </span><span style=\"color: #008000; text-decoration-color: #008000\">'recall@50'</span>: <span style=\"color: #008080; text-decoration-color: #008080; font-weight: bold\">0.8041163946061036</span>,\n",
              "<span style=\"color: #7fbf7f; text-decoration-color: #7fbf7f\">│   </span><span style=\"color: #008000; text-decoration-color: #008000\">'precision@100'</span>: <span style=\"color: #008080; text-decoration-color: #008080; font-weight: bold\">0.03164179104477612</span>,\n",
              "<span style=\"color: #7fbf7f; text-decoration-color: #7fbf7f\">│   </span><span style=\"color: #008000; text-decoration-color: #008000\">'recall@100'</span>: <span style=\"color: #008080; text-decoration-color: #008080; font-weight: bold\">0.9027679205110007</span>,\n",
              "<span style=\"color: #7fbf7f; text-decoration-color: #7fbf7f\">│   </span><span style=\"color: #008000; text-decoration-color: #008000\">'iou'</span>: <span style=\"color: #008080; text-decoration-color: #008080; font-weight: bold\">0.33066957043727047</span>,\n",
              "<span style=\"color: #7fbf7f; text-decoration-color: #7fbf7f\">│   </span><span style=\"color: #008000; text-decoration-color: #008000\">'kl_divergence'</span>: <span style=\"color: #008080; text-decoration-color: #008080; font-weight: bold\">3.234885124794924</span>,\n",
              "<span style=\"color: #7fbf7f; text-decoration-color: #7fbf7f\">│   </span><span style=\"color: #008000; text-decoration-color: #008000\">'entropy'</span>: <span style=\"color: #008080; text-decoration-color: #008080; font-weight: bold\">0.7235752249107431</span>,\n",
              "<span style=\"color: #7fbf7f; text-decoration-color: #7fbf7f\">│   </span><span style=\"color: #008000; text-decoration-color: #008000\">'no_predictions'</span>: <span style=\"color: #008080; text-decoration-color: #008080; font-weight: bold\">0.017412935323383085</span>,\n",
              "<span style=\"color: #7fbf7f; text-decoration-color: #7fbf7f\">│   </span><span style=\"color: #008000; text-decoration-color: #008000\">'attributions_sum_zero'</span>: <span style=\"color: #008080; text-decoration-color: #008080; font-weight: bold\">0.0</span>,\n",
              "<span style=\"color: #7fbf7f; text-decoration-color: #7fbf7f\">│   </span><span style=\"color: #008000; text-decoration-color: #008000\">'explainability_method'</span>: <span style=\"color: #008000; text-decoration-color: #008000\">'gradient_x_input'</span>,\n",
              "<span style=\"color: #7fbf7f; text-decoration-color: #7fbf7f\">│   </span><span style=\"color: #008000; text-decoration-color: #008000\">'prediction_split'</span>: <span style=\"color: #008000; text-decoration-color: #008000\">'predicted'</span>\n",
              "<span style=\"font-weight: bold\">}</span>\n",
              "</pre>\n"
            ],
            "text/plain": [
              "\u001b[1m{\u001b[0m\n",
              "\u001b[2;32m│   \u001b[0m\u001b[32m'decision_boundary'\u001b[0m: \u001b[1;35mnp.float64\u001b[0m\u001b[1m(\u001b[0m\u001b[1;36m0.016\u001b[0m\u001b[1m)\u001b[0m,\n",
              "\u001b[2;32m│   \u001b[0m\u001b[32m'precision'\u001b[0m: \u001b[1;36m0.2558906691800176\u001b[0m,\n",
              "\u001b[2;32m│   \u001b[0m\u001b[32m'recall'\u001b[0m: \u001b[1;36m0.38537970191624993\u001b[0m,\n",
              "\u001b[2;32m│   \u001b[0m\u001b[32m'f1'\u001b[0m: \u001b[1;36m0.3075615972764256\u001b[0m,\n",
              "\u001b[2;32m│   \u001b[0m\u001b[32m'auprc'\u001b[0m: \u001b[1;35mnp.float64\u001b[0m\u001b[1m(\u001b[0m\u001b[1;36m0.23753030201307626\u001b[0m\u001b[1m)\u001b[0m,\n",
              "\u001b[2;32m│   \u001b[0m\u001b[32m'average_number_of_predicted_tokens'\u001b[0m: \u001b[1;36m5.278606965174129\u001b[0m,\n",
              "\u001b[2;32m│   \u001b[0m\u001b[32m'evidence_span_token_recall'\u001b[0m: \u001b[1;36m0.5413975224577268\u001b[0m,\n",
              "\u001b[2;32m│   \u001b[0m\u001b[32m'evidence_span_recall'\u001b[0m: \u001b[1;36m0.6992122719667433\u001b[0m,\n",
              "\u001b[2;32m│   \u001b[0m\u001b[32m'precision@1'\u001b[0m: \u001b[1;36m0.4552238805970149\u001b[0m,\n",
              "\u001b[2;32m│   \u001b[0m\u001b[32m'recall@1'\u001b[0m: \u001b[1;36m0.12987934705464868\u001b[0m,\n",
              "\u001b[2;32m│   \u001b[0m\u001b[32m'precision@5'\u001b[0m: \u001b[1;36m0.2746268656716418\u001b[0m,\n",
              "\u001b[2;32m│   \u001b[0m\u001b[32m'recall@5'\u001b[0m: \u001b[1;36m0.39176721078779275\u001b[0m,\n",
              "\u001b[2;32m│   \u001b[0m\u001b[32m'precision@10'\u001b[0m: \u001b[1;36m0.17885572139303482\u001b[0m,\n",
              "\u001b[2;32m│   \u001b[0m\u001b[32m'recall@10'\u001b[0m: \u001b[1;36m0.5102909865152591\u001b[0m,\n",
              "\u001b[2;32m│   \u001b[0m\u001b[32m'precision@50'\u001b[0m: \u001b[1;36m0.0563681592039801\u001b[0m,\n",
              "\u001b[2;32m│   \u001b[0m\u001b[32m'recall@50'\u001b[0m: \u001b[1;36m0.8041163946061036\u001b[0m,\n",
              "\u001b[2;32m│   \u001b[0m\u001b[32m'precision@100'\u001b[0m: \u001b[1;36m0.03164179104477612\u001b[0m,\n",
              "\u001b[2;32m│   \u001b[0m\u001b[32m'recall@100'\u001b[0m: \u001b[1;36m0.9027679205110007\u001b[0m,\n",
              "\u001b[2;32m│   \u001b[0m\u001b[32m'iou'\u001b[0m: \u001b[1;36m0.33066957043727047\u001b[0m,\n",
              "\u001b[2;32m│   \u001b[0m\u001b[32m'kl_divergence'\u001b[0m: \u001b[1;36m3.234885124794924\u001b[0m,\n",
              "\u001b[2;32m│   \u001b[0m\u001b[32m'entropy'\u001b[0m: \u001b[1;36m0.7235752249107431\u001b[0m,\n",
              "\u001b[2;32m│   \u001b[0m\u001b[32m'no_predictions'\u001b[0m: \u001b[1;36m0.017412935323383085\u001b[0m,\n",
              "\u001b[2;32m│   \u001b[0m\u001b[32m'attributions_sum_zero'\u001b[0m: \u001b[1;36m0.0\u001b[0m,\n",
              "\u001b[2;32m│   \u001b[0m\u001b[32m'explainability_method'\u001b[0m: \u001b[32m'gradient_x_input'\u001b[0m,\n",
              "\u001b[2;32m│   \u001b[0m\u001b[32m'prediction_split'\u001b[0m: \u001b[32m'predicted'\u001b[0m\n",
              "\u001b[1m}\u001b[0m\n"
            ]
          },
          "metadata": {},
          "output_type": "display_data"
        },
        {
          "name": "stderr",
          "output_type": "stream",
          "text": [
            "sys:1: MapWithoutReturnDtypeWarning: Calling `map_elements` without specifying `return_dtype` can lead to unpredictable results. Specify `return_dtype` to silence this warning.\n",
            "sys:1: MapWithoutReturnDtypeWarning: Calling `map_elements` without specifying `return_dtype` can lead to unpredictable results. Specify `return_dtype` to silence this warning.\n",
            "sys:1: MapWithoutReturnDtypeWarning: Calling `map_elements` without specifying `return_dtype` can lead to unpredictable results. Specify `return_dtype` to silence this warning.\n",
            "sys:1: MapWithoutReturnDtypeWarning: Calling `map_elements` without specifying `return_dtype` can lead to unpredictable results. Specify `return_dtype` to silence this warning.\n",
            "sys:1: MapWithoutReturnDtypeWarning: Calling `map_elements` without specifying `return_dtype` can lead to unpredictable results. Specify `return_dtype` to silence this warning.\n",
            "sys:1: MapWithoutReturnDtypeWarning: Calling `map_elements` without specifying `return_dtype` can lead to unpredictable results. Specify `return_dtype` to silence this warning.\n",
            "sys:1: MapWithoutReturnDtypeWarning: Calling `map_elements` without specifying `return_dtype` can lead to unpredictable results. Specify `return_dtype` to silence this warning.\n",
            "sys:1: MapWithoutReturnDtypeWarning: Calling `map_elements` without specifying `return_dtype` can lead to unpredictable results. Specify `return_dtype` to silence this warning.\n",
            "sys:1: MapWithoutReturnDtypeWarning: Calling `map_elements` without specifying `return_dtype` can lead to unpredictable results. Specify `return_dtype` to silence this warning.\n",
            "sys:1: MapWithoutReturnDtypeWarning: Calling `map_elements` without specifying `return_dtype` can lead to unpredictable results. Specify `return_dtype` to silence this warning.\n",
            "sys:1: MapWithoutReturnDtypeWarning: Calling `map_elements` without specifying `return_dtype` can lead to unpredictable results. Specify `return_dtype` to silence this warning.\n",
            "sys:1: MapWithoutReturnDtypeWarning: Calling `map_elements` without specifying `return_dtype` can lead to unpredictable results. Specify `return_dtype` to silence this warning.\n",
            "sys:1: MapWithoutReturnDtypeWarning: Calling `map_elements` without specifying `return_dtype` can lead to unpredictable results. Specify `return_dtype` to silence this warning.\n",
            "sys:1: MapWithoutReturnDtypeWarning: Calling `map_elements` without specifying `return_dtype` can lead to unpredictable results. Specify `return_dtype` to silence this warning.\n",
            "sys:1: MapWithoutReturnDtypeWarning: Calling `map_elements` without specifying `return_dtype` can lead to unpredictable results. Specify `return_dtype` to silence this warning.\n",
            "sys:1: MapWithoutReturnDtypeWarning: Calling `map_elements` without specifying `return_dtype` can lead to unpredictable results. Specify `return_dtype` to silence this warning.\n",
            "sys:1: MapWithoutReturnDtypeWarning: Calling `map_elements` without specifying `return_dtype` can lead to unpredictable results. Specify `return_dtype` to silence this warning.\n",
            "sys:1: MapWithoutReturnDtypeWarning: Calling `map_elements` without specifying `return_dtype` can lead to unpredictable results. Specify `return_dtype` to silence this warning.\n"
          ]
        },
        {
          "data": {
            "text/html": [
              "<pre style=\"white-space:pre;overflow-x:auto;line-height:normal;font-family:Menlo,'DejaVu Sans Mono',consolas,'Courier New',monospace\"><span style=\"font-weight: bold\">{</span>\n",
              "<span style=\"color: #7fbf7f; text-decoration-color: #7fbf7f\">│   </span><span style=\"color: #008000; text-decoration-color: #008000\">'decision_boundary'</span>: <span style=\"color: #800080; text-decoration-color: #800080; font-weight: bold\">np.float64</span><span style=\"font-weight: bold\">(</span><span style=\"color: #008080; text-decoration-color: #008080; font-weight: bold\">0.016</span><span style=\"font-weight: bold\">)</span>,\n",
              "<span style=\"color: #7fbf7f; text-decoration-color: #7fbf7f\">│   </span><span style=\"color: #008000; text-decoration-color: #008000\">'precision'</span>: <span style=\"color: #008080; text-decoration-color: #008080; font-weight: bold\">0.28219971056439536</span>,\n",
              "<span style=\"color: #7fbf7f; text-decoration-color: #7fbf7f\">│   </span><span style=\"color: #008000; text-decoration-color: #008000\">'recall'</span>: <span style=\"color: #008080; text-decoration-color: #008080; font-weight: bold\">0.28592375366568495</span>,\n",
              "<span style=\"color: #7fbf7f; text-decoration-color: #7fbf7f\">│   </span><span style=\"color: #008000; text-decoration-color: #008000\">'f1'</span>: <span style=\"color: #008080; text-decoration-color: #008080; font-weight: bold\">0.28404952657911847</span>,\n",
              "<span style=\"color: #7fbf7f; text-decoration-color: #7fbf7f\">│   </span><span style=\"color: #008000; text-decoration-color: #008000\">'auprc'</span>: <span style=\"color: #800080; text-decoration-color: #800080; font-weight: bold\">np.float64</span><span style=\"font-weight: bold\">(</span><span style=\"color: #008080; text-decoration-color: #008080; font-weight: bold\">0.2037085081838397</span><span style=\"font-weight: bold\">)</span>,\n",
              "<span style=\"color: #7fbf7f; text-decoration-color: #7fbf7f\">│   </span><span style=\"color: #008000; text-decoration-color: #008000\">'average_number_of_predicted_tokens'</span>: <span style=\"color: #008080; text-decoration-color: #008080; font-weight: bold\">3.755434782608696</span>,\n",
              "<span style=\"color: #7fbf7f; text-decoration-color: #7fbf7f\">│   </span><span style=\"color: #008000; text-decoration-color: #008000\">'evidence_span_token_recall'</span>: <span style=\"color: #008080; text-decoration-color: #008080; font-weight: bold\">0.4013922219061083</span>,\n",
              "<span style=\"color: #7fbf7f; text-decoration-color: #7fbf7f\">│   </span><span style=\"color: #008000; text-decoration-color: #008000\">'evidence_span_recall'</span>: <span style=\"color: #008080; text-decoration-color: #008080; font-weight: bold\">0.5380434782555438</span>,\n",
              "<span style=\"color: #7fbf7f; text-decoration-color: #7fbf7f\">│   </span><span style=\"color: #008000; text-decoration-color: #008000\">'precision@1'</span>: <span style=\"color: #008080; text-decoration-color: #008080; font-weight: bold\">0.3695652173913043</span>,\n",
              "<span style=\"color: #7fbf7f; text-decoration-color: #7fbf7f\">│   </span><span style=\"color: #008000; text-decoration-color: #008000\">'recall@1'</span>: <span style=\"color: #008080; text-decoration-color: #008080; font-weight: bold\">0.09970674486803519</span>,\n",
              "<span style=\"color: #7fbf7f; text-decoration-color: #7fbf7f\">│   </span><span style=\"color: #008000; text-decoration-color: #008000\">'precision@5'</span>: <span style=\"color: #008080; text-decoration-color: #008080; font-weight: bold\">0.22826086956521738</span>,\n",
              "<span style=\"color: #7fbf7f; text-decoration-color: #7fbf7f\">│   </span><span style=\"color: #008000; text-decoration-color: #008000\">'recall@5'</span>: <span style=\"color: #008080; text-decoration-color: #008080; font-weight: bold\">0.30791788856304986</span>,\n",
              "<span style=\"color: #7fbf7f; text-decoration-color: #7fbf7f\">│   </span><span style=\"color: #008000; text-decoration-color: #008000\">'precision@10'</span>: <span style=\"color: #008080; text-decoration-color: #008080; font-weight: bold\">0.14782608695652175</span>,\n",
              "<span style=\"color: #7fbf7f; text-decoration-color: #7fbf7f\">│   </span><span style=\"color: #008000; text-decoration-color: #008000\">'recall@10'</span>: <span style=\"color: #008080; text-decoration-color: #008080; font-weight: bold\">0.39882697947214074</span>,\n",
              "<span style=\"color: #7fbf7f; text-decoration-color: #7fbf7f\">│   </span><span style=\"color: #008000; text-decoration-color: #008000\">'precision@50'</span>: <span style=\"color: #008080; text-decoration-color: #008080; font-weight: bold\">0.050108695652173914</span>,\n",
              "<span style=\"color: #7fbf7f; text-decoration-color: #7fbf7f\">│   </span><span style=\"color: #008000; text-decoration-color: #008000\">'recall@50'</span>: <span style=\"color: #008080; text-decoration-color: #008080; font-weight: bold\">0.6759530791788856</span>,\n",
              "<span style=\"color: #7fbf7f; text-decoration-color: #7fbf7f\">│   </span><span style=\"color: #008000; text-decoration-color: #008000\">'precision@100'</span>: <span style=\"color: #008080; text-decoration-color: #008080; font-weight: bold\">0.028206521739130436</span>,\n",
              "<span style=\"color: #7fbf7f; text-decoration-color: #7fbf7f\">│   </span><span style=\"color: #008000; text-decoration-color: #008000\">'recall@100'</span>: <span style=\"color: #008080; text-decoration-color: #008080; font-weight: bold\">0.7609970674486803</span>,\n",
              "<span style=\"color: #7fbf7f; text-decoration-color: #7fbf7f\">│   </span><span style=\"color: #008000; text-decoration-color: #008000\">'iou'</span>: <span style=\"color: #008080; text-decoration-color: #008080; font-weight: bold\">0.2553377862415922</span>,\n",
              "<span style=\"color: #7fbf7f; text-decoration-color: #7fbf7f\">│   </span><span style=\"color: #008000; text-decoration-color: #008000\">'kl_divergence'</span>: <span style=\"color: #008080; text-decoration-color: #008080; font-weight: bold\">3.788637595981669</span>,\n",
              "<span style=\"color: #7fbf7f; text-decoration-color: #7fbf7f\">│   </span><span style=\"color: #008000; text-decoration-color: #008000\">'entropy'</span>: <span style=\"color: #008080; text-decoration-color: #008080; font-weight: bold\">0.7734575190008527</span>,\n",
              "<span style=\"color: #7fbf7f; text-decoration-color: #7fbf7f\">│   </span><span style=\"color: #008000; text-decoration-color: #008000\">'no_predictions'</span>: <span style=\"color: #008080; text-decoration-color: #008080; font-weight: bold\">0.17391304347826086</span>,\n",
              "<span style=\"color: #7fbf7f; text-decoration-color: #7fbf7f\">│   </span><span style=\"color: #008000; text-decoration-color: #008000\">'attributions_sum_zero'</span>: <span style=\"color: #008080; text-decoration-color: #008080; font-weight: bold\">0.0</span>,\n",
              "<span style=\"color: #7fbf7f; text-decoration-color: #7fbf7f\">│   </span><span style=\"color: #008000; text-decoration-color: #008000\">'explainability_method'</span>: <span style=\"color: #008000; text-decoration-color: #008000\">'gradient_x_input'</span>,\n",
              "<span style=\"color: #7fbf7f; text-decoration-color: #7fbf7f\">│   </span><span style=\"color: #008000; text-decoration-color: #008000\">'prediction_split'</span>: <span style=\"color: #008000; text-decoration-color: #008000\">'not_predicted'</span>\n",
              "<span style=\"font-weight: bold\">}</span>\n",
              "</pre>\n"
            ],
            "text/plain": [
              "\u001b[1m{\u001b[0m\n",
              "\u001b[2;32m│   \u001b[0m\u001b[32m'decision_boundary'\u001b[0m: \u001b[1;35mnp.float64\u001b[0m\u001b[1m(\u001b[0m\u001b[1;36m0.016\u001b[0m\u001b[1m)\u001b[0m,\n",
              "\u001b[2;32m│   \u001b[0m\u001b[32m'precision'\u001b[0m: \u001b[1;36m0.28219971056439536\u001b[0m,\n",
              "\u001b[2;32m│   \u001b[0m\u001b[32m'recall'\u001b[0m: \u001b[1;36m0.28592375366568495\u001b[0m,\n",
              "\u001b[2;32m│   \u001b[0m\u001b[32m'f1'\u001b[0m: \u001b[1;36m0.28404952657911847\u001b[0m,\n",
              "\u001b[2;32m│   \u001b[0m\u001b[32m'auprc'\u001b[0m: \u001b[1;35mnp.float64\u001b[0m\u001b[1m(\u001b[0m\u001b[1;36m0.2037085081838397\u001b[0m\u001b[1m)\u001b[0m,\n",
              "\u001b[2;32m│   \u001b[0m\u001b[32m'average_number_of_predicted_tokens'\u001b[0m: \u001b[1;36m3.755434782608696\u001b[0m,\n",
              "\u001b[2;32m│   \u001b[0m\u001b[32m'evidence_span_token_recall'\u001b[0m: \u001b[1;36m0.4013922219061083\u001b[0m,\n",
              "\u001b[2;32m│   \u001b[0m\u001b[32m'evidence_span_recall'\u001b[0m: \u001b[1;36m0.5380434782555438\u001b[0m,\n",
              "\u001b[2;32m│   \u001b[0m\u001b[32m'precision@1'\u001b[0m: \u001b[1;36m0.3695652173913043\u001b[0m,\n",
              "\u001b[2;32m│   \u001b[0m\u001b[32m'recall@1'\u001b[0m: \u001b[1;36m0.09970674486803519\u001b[0m,\n",
              "\u001b[2;32m│   \u001b[0m\u001b[32m'precision@5'\u001b[0m: \u001b[1;36m0.22826086956521738\u001b[0m,\n",
              "\u001b[2;32m│   \u001b[0m\u001b[32m'recall@5'\u001b[0m: \u001b[1;36m0.30791788856304986\u001b[0m,\n",
              "\u001b[2;32m│   \u001b[0m\u001b[32m'precision@10'\u001b[0m: \u001b[1;36m0.14782608695652175\u001b[0m,\n",
              "\u001b[2;32m│   \u001b[0m\u001b[32m'recall@10'\u001b[0m: \u001b[1;36m0.39882697947214074\u001b[0m,\n",
              "\u001b[2;32m│   \u001b[0m\u001b[32m'precision@50'\u001b[0m: \u001b[1;36m0.050108695652173914\u001b[0m,\n",
              "\u001b[2;32m│   \u001b[0m\u001b[32m'recall@50'\u001b[0m: \u001b[1;36m0.6759530791788856\u001b[0m,\n",
              "\u001b[2;32m│   \u001b[0m\u001b[32m'precision@100'\u001b[0m: \u001b[1;36m0.028206521739130436\u001b[0m,\n",
              "\u001b[2;32m│   \u001b[0m\u001b[32m'recall@100'\u001b[0m: \u001b[1;36m0.7609970674486803\u001b[0m,\n",
              "\u001b[2;32m│   \u001b[0m\u001b[32m'iou'\u001b[0m: \u001b[1;36m0.2553377862415922\u001b[0m,\n",
              "\u001b[2;32m│   \u001b[0m\u001b[32m'kl_divergence'\u001b[0m: \u001b[1;36m3.788637595981669\u001b[0m,\n",
              "\u001b[2;32m│   \u001b[0m\u001b[32m'entropy'\u001b[0m: \u001b[1;36m0.7734575190008527\u001b[0m,\n",
              "\u001b[2;32m│   \u001b[0m\u001b[32m'no_predictions'\u001b[0m: \u001b[1;36m0.17391304347826086\u001b[0m,\n",
              "\u001b[2;32m│   \u001b[0m\u001b[32m'attributions_sum_zero'\u001b[0m: \u001b[1;36m0.0\u001b[0m,\n",
              "\u001b[2;32m│   \u001b[0m\u001b[32m'explainability_method'\u001b[0m: \u001b[32m'gradient_x_input'\u001b[0m,\n",
              "\u001b[2;32m│   \u001b[0m\u001b[32m'prediction_split'\u001b[0m: \u001b[32m'not_predicted'\u001b[0m\n",
              "\u001b[1m}\u001b[0m\n"
            ]
          },
          "metadata": {},
          "output_type": "display_data"
        },
        {
          "data": {
            "text/html": [
              "<pre style=\"white-space:pre;overflow-x:auto;line-height:normal;font-family:Menlo,'DejaVu Sans Mono',consolas,'Courier New',monospace\"><span style=\"color: #008000; text-decoration-color: #008000\">'Evaluating grad_attention'</span>\n",
              "</pre>\n"
            ],
            "text/plain": [
              "\u001b[32m'Evaluating grad_attention'\u001b[0m\n"
            ]
          },
          "metadata": {},
          "output_type": "display_data"
        },
        {
          "data": {
            "application/vnd.jupyter.widget-view+json": {
              "model_id": "3ce077a87853448490c54d46905c163d",
              "version_major": 2,
              "version_minor": 0
            },
            "text/plain": [
              "Output()"
            ]
          },
          "metadata": {},
          "output_type": "display_data"
        },
        {
          "data": {
            "text/html": [
              "<pre style=\"white-space:pre;overflow-x:auto;line-height:normal;font-family:Menlo,'DejaVu Sans Mono',consolas,'Courier New',monospace\"></pre>\n"
            ],
            "text/plain": []
          },
          "metadata": {},
          "output_type": "display_data"
        },
        {
          "name": "stderr",
          "output_type": "stream",
          "text": [
            "/content/explain-icd/explainable_medical_coding/utils/analysis.py:237: DataOrientationWarning: Row orientation inferred during DataFrame construction. Explicitly specify the orientation by passing `orient=\"row\"` to silence this warning.\n",
            "  df = pl.DataFrame(schema=schema, data=rows)\n",
            "sys:1: MapWithoutReturnDtypeWarning: Calling `map_elements` without specifying `return_dtype` can lead to unpredictable results. Specify `return_dtype` to silence this warning.\n",
            "sys:1: MapWithoutReturnDtypeWarning: Calling `map_elements` without specifying `return_dtype` can lead to unpredictable results. Specify `return_dtype` to silence this warning.\n",
            "sys:1: MapWithoutReturnDtypeWarning: Calling `map_elements` without specifying `return_dtype` can lead to unpredictable results. Specify `return_dtype` to silence this warning.\n",
            "sys:1: MapWithoutReturnDtypeWarning: Calling `map_elements` without specifying `return_dtype` can lead to unpredictable results. Specify `return_dtype` to silence this warning.\n",
            "sys:1: MapWithoutReturnDtypeWarning: Calling `map_elements` without specifying `return_dtype` can lead to unpredictable results. Specify `return_dtype` to silence this warning.\n",
            "sys:1: MapWithoutReturnDtypeWarning: Calling `map_elements` without specifying `return_dtype` can lead to unpredictable results. Specify `return_dtype` to silence this warning.\n"
          ]
        },
        {
          "data": {
            "application/vnd.jupyter.widget-view+json": {
              "model_id": "085bc45ef57f461f830e830d407b744a",
              "version_major": 2,
              "version_minor": 0
            },
            "text/plain": [
              "Output()"
            ]
          },
          "metadata": {},
          "output_type": "display_data"
        },
        {
          "data": {
            "text/html": [
              "<pre style=\"white-space:pre;overflow-x:auto;line-height:normal;font-family:Menlo,'DejaVu Sans Mono',consolas,'Courier New',monospace\"></pre>\n"
            ],
            "text/plain": []
          },
          "metadata": {},
          "output_type": "display_data"
        },
        {
          "name": "stderr",
          "output_type": "stream",
          "text": [
            "/content/explain-icd/explainable_medical_coding/utils/analysis.py:237: DataOrientationWarning: Row orientation inferred during DataFrame construction. Explicitly specify the orientation by passing `orient=\"row\"` to silence this warning.\n",
            "  df = pl.DataFrame(schema=schema, data=rows)\n",
            "sys:1: MapWithoutReturnDtypeWarning: Calling `map_elements` without specifying `return_dtype` can lead to unpredictable results. Specify `return_dtype` to silence this warning.\n",
            "sys:1: MapWithoutReturnDtypeWarning: Calling `map_elements` without specifying `return_dtype` can lead to unpredictable results. Specify `return_dtype` to silence this warning.\n",
            "sys:1: MapWithoutReturnDtypeWarning: Calling `map_elements` without specifying `return_dtype` can lead to unpredictable results. Specify `return_dtype` to silence this warning.\n",
            "sys:1: MapWithoutReturnDtypeWarning: Calling `map_elements` without specifying `return_dtype` can lead to unpredictable results. Specify `return_dtype` to silence this warning.\n",
            "sys:1: MapWithoutReturnDtypeWarning: Calling `map_elements` without specifying `return_dtype` can lead to unpredictable results. Specify `return_dtype` to silence this warning.\n",
            "sys:1: MapWithoutReturnDtypeWarning: Calling `map_elements` without specifying `return_dtype` can lead to unpredictable results. Specify `return_dtype` to silence this warning.\n",
            "sys:1: MapWithoutReturnDtypeWarning: Calling `map_elements` without specifying `return_dtype` can lead to unpredictable results. Specify `return_dtype` to silence this warning.\n",
            "sys:1: MapWithoutReturnDtypeWarning: Calling `map_elements` without specifying `return_dtype` can lead to unpredictable results. Specify `return_dtype` to silence this warning.\n",
            "sys:1: MapWithoutReturnDtypeWarning: Calling `map_elements` without specifying `return_dtype` can lead to unpredictable results. Specify `return_dtype` to silence this warning.\n",
            "sys:1: MapWithoutReturnDtypeWarning: Calling `map_elements` without specifying `return_dtype` can lead to unpredictable results. Specify `return_dtype` to silence this warning.\n",
            "sys:1: MapWithoutReturnDtypeWarning: Calling `map_elements` without specifying `return_dtype` can lead to unpredictable results. Specify `return_dtype` to silence this warning.\n",
            "sys:1: MapWithoutReturnDtypeWarning: Calling `map_elements` without specifying `return_dtype` can lead to unpredictable results. Specify `return_dtype` to silence this warning.\n",
            "sys:1: MapWithoutReturnDtypeWarning: Calling `map_elements` without specifying `return_dtype` can lead to unpredictable results. Specify `return_dtype` to silence this warning.\n",
            "sys:1: MapWithoutReturnDtypeWarning: Calling `map_elements` without specifying `return_dtype` can lead to unpredictable results. Specify `return_dtype` to silence this warning.\n",
            "sys:1: MapWithoutReturnDtypeWarning: Calling `map_elements` without specifying `return_dtype` can lead to unpredictable results. Specify `return_dtype` to silence this warning.\n",
            "sys:1: MapWithoutReturnDtypeWarning: Calling `map_elements` without specifying `return_dtype` can lead to unpredictable results. Specify `return_dtype` to silence this warning.\n",
            "sys:1: MapWithoutReturnDtypeWarning: Calling `map_elements` without specifying `return_dtype` can lead to unpredictable results. Specify `return_dtype` to silence this warning.\n",
            "sys:1: MapWithoutReturnDtypeWarning: Calling `map_elements` without specifying `return_dtype` can lead to unpredictable results. Specify `return_dtype` to silence this warning.\n",
            "sys:1: MapWithoutReturnDtypeWarning: Calling `map_elements` without specifying `return_dtype` can lead to unpredictable results. Specify `return_dtype` to silence this warning.\n",
            "sys:1: MapWithoutReturnDtypeWarning: Calling `map_elements` without specifying `return_dtype` can lead to unpredictable results. Specify `return_dtype` to silence this warning.\n",
            "sys:1: MapWithoutReturnDtypeWarning: Calling `map_elements` without specifying `return_dtype` can lead to unpredictable results. Specify `return_dtype` to silence this warning.\n",
            "sys:1: MapWithoutReturnDtypeWarning: Calling `map_elements` without specifying `return_dtype` can lead to unpredictable results. Specify `return_dtype` to silence this warning.\n",
            "sys:1: MapWithoutReturnDtypeWarning: Calling `map_elements` without specifying `return_dtype` can lead to unpredictable results. Specify `return_dtype` to silence this warning.\n",
            "sys:1: MapWithoutReturnDtypeWarning: Calling `map_elements` without specifying `return_dtype` can lead to unpredictable results. Specify `return_dtype` to silence this warning.\n"
          ]
        },
        {
          "data": {
            "text/html": [
              "<pre style=\"white-space:pre;overflow-x:auto;line-height:normal;font-family:Menlo,'DejaVu Sans Mono',consolas,'Courier New',monospace\"><span style=\"font-weight: bold\">{</span>\n",
              "<span style=\"color: #7fbf7f; text-decoration-color: #7fbf7f\">│   </span><span style=\"color: #008000; text-decoration-color: #008000\">'decision_boundary'</span>: <span style=\"color: #800080; text-decoration-color: #800080; font-weight: bold\">np.float64</span><span style=\"font-weight: bold\">(</span><span style=\"color: #008080; text-decoration-color: #008080; font-weight: bold\">0.035</span><span style=\"font-weight: bold\">)</span>,\n",
              "<span style=\"color: #7fbf7f; text-decoration-color: #7fbf7f\">│   </span><span style=\"color: #008000; text-decoration-color: #008000\">'precision'</span>: <span style=\"color: #008080; text-decoration-color: #008080; font-weight: bold\">0.38949343339587095</span>,\n",
              "<span style=\"color: #7fbf7f; text-decoration-color: #7fbf7f\">│   </span><span style=\"color: #008000; text-decoration-color: #008000\">'recall'</span>: <span style=\"color: #008080; text-decoration-color: #008080; font-weight: bold\">0.4964131994261095</span>,\n",
              "<span style=\"color: #7fbf7f; text-decoration-color: #7fbf7f\">│   </span><span style=\"color: #008000; text-decoration-color: #008000\">'f1'</span>: <span style=\"color: #008080; text-decoration-color: #008080; font-weight: bold\">0.43650126155941077</span>,\n",
              "<span style=\"color: #7fbf7f; text-decoration-color: #7fbf7f\">│   </span><span style=\"color: #008000; text-decoration-color: #008000\">'auprc'</span>: <span style=\"color: #800080; text-decoration-color: #800080; font-weight: bold\">np.float64</span><span style=\"font-weight: bold\">(</span><span style=\"color: #008080; text-decoration-color: #008080; font-weight: bold\">0.39050902486942524</span><span style=\"font-weight: bold\">)</span>,\n",
              "<span style=\"color: #7fbf7f; text-decoration-color: #7fbf7f\">│   </span><span style=\"color: #008000; text-decoration-color: #008000\">'average_number_of_predicted_tokens'</span>: <span style=\"color: #008080; text-decoration-color: #008080; font-weight: bold\">4.547781569965871</span>,\n",
              "<span style=\"color: #7fbf7f; text-decoration-color: #7fbf7f\">│   </span><span style=\"color: #008000; text-decoration-color: #008000\">'evidence_span_token_recall'</span>: <span style=\"color: #008080; text-decoration-color: #008080; font-weight: bold\">0.6675055746262445</span>,\n",
              "<span style=\"color: #7fbf7f; text-decoration-color: #7fbf7f\">│   </span><span style=\"color: #008000; text-decoration-color: #008000\">'evidence_span_recall'</span>: <span style=\"color: #008080; text-decoration-color: #008080; font-weight: bold\">0.8017633674553059</span>,\n",
              "<span style=\"color: #7fbf7f; text-decoration-color: #7fbf7f\">│   </span><span style=\"color: #008000; text-decoration-color: #008000\">'precision@1'</span>: <span style=\"color: #008080; text-decoration-color: #008080; font-weight: bold\">0.5597269624573379</span>,\n",
              "<span style=\"color: #7fbf7f; text-decoration-color: #7fbf7f\">│   </span><span style=\"color: #008000; text-decoration-color: #008000\">'recall@1'</span>: <span style=\"color: #008080; text-decoration-color: #008080; font-weight: bold\">0.1568627450980392</span>,\n",
              "<span style=\"color: #7fbf7f; text-decoration-color: #7fbf7f\">│   </span><span style=\"color: #008000; text-decoration-color: #008000\">'precision@5'</span>: <span style=\"color: #008080; text-decoration-color: #008080; font-weight: bold\">0.3368600682593857</span>,\n",
              "<span style=\"color: #7fbf7f; text-decoration-color: #7fbf7f\">│   </span><span style=\"color: #008000; text-decoration-color: #008000\">'recall@5'</span>: <span style=\"color: #008080; text-decoration-color: #008080; font-weight: bold\">0.4720229555236729</span>,\n",
              "<span style=\"color: #7fbf7f; text-decoration-color: #7fbf7f\">│   </span><span style=\"color: #008000; text-decoration-color: #008000\">'precision@10'</span>: <span style=\"color: #008080; text-decoration-color: #008080; font-weight: bold\">0.22081911262798634</span>,\n",
              "<span style=\"color: #7fbf7f; text-decoration-color: #7fbf7f\">│   </span><span style=\"color: #008000; text-decoration-color: #008000\">'recall@10'</span>: <span style=\"color: #008080; text-decoration-color: #008080; font-weight: bold\">0.6188426590148255</span>,\n",
              "<span style=\"color: #7fbf7f; text-decoration-color: #7fbf7f\">│   </span><span style=\"color: #008000; text-decoration-color: #008000\">'precision@50'</span>: <span style=\"color: #008080; text-decoration-color: #008080; font-weight: bold\">0.06010238907849829</span>,\n",
              "<span style=\"color: #7fbf7f; text-decoration-color: #7fbf7f\">│   </span><span style=\"color: #008000; text-decoration-color: #008000\">'recall@50'</span>: <span style=\"color: #008080; text-decoration-color: #008080; font-weight: bold\">0.8421807747489239</span>,\n",
              "<span style=\"color: #7fbf7f; text-decoration-color: #7fbf7f\">│   </span><span style=\"color: #008000; text-decoration-color: #008000\">'precision@100'</span>: <span style=\"color: #008080; text-decoration-color: #008080; font-weight: bold\">0.03192832764505119</span>,\n",
              "<span style=\"color: #7fbf7f; text-decoration-color: #7fbf7f\">│   </span><span style=\"color: #008000; text-decoration-color: #008000\">'recall@100'</span>: <span style=\"color: #008080; text-decoration-color: #008080; font-weight: bold\">0.8947871831659493</span>,\n",
              "<span style=\"color: #7fbf7f; text-decoration-color: #7fbf7f\">│   </span><span style=\"color: #008000; text-decoration-color: #008000\">'iou'</span>: <span style=\"color: #008080; text-decoration-color: #008080; font-weight: bold\">0.46789230203414456</span>,\n",
              "<span style=\"color: #7fbf7f; text-decoration-color: #7fbf7f\">│   </span><span style=\"color: #008000; text-decoration-color: #008000\">'kl_divergence'</span>: <span style=\"color: #008080; text-decoration-color: #008080; font-weight: bold\">2.0903273994329243</span>,\n",
              "<span style=\"color: #7fbf7f; text-decoration-color: #7fbf7f\">│   </span><span style=\"color: #008000; text-decoration-color: #008000\">'entropy'</span>: <span style=\"color: #008080; text-decoration-color: #008080; font-weight: bold\">0.2542807432170775</span>,\n",
              "<span style=\"color: #7fbf7f; text-decoration-color: #7fbf7f\">│   </span><span style=\"color: #008000; text-decoration-color: #008000\">'no_predictions'</span>: <span style=\"color: #008080; text-decoration-color: #008080; font-weight: bold\">0.008532423208191127</span>,\n",
              "<span style=\"color: #7fbf7f; text-decoration-color: #7fbf7f\">│   </span><span style=\"color: #008000; text-decoration-color: #008000\">'attributions_sum_zero'</span>: <span style=\"color: #008080; text-decoration-color: #008080; font-weight: bold\">0.0</span>,\n",
              "<span style=\"color: #7fbf7f; text-decoration-color: #7fbf7f\">│   </span><span style=\"color: #008000; text-decoration-color: #008000\">'explainability_method'</span>: <span style=\"color: #008000; text-decoration-color: #008000\">'grad_attention'</span>,\n",
              "<span style=\"color: #7fbf7f; text-decoration-color: #7fbf7f\">│   </span><span style=\"color: #008000; text-decoration-color: #008000\">'prediction_split'</span>: <span style=\"color: #008000; text-decoration-color: #008000\">'all'</span>\n",
              "<span style=\"font-weight: bold\">}</span>\n",
              "</pre>\n"
            ],
            "text/plain": [
              "\u001b[1m{\u001b[0m\n",
              "\u001b[2;32m│   \u001b[0m\u001b[32m'decision_boundary'\u001b[0m: \u001b[1;35mnp.float64\u001b[0m\u001b[1m(\u001b[0m\u001b[1;36m0.035\u001b[0m\u001b[1m)\u001b[0m,\n",
              "\u001b[2;32m│   \u001b[0m\u001b[32m'precision'\u001b[0m: \u001b[1;36m0.38949343339587095\u001b[0m,\n",
              "\u001b[2;32m│   \u001b[0m\u001b[32m'recall'\u001b[0m: \u001b[1;36m0.4964131994261095\u001b[0m,\n",
              "\u001b[2;32m│   \u001b[0m\u001b[32m'f1'\u001b[0m: \u001b[1;36m0.43650126155941077\u001b[0m,\n",
              "\u001b[2;32m│   \u001b[0m\u001b[32m'auprc'\u001b[0m: \u001b[1;35mnp.float64\u001b[0m\u001b[1m(\u001b[0m\u001b[1;36m0.39050902486942524\u001b[0m\u001b[1m)\u001b[0m,\n",
              "\u001b[2;32m│   \u001b[0m\u001b[32m'average_number_of_predicted_tokens'\u001b[0m: \u001b[1;36m4.547781569965871\u001b[0m,\n",
              "\u001b[2;32m│   \u001b[0m\u001b[32m'evidence_span_token_recall'\u001b[0m: \u001b[1;36m0.6675055746262445\u001b[0m,\n",
              "\u001b[2;32m│   \u001b[0m\u001b[32m'evidence_span_recall'\u001b[0m: \u001b[1;36m0.8017633674553059\u001b[0m,\n",
              "\u001b[2;32m│   \u001b[0m\u001b[32m'precision@1'\u001b[0m: \u001b[1;36m0.5597269624573379\u001b[0m,\n",
              "\u001b[2;32m│   \u001b[0m\u001b[32m'recall@1'\u001b[0m: \u001b[1;36m0.1568627450980392\u001b[0m,\n",
              "\u001b[2;32m│   \u001b[0m\u001b[32m'precision@5'\u001b[0m: \u001b[1;36m0.3368600682593857\u001b[0m,\n",
              "\u001b[2;32m│   \u001b[0m\u001b[32m'recall@5'\u001b[0m: \u001b[1;36m0.4720229555236729\u001b[0m,\n",
              "\u001b[2;32m│   \u001b[0m\u001b[32m'precision@10'\u001b[0m: \u001b[1;36m0.22081911262798634\u001b[0m,\n",
              "\u001b[2;32m│   \u001b[0m\u001b[32m'recall@10'\u001b[0m: \u001b[1;36m0.6188426590148255\u001b[0m,\n",
              "\u001b[2;32m│   \u001b[0m\u001b[32m'precision@50'\u001b[0m: \u001b[1;36m0.06010238907849829\u001b[0m,\n",
              "\u001b[2;32m│   \u001b[0m\u001b[32m'recall@50'\u001b[0m: \u001b[1;36m0.8421807747489239\u001b[0m,\n",
              "\u001b[2;32m│   \u001b[0m\u001b[32m'precision@100'\u001b[0m: \u001b[1;36m0.03192832764505119\u001b[0m,\n",
              "\u001b[2;32m│   \u001b[0m\u001b[32m'recall@100'\u001b[0m: \u001b[1;36m0.8947871831659493\u001b[0m,\n",
              "\u001b[2;32m│   \u001b[0m\u001b[32m'iou'\u001b[0m: \u001b[1;36m0.46789230203414456\u001b[0m,\n",
              "\u001b[2;32m│   \u001b[0m\u001b[32m'kl_divergence'\u001b[0m: \u001b[1;36m2.0903273994329243\u001b[0m,\n",
              "\u001b[2;32m│   \u001b[0m\u001b[32m'entropy'\u001b[0m: \u001b[1;36m0.2542807432170775\u001b[0m,\n",
              "\u001b[2;32m│   \u001b[0m\u001b[32m'no_predictions'\u001b[0m: \u001b[1;36m0.008532423208191127\u001b[0m,\n",
              "\u001b[2;32m│   \u001b[0m\u001b[32m'attributions_sum_zero'\u001b[0m: \u001b[1;36m0.0\u001b[0m,\n",
              "\u001b[2;32m│   \u001b[0m\u001b[32m'explainability_method'\u001b[0m: \u001b[32m'grad_attention'\u001b[0m,\n",
              "\u001b[2;32m│   \u001b[0m\u001b[32m'prediction_split'\u001b[0m: \u001b[32m'all'\u001b[0m\n",
              "\u001b[1m}\u001b[0m\n"
            ]
          },
          "metadata": {},
          "output_type": "display_data"
        },
        {
          "name": "stderr",
          "output_type": "stream",
          "text": [
            "sys:1: MapWithoutReturnDtypeWarning: Calling `map_elements` without specifying `return_dtype` can lead to unpredictable results. Specify `return_dtype` to silence this warning.\n",
            "sys:1: MapWithoutReturnDtypeWarning: Calling `map_elements` without specifying `return_dtype` can lead to unpredictable results. Specify `return_dtype` to silence this warning.\n",
            "sys:1: MapWithoutReturnDtypeWarning: Calling `map_elements` without specifying `return_dtype` can lead to unpredictable results. Specify `return_dtype` to silence this warning.\n",
            "sys:1: MapWithoutReturnDtypeWarning: Calling `map_elements` without specifying `return_dtype` can lead to unpredictable results. Specify `return_dtype` to silence this warning.\n",
            "sys:1: MapWithoutReturnDtypeWarning: Calling `map_elements` without specifying `return_dtype` can lead to unpredictable results. Specify `return_dtype` to silence this warning.\n",
            "sys:1: MapWithoutReturnDtypeWarning: Calling `map_elements` without specifying `return_dtype` can lead to unpredictable results. Specify `return_dtype` to silence this warning.\n",
            "sys:1: MapWithoutReturnDtypeWarning: Calling `map_elements` without specifying `return_dtype` can lead to unpredictable results. Specify `return_dtype` to silence this warning.\n",
            "sys:1: MapWithoutReturnDtypeWarning: Calling `map_elements` without specifying `return_dtype` can lead to unpredictable results. Specify `return_dtype` to silence this warning.\n",
            "sys:1: MapWithoutReturnDtypeWarning: Calling `map_elements` without specifying `return_dtype` can lead to unpredictable results. Specify `return_dtype` to silence this warning.\n",
            "sys:1: MapWithoutReturnDtypeWarning: Calling `map_elements` without specifying `return_dtype` can lead to unpredictable results. Specify `return_dtype` to silence this warning.\n",
            "sys:1: MapWithoutReturnDtypeWarning: Calling `map_elements` without specifying `return_dtype` can lead to unpredictable results. Specify `return_dtype` to silence this warning.\n",
            "sys:1: MapWithoutReturnDtypeWarning: Calling `map_elements` without specifying `return_dtype` can lead to unpredictable results. Specify `return_dtype` to silence this warning.\n",
            "sys:1: MapWithoutReturnDtypeWarning: Calling `map_elements` without specifying `return_dtype` can lead to unpredictable results. Specify `return_dtype` to silence this warning.\n",
            "sys:1: MapWithoutReturnDtypeWarning: Calling `map_elements` without specifying `return_dtype` can lead to unpredictable results. Specify `return_dtype` to silence this warning.\n",
            "sys:1: MapWithoutReturnDtypeWarning: Calling `map_elements` without specifying `return_dtype` can lead to unpredictable results. Specify `return_dtype` to silence this warning.\n",
            "sys:1: MapWithoutReturnDtypeWarning: Calling `map_elements` without specifying `return_dtype` can lead to unpredictable results. Specify `return_dtype` to silence this warning.\n",
            "sys:1: MapWithoutReturnDtypeWarning: Calling `map_elements` without specifying `return_dtype` can lead to unpredictable results. Specify `return_dtype` to silence this warning.\n",
            "sys:1: MapWithoutReturnDtypeWarning: Calling `map_elements` without specifying `return_dtype` can lead to unpredictable results. Specify `return_dtype` to silence this warning.\n"
          ]
        },
        {
          "data": {
            "text/html": [
              "<pre style=\"white-space:pre;overflow-x:auto;line-height:normal;font-family:Menlo,'DejaVu Sans Mono',consolas,'Courier New',monospace\"><span style=\"font-weight: bold\">{</span>\n",
              "<span style=\"color: #7fbf7f; text-decoration-color: #7fbf7f\">│   </span><span style=\"color: #008000; text-decoration-color: #008000\">'decision_boundary'</span>: <span style=\"color: #800080; text-decoration-color: #800080; font-weight: bold\">np.float64</span><span style=\"font-weight: bold\">(</span><span style=\"color: #008080; text-decoration-color: #008080; font-weight: bold\">0.035</span><span style=\"font-weight: bold\">)</span>,\n",
              "<span style=\"color: #7fbf7f; text-decoration-color: #7fbf7f\">│   </span><span style=\"color: #008000; text-decoration-color: #008000\">'precision'</span>: <span style=\"color: #008080; text-decoration-color: #008080; font-weight: bold\">0.4103952355170525</span>,\n",
              "<span style=\"color: #7fbf7f; text-decoration-color: #7fbf7f\">│   </span><span style=\"color: #008000; text-decoration-color: #008000\">'recall'</span>: <span style=\"color: #008080; text-decoration-color: #008080; font-weight: bold\">0.5379701916252623</span>,\n",
              "<span style=\"color: #7fbf7f; text-decoration-color: #7fbf7f\">│   </span><span style=\"color: #008000; text-decoration-color: #008000\">'f1'</span>: <span style=\"color: #008080; text-decoration-color: #008080; font-weight: bold\">0.4656019655970532</span>,\n",
              "<span style=\"color: #7fbf7f; text-decoration-color: #7fbf7f\">│   </span><span style=\"color: #008000; text-decoration-color: #008000\">'auprc'</span>: <span style=\"color: #800080; text-decoration-color: #800080; font-weight: bold\">np.float64</span><span style=\"font-weight: bold\">(</span><span style=\"color: #008080; text-decoration-color: #008080; font-weight: bold\">0.4216056919778418</span><span style=\"font-weight: bold\">)</span>,\n",
              "<span style=\"color: #7fbf7f; text-decoration-color: #7fbf7f\">│   </span><span style=\"color: #008000; text-decoration-color: #008000\">'average_number_of_predicted_tokens'</span>: <span style=\"color: #008080; text-decoration-color: #008080; font-weight: bold\">4.5945273631840795</span>,\n",
              "<span style=\"color: #7fbf7f; text-decoration-color: #7fbf7f\">│   </span><span style=\"color: #008000; text-decoration-color: #008000\">'evidence_span_token_recall'</span>: <span style=\"color: #008080; text-decoration-color: #008080; font-weight: bold\">0.7183718989647171</span>,\n",
              "<span style=\"color: #7fbf7f; text-decoration-color: #7fbf7f\">│   </span><span style=\"color: #008000; text-decoration-color: #008000\">'evidence_span_recall'</span>: <span style=\"color: #008080; text-decoration-color: #008080; font-weight: bold\">0.8453565505723867</span>,\n",
              "<span style=\"color: #7fbf7f; text-decoration-color: #7fbf7f\">│   </span><span style=\"color: #008000; text-decoration-color: #008000\">'precision@1'</span>: <span style=\"color: #008080; text-decoration-color: #008080; font-weight: bold\">0.5845771144278606</span>,\n",
              "<span style=\"color: #7fbf7f; text-decoration-color: #7fbf7f\">│   </span><span style=\"color: #008000; text-decoration-color: #008000\">'recall@1'</span>: <span style=\"color: #008080; text-decoration-color: #008080; font-weight: bold\">0.16678495386799147</span>,\n",
              "<span style=\"color: #7fbf7f; text-decoration-color: #7fbf7f\">│   </span><span style=\"color: #008000; text-decoration-color: #008000\">'precision@5'</span>: <span style=\"color: #008080; text-decoration-color: #008080; font-weight: bold\">0.3537313432835821</span>,\n",
              "<span style=\"color: #7fbf7f; text-decoration-color: #7fbf7f\">│   </span><span style=\"color: #008000; text-decoration-color: #008000\">'recall@5'</span>: <span style=\"color: #008080; text-decoration-color: #008080; font-weight: bold\">0.5046132008516678</span>,\n",
              "<span style=\"color: #7fbf7f; text-decoration-color: #7fbf7f\">│   </span><span style=\"color: #008000; text-decoration-color: #008000\">'precision@10'</span>: <span style=\"color: #008080; text-decoration-color: #008080; font-weight: bold\">0.23184079601990049</span>,\n",
              "<span style=\"color: #7fbf7f; text-decoration-color: #7fbf7f\">│   </span><span style=\"color: #008000; text-decoration-color: #008000\">'recall@10'</span>: <span style=\"color: #008080; text-decoration-color: #008080; font-weight: bold\">0.6614620298083748</span>,\n",
              "<span style=\"color: #7fbf7f; text-decoration-color: #7fbf7f\">│   </span><span style=\"color: #008000; text-decoration-color: #008000\">'precision@50'</span>: <span style=\"color: #008080; text-decoration-color: #008080; font-weight: bold\">0.0626865671641791</span>,\n",
              "<span style=\"color: #7fbf7f; text-decoration-color: #7fbf7f\">│   </span><span style=\"color: #008000; text-decoration-color: #008000\">'recall@50'</span>: <span style=\"color: #008080; text-decoration-color: #008080; font-weight: bold\">0.8942512420156139</span>,\n",
              "<span style=\"color: #7fbf7f; text-decoration-color: #7fbf7f\">│   </span><span style=\"color: #008000; text-decoration-color: #008000\">'precision@100'</span>: <span style=\"color: #008080; text-decoration-color: #008080; font-weight: bold\">0.03288557213930348</span>,\n",
              "<span style=\"color: #7fbf7f; text-decoration-color: #7fbf7f\">│   </span><span style=\"color: #008000; text-decoration-color: #008000\">'recall@100'</span>: <span style=\"color: #008080; text-decoration-color: #008080; font-weight: bold\">0.9382540809084458</span>,\n",
              "<span style=\"color: #7fbf7f; text-decoration-color: #7fbf7f\">│   </span><span style=\"color: #008000; text-decoration-color: #008000\">'iou'</span>: <span style=\"color: #008080; text-decoration-color: #008080; font-weight: bold\">0.4932593591462534</span>,\n",
              "<span style=\"color: #7fbf7f; text-decoration-color: #7fbf7f\">│   </span><span style=\"color: #008000; text-decoration-color: #008000\">'kl_divergence'</span>: <span style=\"color: #008080; text-decoration-color: #008080; font-weight: bold\">1.8544786223084417</span>,\n",
              "<span style=\"color: #7fbf7f; text-decoration-color: #7fbf7f\">│   </span><span style=\"color: #008000; text-decoration-color: #008000\">'entropy'</span>: <span style=\"color: #008080; text-decoration-color: #008080; font-weight: bold\">0.21013558018953415</span>,\n",
              "<span style=\"color: #7fbf7f; text-decoration-color: #7fbf7f\">│   </span><span style=\"color: #008000; text-decoration-color: #008000\">'no_predictions'</span>: <span style=\"color: #008080; text-decoration-color: #008080; font-weight: bold\">0.0</span>,\n",
              "<span style=\"color: #7fbf7f; text-decoration-color: #7fbf7f\">│   </span><span style=\"color: #008000; text-decoration-color: #008000\">'attributions_sum_zero'</span>: <span style=\"color: #008080; text-decoration-color: #008080; font-weight: bold\">0.0</span>,\n",
              "<span style=\"color: #7fbf7f; text-decoration-color: #7fbf7f\">│   </span><span style=\"color: #008000; text-decoration-color: #008000\">'explainability_method'</span>: <span style=\"color: #008000; text-decoration-color: #008000\">'grad_attention'</span>,\n",
              "<span style=\"color: #7fbf7f; text-decoration-color: #7fbf7f\">│   </span><span style=\"color: #008000; text-decoration-color: #008000\">'prediction_split'</span>: <span style=\"color: #008000; text-decoration-color: #008000\">'predicted'</span>\n",
              "<span style=\"font-weight: bold\">}</span>\n",
              "</pre>\n"
            ],
            "text/plain": [
              "\u001b[1m{\u001b[0m\n",
              "\u001b[2;32m│   \u001b[0m\u001b[32m'decision_boundary'\u001b[0m: \u001b[1;35mnp.float64\u001b[0m\u001b[1m(\u001b[0m\u001b[1;36m0.035\u001b[0m\u001b[1m)\u001b[0m,\n",
              "\u001b[2;32m│   \u001b[0m\u001b[32m'precision'\u001b[0m: \u001b[1;36m0.4103952355170525\u001b[0m,\n",
              "\u001b[2;32m│   \u001b[0m\u001b[32m'recall'\u001b[0m: \u001b[1;36m0.5379701916252623\u001b[0m,\n",
              "\u001b[2;32m│   \u001b[0m\u001b[32m'f1'\u001b[0m: \u001b[1;36m0.4656019655970532\u001b[0m,\n",
              "\u001b[2;32m│   \u001b[0m\u001b[32m'auprc'\u001b[0m: \u001b[1;35mnp.float64\u001b[0m\u001b[1m(\u001b[0m\u001b[1;36m0.4216056919778418\u001b[0m\u001b[1m)\u001b[0m,\n",
              "\u001b[2;32m│   \u001b[0m\u001b[32m'average_number_of_predicted_tokens'\u001b[0m: \u001b[1;36m4.5945273631840795\u001b[0m,\n",
              "\u001b[2;32m│   \u001b[0m\u001b[32m'evidence_span_token_recall'\u001b[0m: \u001b[1;36m0.7183718989647171\u001b[0m,\n",
              "\u001b[2;32m│   \u001b[0m\u001b[32m'evidence_span_recall'\u001b[0m: \u001b[1;36m0.8453565505723867\u001b[0m,\n",
              "\u001b[2;32m│   \u001b[0m\u001b[32m'precision@1'\u001b[0m: \u001b[1;36m0.5845771144278606\u001b[0m,\n",
              "\u001b[2;32m│   \u001b[0m\u001b[32m'recall@1'\u001b[0m: \u001b[1;36m0.16678495386799147\u001b[0m,\n",
              "\u001b[2;32m│   \u001b[0m\u001b[32m'precision@5'\u001b[0m: \u001b[1;36m0.3537313432835821\u001b[0m,\n",
              "\u001b[2;32m│   \u001b[0m\u001b[32m'recall@5'\u001b[0m: \u001b[1;36m0.5046132008516678\u001b[0m,\n",
              "\u001b[2;32m│   \u001b[0m\u001b[32m'precision@10'\u001b[0m: \u001b[1;36m0.23184079601990049\u001b[0m,\n",
              "\u001b[2;32m│   \u001b[0m\u001b[32m'recall@10'\u001b[0m: \u001b[1;36m0.6614620298083748\u001b[0m,\n",
              "\u001b[2;32m│   \u001b[0m\u001b[32m'precision@50'\u001b[0m: \u001b[1;36m0.0626865671641791\u001b[0m,\n",
              "\u001b[2;32m│   \u001b[0m\u001b[32m'recall@50'\u001b[0m: \u001b[1;36m0.8942512420156139\u001b[0m,\n",
              "\u001b[2;32m│   \u001b[0m\u001b[32m'precision@100'\u001b[0m: \u001b[1;36m0.03288557213930348\u001b[0m,\n",
              "\u001b[2;32m│   \u001b[0m\u001b[32m'recall@100'\u001b[0m: \u001b[1;36m0.9382540809084458\u001b[0m,\n",
              "\u001b[2;32m│   \u001b[0m\u001b[32m'iou'\u001b[0m: \u001b[1;36m0.4932593591462534\u001b[0m,\n",
              "\u001b[2;32m│   \u001b[0m\u001b[32m'kl_divergence'\u001b[0m: \u001b[1;36m1.8544786223084417\u001b[0m,\n",
              "\u001b[2;32m│   \u001b[0m\u001b[32m'entropy'\u001b[0m: \u001b[1;36m0.21013558018953415\u001b[0m,\n",
              "\u001b[2;32m│   \u001b[0m\u001b[32m'no_predictions'\u001b[0m: \u001b[1;36m0.0\u001b[0m,\n",
              "\u001b[2;32m│   \u001b[0m\u001b[32m'attributions_sum_zero'\u001b[0m: \u001b[1;36m0.0\u001b[0m,\n",
              "\u001b[2;32m│   \u001b[0m\u001b[32m'explainability_method'\u001b[0m: \u001b[32m'grad_attention'\u001b[0m,\n",
              "\u001b[2;32m│   \u001b[0m\u001b[32m'prediction_split'\u001b[0m: \u001b[32m'predicted'\u001b[0m\n",
              "\u001b[1m}\u001b[0m\n"
            ]
          },
          "metadata": {},
          "output_type": "display_data"
        },
        {
          "name": "stderr",
          "output_type": "stream",
          "text": [
            "sys:1: MapWithoutReturnDtypeWarning: Calling `map_elements` without specifying `return_dtype` can lead to unpredictable results. Specify `return_dtype` to silence this warning.\n",
            "sys:1: MapWithoutReturnDtypeWarning: Calling `map_elements` without specifying `return_dtype` can lead to unpredictable results. Specify `return_dtype` to silence this warning.\n",
            "sys:1: MapWithoutReturnDtypeWarning: Calling `map_elements` without specifying `return_dtype` can lead to unpredictable results. Specify `return_dtype` to silence this warning.\n",
            "sys:1: MapWithoutReturnDtypeWarning: Calling `map_elements` without specifying `return_dtype` can lead to unpredictable results. Specify `return_dtype` to silence this warning.\n",
            "sys:1: MapWithoutReturnDtypeWarning: Calling `map_elements` without specifying `return_dtype` can lead to unpredictable results. Specify `return_dtype` to silence this warning.\n",
            "sys:1: MapWithoutReturnDtypeWarning: Calling `map_elements` without specifying `return_dtype` can lead to unpredictable results. Specify `return_dtype` to silence this warning.\n",
            "sys:1: MapWithoutReturnDtypeWarning: Calling `map_elements` without specifying `return_dtype` can lead to unpredictable results. Specify `return_dtype` to silence this warning.\n",
            "sys:1: MapWithoutReturnDtypeWarning: Calling `map_elements` without specifying `return_dtype` can lead to unpredictable results. Specify `return_dtype` to silence this warning.\n",
            "sys:1: MapWithoutReturnDtypeWarning: Calling `map_elements` without specifying `return_dtype` can lead to unpredictable results. Specify `return_dtype` to silence this warning.\n",
            "sys:1: MapWithoutReturnDtypeWarning: Calling `map_elements` without specifying `return_dtype` can lead to unpredictable results. Specify `return_dtype` to silence this warning.\n",
            "sys:1: MapWithoutReturnDtypeWarning: Calling `map_elements` without specifying `return_dtype` can lead to unpredictable results. Specify `return_dtype` to silence this warning.\n",
            "sys:1: MapWithoutReturnDtypeWarning: Calling `map_elements` without specifying `return_dtype` can lead to unpredictable results. Specify `return_dtype` to silence this warning.\n",
            "sys:1: MapWithoutReturnDtypeWarning: Calling `map_elements` without specifying `return_dtype` can lead to unpredictable results. Specify `return_dtype` to silence this warning.\n",
            "sys:1: MapWithoutReturnDtypeWarning: Calling `map_elements` without specifying `return_dtype` can lead to unpredictable results. Specify `return_dtype` to silence this warning.\n",
            "sys:1: MapWithoutReturnDtypeWarning: Calling `map_elements` without specifying `return_dtype` can lead to unpredictable results. Specify `return_dtype` to silence this warning.\n",
            "sys:1: MapWithoutReturnDtypeWarning: Calling `map_elements` without specifying `return_dtype` can lead to unpredictable results. Specify `return_dtype` to silence this warning.\n",
            "sys:1: MapWithoutReturnDtypeWarning: Calling `map_elements` without specifying `return_dtype` can lead to unpredictable results. Specify `return_dtype` to silence this warning.\n",
            "sys:1: MapWithoutReturnDtypeWarning: Calling `map_elements` without specifying `return_dtype` can lead to unpredictable results. Specify `return_dtype` to silence this warning.\n"
          ]
        },
        {
          "data": {
            "text/html": [
              "<pre style=\"white-space:pre;overflow-x:auto;line-height:normal;font-family:Menlo,'DejaVu Sans Mono',consolas,'Courier New',monospace\"><span style=\"font-weight: bold\">{</span>\n",
              "<span style=\"color: #7fbf7f; text-decoration-color: #7fbf7f\">│   </span><span style=\"color: #008000; text-decoration-color: #008000\">'decision_boundary'</span>: <span style=\"color: #800080; text-decoration-color: #800080; font-weight: bold\">np.float64</span><span style=\"font-weight: bold\">(</span><span style=\"color: #008080; text-decoration-color: #008080; font-weight: bold\">0.035</span><span style=\"font-weight: bold\">)</span>,\n",
              "<span style=\"color: #7fbf7f; text-decoration-color: #7fbf7f\">│   </span><span style=\"color: #008000; text-decoration-color: #008000\">'precision'</span>: <span style=\"color: #008080; text-decoration-color: #008080; font-weight: bold\">0.34229828850855326</span>,\n",
              "<span style=\"color: #7fbf7f; text-decoration-color: #7fbf7f\">│   </span><span style=\"color: #008000; text-decoration-color: #008000\">'recall'</span>: <span style=\"color: #008080; text-decoration-color: #008080; font-weight: bold\">0.4105571847507271</span>,\n",
              "<span style=\"color: #7fbf7f; text-decoration-color: #7fbf7f\">│   </span><span style=\"color: #008000; text-decoration-color: #008000\">'f1'</span>: <span style=\"color: #008080; text-decoration-color: #008080; font-weight: bold\">0.37333333332836943</span>,\n",
              "<span style=\"color: #7fbf7f; text-decoration-color: #7fbf7f\">│   </span><span style=\"color: #008000; text-decoration-color: #008000\">'auprc'</span>: <span style=\"color: #800080; text-decoration-color: #800080; font-weight: bold\">np.float64</span><span style=\"font-weight: bold\">(</span><span style=\"color: #008080; text-decoration-color: #008080; font-weight: bold\">0.3274013210375527</span><span style=\"font-weight: bold\">)</span>,\n",
              "<span style=\"color: #7fbf7f; text-decoration-color: #7fbf7f\">│   </span><span style=\"color: #008000; text-decoration-color: #008000\">'average_number_of_predicted_tokens'</span>: <span style=\"color: #008080; text-decoration-color: #008080; font-weight: bold\">4.445652173913044</span>,\n",
              "<span style=\"color: #7fbf7f; text-decoration-color: #7fbf7f\">│   </span><span style=\"color: #008000; text-decoration-color: #008000\">'evidence_span_token_recall'</span>: <span style=\"color: #008080; text-decoration-color: #008080; font-weight: bold\">0.5563737138432775</span>,\n",
              "<span style=\"color: #7fbf7f; text-decoration-color: #7fbf7f\">│   </span><span style=\"color: #008000; text-decoration-color: #008000\">'evidence_span_recall'</span>: <span style=\"color: #008080; text-decoration-color: #008080; font-weight: bold\">0.7065217391234245</span>,\n",
              "<span style=\"color: #7fbf7f; text-decoration-color: #7fbf7f\">│   </span><span style=\"color: #008000; text-decoration-color: #008000\">'precision@1'</span>: <span style=\"color: #008080; text-decoration-color: #008080; font-weight: bold\">0.5054347826086957</span>,\n",
              "<span style=\"color: #7fbf7f; text-decoration-color: #7fbf7f\">│   </span><span style=\"color: #008000; text-decoration-color: #008000\">'recall@1'</span>: <span style=\"color: #008080; text-decoration-color: #008080; font-weight: bold\">0.13636363636363635</span>,\n",
              "<span style=\"color: #7fbf7f; text-decoration-color: #7fbf7f\">│   </span><span style=\"color: #008000; text-decoration-color: #008000\">'precision@5'</span>: <span style=\"color: #008080; text-decoration-color: #008080; font-weight: bold\">0.3</span>,\n",
              "<span style=\"color: #7fbf7f; text-decoration-color: #7fbf7f\">│   </span><span style=\"color: #008000; text-decoration-color: #008000\">'recall@5'</span>: <span style=\"color: #008080; text-decoration-color: #008080; font-weight: bold\">0.4046920821114369</span>,\n",
              "<span style=\"color: #7fbf7f; text-decoration-color: #7fbf7f\">│   </span><span style=\"color: #008000; text-decoration-color: #008000\">'precision@10'</span>: <span style=\"color: #008080; text-decoration-color: #008080; font-weight: bold\">0.1967391304347826</span>,\n",
              "<span style=\"color: #7fbf7f; text-decoration-color: #7fbf7f\">│   </span><span style=\"color: #008000; text-decoration-color: #008000\">'recall@10'</span>: <span style=\"color: #008080; text-decoration-color: #008080; font-weight: bold\">0.530791788856305</span>,\n",
              "<span style=\"color: #7fbf7f; text-decoration-color: #7fbf7f\">│   </span><span style=\"color: #008000; text-decoration-color: #008000\">'precision@50'</span>: <span style=\"color: #008080; text-decoration-color: #008080; font-weight: bold\">0.05445652173913044</span>,\n",
              "<span style=\"color: #7fbf7f; text-decoration-color: #7fbf7f\">│   </span><span style=\"color: #008000; text-decoration-color: #008000\">'recall@50'</span>: <span style=\"color: #008080; text-decoration-color: #008080; font-weight: bold\">0.7346041055718475</span>,\n",
              "<span style=\"color: #7fbf7f; text-decoration-color: #7fbf7f\">│   </span><span style=\"color: #008000; text-decoration-color: #008000\">'precision@100'</span>: <span style=\"color: #008080; text-decoration-color: #008080; font-weight: bold\">0.02983695652173913</span>,\n",
              "<span style=\"color: #7fbf7f; text-decoration-color: #7fbf7f\">│   </span><span style=\"color: #008000; text-decoration-color: #008000\">'recall@100'</span>: <span style=\"color: #008080; text-decoration-color: #008080; font-weight: bold\">0.8049853372434017</span>,\n",
              "<span style=\"color: #7fbf7f; text-decoration-color: #7fbf7f\">│   </span><span style=\"color: #008000; text-decoration-color: #008000\">'iou'</span>: <span style=\"color: #008080; text-decoration-color: #008080; font-weight: bold\">0.4124707968218199</span>,\n",
              "<span style=\"color: #7fbf7f; text-decoration-color: #7fbf7f\">│   </span><span style=\"color: #008000; text-decoration-color: #008000\">'kl_divergence'</span>: <span style=\"color: #008080; text-decoration-color: #008080; font-weight: bold\">2.60560570597663</span>,\n",
              "<span style=\"color: #7fbf7f; text-decoration-color: #7fbf7f\">│   </span><span style=\"color: #008000; text-decoration-color: #008000\">'entropy'</span>: <span style=\"color: #008080; text-decoration-color: #008080; font-weight: bold\">0.3507283276576885</span>,\n",
              "<span style=\"color: #7fbf7f; text-decoration-color: #7fbf7f\">│   </span><span style=\"color: #008000; text-decoration-color: #008000\">'no_predictions'</span>: <span style=\"color: #008080; text-decoration-color: #008080; font-weight: bold\">0.02717391304347826</span>,\n",
              "<span style=\"color: #7fbf7f; text-decoration-color: #7fbf7f\">│   </span><span style=\"color: #008000; text-decoration-color: #008000\">'attributions_sum_zero'</span>: <span style=\"color: #008080; text-decoration-color: #008080; font-weight: bold\">0.0</span>,\n",
              "<span style=\"color: #7fbf7f; text-decoration-color: #7fbf7f\">│   </span><span style=\"color: #008000; text-decoration-color: #008000\">'explainability_method'</span>: <span style=\"color: #008000; text-decoration-color: #008000\">'grad_attention'</span>,\n",
              "<span style=\"color: #7fbf7f; text-decoration-color: #7fbf7f\">│   </span><span style=\"color: #008000; text-decoration-color: #008000\">'prediction_split'</span>: <span style=\"color: #008000; text-decoration-color: #008000\">'not_predicted'</span>\n",
              "<span style=\"font-weight: bold\">}</span>\n",
              "</pre>\n"
            ],
            "text/plain": [
              "\u001b[1m{\u001b[0m\n",
              "\u001b[2;32m│   \u001b[0m\u001b[32m'decision_boundary'\u001b[0m: \u001b[1;35mnp.float64\u001b[0m\u001b[1m(\u001b[0m\u001b[1;36m0.035\u001b[0m\u001b[1m)\u001b[0m,\n",
              "\u001b[2;32m│   \u001b[0m\u001b[32m'precision'\u001b[0m: \u001b[1;36m0.34229828850855326\u001b[0m,\n",
              "\u001b[2;32m│   \u001b[0m\u001b[32m'recall'\u001b[0m: \u001b[1;36m0.4105571847507271\u001b[0m,\n",
              "\u001b[2;32m│   \u001b[0m\u001b[32m'f1'\u001b[0m: \u001b[1;36m0.37333333332836943\u001b[0m,\n",
              "\u001b[2;32m│   \u001b[0m\u001b[32m'auprc'\u001b[0m: \u001b[1;35mnp.float64\u001b[0m\u001b[1m(\u001b[0m\u001b[1;36m0.3274013210375527\u001b[0m\u001b[1m)\u001b[0m,\n",
              "\u001b[2;32m│   \u001b[0m\u001b[32m'average_number_of_predicted_tokens'\u001b[0m: \u001b[1;36m4.445652173913044\u001b[0m,\n",
              "\u001b[2;32m│   \u001b[0m\u001b[32m'evidence_span_token_recall'\u001b[0m: \u001b[1;36m0.5563737138432775\u001b[0m,\n",
              "\u001b[2;32m│   \u001b[0m\u001b[32m'evidence_span_recall'\u001b[0m: \u001b[1;36m0.7065217391234245\u001b[0m,\n",
              "\u001b[2;32m│   \u001b[0m\u001b[32m'precision@1'\u001b[0m: \u001b[1;36m0.5054347826086957\u001b[0m,\n",
              "\u001b[2;32m│   \u001b[0m\u001b[32m'recall@1'\u001b[0m: \u001b[1;36m0.13636363636363635\u001b[0m,\n",
              "\u001b[2;32m│   \u001b[0m\u001b[32m'precision@5'\u001b[0m: \u001b[1;36m0.3\u001b[0m,\n",
              "\u001b[2;32m│   \u001b[0m\u001b[32m'recall@5'\u001b[0m: \u001b[1;36m0.4046920821114369\u001b[0m,\n",
              "\u001b[2;32m│   \u001b[0m\u001b[32m'precision@10'\u001b[0m: \u001b[1;36m0.1967391304347826\u001b[0m,\n",
              "\u001b[2;32m│   \u001b[0m\u001b[32m'recall@10'\u001b[0m: \u001b[1;36m0.530791788856305\u001b[0m,\n",
              "\u001b[2;32m│   \u001b[0m\u001b[32m'precision@50'\u001b[0m: \u001b[1;36m0.05445652173913044\u001b[0m,\n",
              "\u001b[2;32m│   \u001b[0m\u001b[32m'recall@50'\u001b[0m: \u001b[1;36m0.7346041055718475\u001b[0m,\n",
              "\u001b[2;32m│   \u001b[0m\u001b[32m'precision@100'\u001b[0m: \u001b[1;36m0.02983695652173913\u001b[0m,\n",
              "\u001b[2;32m│   \u001b[0m\u001b[32m'recall@100'\u001b[0m: \u001b[1;36m0.8049853372434017\u001b[0m,\n",
              "\u001b[2;32m│   \u001b[0m\u001b[32m'iou'\u001b[0m: \u001b[1;36m0.4124707968218199\u001b[0m,\n",
              "\u001b[2;32m│   \u001b[0m\u001b[32m'kl_divergence'\u001b[0m: \u001b[1;36m2.60560570597663\u001b[0m,\n",
              "\u001b[2;32m│   \u001b[0m\u001b[32m'entropy'\u001b[0m: \u001b[1;36m0.3507283276576885\u001b[0m,\n",
              "\u001b[2;32m│   \u001b[0m\u001b[32m'no_predictions'\u001b[0m: \u001b[1;36m0.02717391304347826\u001b[0m,\n",
              "\u001b[2;32m│   \u001b[0m\u001b[32m'attributions_sum_zero'\u001b[0m: \u001b[1;36m0.0\u001b[0m,\n",
              "\u001b[2;32m│   \u001b[0m\u001b[32m'explainability_method'\u001b[0m: \u001b[32m'grad_attention'\u001b[0m,\n",
              "\u001b[2;32m│   \u001b[0m\u001b[32m'prediction_split'\u001b[0m: \u001b[32m'not_predicted'\u001b[0m\n",
              "\u001b[1m}\u001b[0m\n"
            ]
          },
          "metadata": {},
          "output_type": "display_data"
        },
        {
          "data": {
            "text/html": [
              "<pre style=\"white-space:pre;overflow-x:auto;line-height:normal;font-family:Menlo,'DejaVu Sans Mono',consolas,'Courier New',monospace\"><span style=\"color: #008000; text-decoration-color: #008000\">'Evaluating atgrad_attention'</span>\n",
              "</pre>\n"
            ],
            "text/plain": [
              "\u001b[32m'Evaluating atgrad_attention'\u001b[0m\n"
            ]
          },
          "metadata": {},
          "output_type": "display_data"
        },
        {
          "data": {
            "application/vnd.jupyter.widget-view+json": {
              "model_id": "645e7efffc7649a38657d833e04296b9",
              "version_major": 2,
              "version_minor": 0
            },
            "text/plain": [
              "Output()"
            ]
          },
          "metadata": {},
          "output_type": "display_data"
        },
        {
          "data": {
            "text/html": [
              "<pre style=\"white-space:pre;overflow-x:auto;line-height:normal;font-family:Menlo,'DejaVu Sans Mono',consolas,'Courier New',monospace\"></pre>\n"
            ],
            "text/plain": []
          },
          "metadata": {},
          "output_type": "display_data"
        },
        {
          "name": "stderr",
          "output_type": "stream",
          "text": [
            "/content/explain-icd/explainable_medical_coding/utils/analysis.py:237: DataOrientationWarning: Row orientation inferred during DataFrame construction. Explicitly specify the orientation by passing `orient=\"row\"` to silence this warning.\n",
            "  df = pl.DataFrame(schema=schema, data=rows)\n",
            "sys:1: MapWithoutReturnDtypeWarning: Calling `map_elements` without specifying `return_dtype` can lead to unpredictable results. Specify `return_dtype` to silence this warning.\n",
            "sys:1: MapWithoutReturnDtypeWarning: Calling `map_elements` without specifying `return_dtype` can lead to unpredictable results. Specify `return_dtype` to silence this warning.\n",
            "sys:1: MapWithoutReturnDtypeWarning: Calling `map_elements` without specifying `return_dtype` can lead to unpredictable results. Specify `return_dtype` to silence this warning.\n",
            "sys:1: MapWithoutReturnDtypeWarning: Calling `map_elements` without specifying `return_dtype` can lead to unpredictable results. Specify `return_dtype` to silence this warning.\n",
            "sys:1: MapWithoutReturnDtypeWarning: Calling `map_elements` without specifying `return_dtype` can lead to unpredictable results. Specify `return_dtype` to silence this warning.\n",
            "sys:1: MapWithoutReturnDtypeWarning: Calling `map_elements` without specifying `return_dtype` can lead to unpredictable results. Specify `return_dtype` to silence this warning.\n"
          ]
        },
        {
          "data": {
            "application/vnd.jupyter.widget-view+json": {
              "model_id": "82e7422b0ec14ca5bbce2802942b03bb",
              "version_major": 2,
              "version_minor": 0
            },
            "text/plain": [
              "Output()"
            ]
          },
          "metadata": {},
          "output_type": "display_data"
        },
        {
          "data": {
            "text/html": [
              "<pre style=\"white-space:pre;overflow-x:auto;line-height:normal;font-family:Menlo,'DejaVu Sans Mono',consolas,'Courier New',monospace\"></pre>\n"
            ],
            "text/plain": []
          },
          "metadata": {},
          "output_type": "display_data"
        },
        {
          "name": "stderr",
          "output_type": "stream",
          "text": [
            "/content/explain-icd/explainable_medical_coding/utils/analysis.py:237: DataOrientationWarning: Row orientation inferred during DataFrame construction. Explicitly specify the orientation by passing `orient=\"row\"` to silence this warning.\n",
            "  df = pl.DataFrame(schema=schema, data=rows)\n",
            "sys:1: MapWithoutReturnDtypeWarning: Calling `map_elements` without specifying `return_dtype` can lead to unpredictable results. Specify `return_dtype` to silence this warning.\n",
            "sys:1: MapWithoutReturnDtypeWarning: Calling `map_elements` without specifying `return_dtype` can lead to unpredictable results. Specify `return_dtype` to silence this warning.\n",
            "sys:1: MapWithoutReturnDtypeWarning: Calling `map_elements` without specifying `return_dtype` can lead to unpredictable results. Specify `return_dtype` to silence this warning.\n",
            "sys:1: MapWithoutReturnDtypeWarning: Calling `map_elements` without specifying `return_dtype` can lead to unpredictable results. Specify `return_dtype` to silence this warning.\n",
            "sys:1: MapWithoutReturnDtypeWarning: Calling `map_elements` without specifying `return_dtype` can lead to unpredictable results. Specify `return_dtype` to silence this warning.\n",
            "sys:1: MapWithoutReturnDtypeWarning: Calling `map_elements` without specifying `return_dtype` can lead to unpredictable results. Specify `return_dtype` to silence this warning.\n",
            "sys:1: MapWithoutReturnDtypeWarning: Calling `map_elements` without specifying `return_dtype` can lead to unpredictable results. Specify `return_dtype` to silence this warning.\n",
            "sys:1: MapWithoutReturnDtypeWarning: Calling `map_elements` without specifying `return_dtype` can lead to unpredictable results. Specify `return_dtype` to silence this warning.\n",
            "sys:1: MapWithoutReturnDtypeWarning: Calling `map_elements` without specifying `return_dtype` can lead to unpredictable results. Specify `return_dtype` to silence this warning.\n",
            "sys:1: MapWithoutReturnDtypeWarning: Calling `map_elements` without specifying `return_dtype` can lead to unpredictable results. Specify `return_dtype` to silence this warning.\n",
            "sys:1: MapWithoutReturnDtypeWarning: Calling `map_elements` without specifying `return_dtype` can lead to unpredictable results. Specify `return_dtype` to silence this warning.\n",
            "sys:1: MapWithoutReturnDtypeWarning: Calling `map_elements` without specifying `return_dtype` can lead to unpredictable results. Specify `return_dtype` to silence this warning.\n",
            "sys:1: MapWithoutReturnDtypeWarning: Calling `map_elements` without specifying `return_dtype` can lead to unpredictable results. Specify `return_dtype` to silence this warning.\n",
            "sys:1: MapWithoutReturnDtypeWarning: Calling `map_elements` without specifying `return_dtype` can lead to unpredictable results. Specify `return_dtype` to silence this warning.\n",
            "sys:1: MapWithoutReturnDtypeWarning: Calling `map_elements` without specifying `return_dtype` can lead to unpredictable results. Specify `return_dtype` to silence this warning.\n",
            "sys:1: MapWithoutReturnDtypeWarning: Calling `map_elements` without specifying `return_dtype` can lead to unpredictable results. Specify `return_dtype` to silence this warning.\n",
            "sys:1: MapWithoutReturnDtypeWarning: Calling `map_elements` without specifying `return_dtype` can lead to unpredictable results. Specify `return_dtype` to silence this warning.\n",
            "sys:1: MapWithoutReturnDtypeWarning: Calling `map_elements` without specifying `return_dtype` can lead to unpredictable results. Specify `return_dtype` to silence this warning.\n",
            "sys:1: MapWithoutReturnDtypeWarning: Calling `map_elements` without specifying `return_dtype` can lead to unpredictable results. Specify `return_dtype` to silence this warning.\n",
            "sys:1: MapWithoutReturnDtypeWarning: Calling `map_elements` without specifying `return_dtype` can lead to unpredictable results. Specify `return_dtype` to silence this warning.\n",
            "sys:1: MapWithoutReturnDtypeWarning: Calling `map_elements` without specifying `return_dtype` can lead to unpredictable results. Specify `return_dtype` to silence this warning.\n",
            "sys:1: MapWithoutReturnDtypeWarning: Calling `map_elements` without specifying `return_dtype` can lead to unpredictable results. Specify `return_dtype` to silence this warning.\n",
            "sys:1: MapWithoutReturnDtypeWarning: Calling `map_elements` without specifying `return_dtype` can lead to unpredictable results. Specify `return_dtype` to silence this warning.\n",
            "sys:1: MapWithoutReturnDtypeWarning: Calling `map_elements` without specifying `return_dtype` can lead to unpredictable results. Specify `return_dtype` to silence this warning.\n"
          ]
        },
        {
          "data": {
            "text/html": [
              "<pre style=\"white-space:pre;overflow-x:auto;line-height:normal;font-family:Menlo,'DejaVu Sans Mono',consolas,'Courier New',monospace\"><span style=\"font-weight: bold\">{</span>\n",
              "<span style=\"color: #7fbf7f; text-decoration-color: #7fbf7f\">│   </span><span style=\"color: #008000; text-decoration-color: #008000\">'decision_boundary'</span>: <span style=\"color: #800080; text-decoration-color: #800080; font-weight: bold\">np.float64</span><span style=\"font-weight: bold\">(</span><span style=\"color: #008080; text-decoration-color: #008080; font-weight: bold\">0.036000000000000004</span><span style=\"font-weight: bold\">)</span>,\n",
              "<span style=\"color: #7fbf7f; text-decoration-color: #7fbf7f\">│   </span><span style=\"color: #008000; text-decoration-color: #008000\">'precision'</span>: <span style=\"color: #008080; text-decoration-color: #008080; font-weight: bold\">0.38987951807228727</span>,\n",
              "<span style=\"color: #7fbf7f; text-decoration-color: #7fbf7f\">│   </span><span style=\"color: #008000; text-decoration-color: #008000\">'recall'</span>: <span style=\"color: #008080; text-decoration-color: #008080; font-weight: bold\">0.3868962219033937</span>,\n",
              "<span style=\"color: #7fbf7f; text-decoration-color: #7fbf7f\">│   </span><span style=\"color: #008000; text-decoration-color: #008000\">'f1'</span>: <span style=\"color: #008080; text-decoration-color: #008080; font-weight: bold\">0.38838214113758107</span>,\n",
              "<span style=\"color: #7fbf7f; text-decoration-color: #7fbf7f\">│   </span><span style=\"color: #008000; text-decoration-color: #008000\">'auprc'</span>: <span style=\"color: #800080; text-decoration-color: #800080; font-weight: bold\">np.float64</span><span style=\"font-weight: bold\">(</span><span style=\"color: #008080; text-decoration-color: #008080; font-weight: bold\">0.32348900346312803</span><span style=\"font-weight: bold\">)</span>,\n",
              "<span style=\"color: #7fbf7f; text-decoration-color: #7fbf7f\">│   </span><span style=\"color: #008000; text-decoration-color: #008000\">'average_number_of_predicted_tokens'</span>: <span style=\"color: #008080; text-decoration-color: #008080; font-weight: bold\">3.5409556313993176</span>,\n",
              "<span style=\"color: #7fbf7f; text-decoration-color: #7fbf7f\">│   </span><span style=\"color: #008000; text-decoration-color: #008000\">'evidence_span_token_recall'</span>: <span style=\"color: #008080; text-decoration-color: #008080; font-weight: bold\">0.5596857849170075</span>,\n",
              "<span style=\"color: #7fbf7f; text-decoration-color: #7fbf7f\">│   </span><span style=\"color: #008000; text-decoration-color: #008000\">'evidence_span_recall'</span>: <span style=\"color: #008080; text-decoration-color: #008080; font-weight: bold\">0.6953924914608546</span>,\n",
              "<span style=\"color: #7fbf7f; text-decoration-color: #7fbf7f\">│   </span><span style=\"color: #008000; text-decoration-color: #008000\">'precision@1'</span>: <span style=\"color: #008080; text-decoration-color: #008080; font-weight: bold\">0.5017064846416383</span>,\n",
              "<span style=\"color: #7fbf7f; text-decoration-color: #7fbf7f\">│   </span><span style=\"color: #008000; text-decoration-color: #008000\">'recall@1'</span>: <span style=\"color: #008080; text-decoration-color: #008080; font-weight: bold\">0.1406025824964132</span>,\n",
              "<span style=\"color: #7fbf7f; text-decoration-color: #7fbf7f\">│   </span><span style=\"color: #008000; text-decoration-color: #008000\">'precision@5'</span>: <span style=\"color: #008080; text-decoration-color: #008080; font-weight: bold\">0.30102389078498293</span>,\n",
              "<span style=\"color: #7fbf7f; text-decoration-color: #7fbf7f\">│   </span><span style=\"color: #008000; text-decoration-color: #008000\">'recall@5'</span>: <span style=\"color: #008080; text-decoration-color: #008080; font-weight: bold\">0.4218077474892396</span>,\n",
              "<span style=\"color: #7fbf7f; text-decoration-color: #7fbf7f\">│   </span><span style=\"color: #008000; text-decoration-color: #008000\">'precision@10'</span>: <span style=\"color: #008080; text-decoration-color: #008080; font-weight: bold\">0.19539249146757678</span>,\n",
              "<span style=\"color: #7fbf7f; text-decoration-color: #7fbf7f\">│   </span><span style=\"color: #008000; text-decoration-color: #008000\">'recall@10'</span>: <span style=\"color: #008080; text-decoration-color: #008080; font-weight: bold\">0.547584887613582</span>,\n",
              "<span style=\"color: #7fbf7f; text-decoration-color: #7fbf7f\">│   </span><span style=\"color: #008000; text-decoration-color: #008000\">'precision@50'</span>: <span style=\"color: #008080; text-decoration-color: #008080; font-weight: bold\">0.054573378839590445</span>,\n",
              "<span style=\"color: #7fbf7f; text-decoration-color: #7fbf7f\">│   </span><span style=\"color: #008000; text-decoration-color: #008000\">'recall@50'</span>: <span style=\"color: #008080; text-decoration-color: #008080; font-weight: bold\">0.7647058823529411</span>,\n",
              "<span style=\"color: #7fbf7f; text-decoration-color: #7fbf7f\">│   </span><span style=\"color: #008000; text-decoration-color: #008000\">'precision@100'</span>: <span style=\"color: #008080; text-decoration-color: #008080; font-weight: bold\">0.029522184300341297</span>,\n",
              "<span style=\"color: #7fbf7f; text-decoration-color: #7fbf7f\">│   </span><span style=\"color: #008000; text-decoration-color: #008000\">'recall@100'</span>: <span style=\"color: #008080; text-decoration-color: #008080; font-weight: bold\">0.8273553323768532</span>,\n",
              "<span style=\"color: #7fbf7f; text-decoration-color: #7fbf7f\">│   </span><span style=\"color: #008000; text-decoration-color: #008000\">'iou'</span>: <span style=\"color: #008080; text-decoration-color: #008080; font-weight: bold\">0.4104264647019455</span>,\n",
              "<span style=\"color: #7fbf7f; text-decoration-color: #7fbf7f\">│   </span><span style=\"color: #008000; text-decoration-color: #008000\">'kl_divergence'</span>: <span style=\"color: #008080; text-decoration-color: #008080; font-weight: bold\">2.5847808838171855</span>,\n",
              "<span style=\"color: #7fbf7f; text-decoration-color: #7fbf7f\">│   </span><span style=\"color: #008000; text-decoration-color: #008000\">'entropy'</span>: <span style=\"color: #008080; text-decoration-color: #008080; font-weight: bold\">0.5844066434305919</span>,\n",
              "<span style=\"color: #7fbf7f; text-decoration-color: #7fbf7f\">│   </span><span style=\"color: #008000; text-decoration-color: #008000\">'no_predictions'</span>: <span style=\"color: #008080; text-decoration-color: #008080; font-weight: bold\">0.12286689419795221</span>,\n",
              "<span style=\"color: #7fbf7f; text-decoration-color: #7fbf7f\">│   </span><span style=\"color: #008000; text-decoration-color: #008000\">'attributions_sum_zero'</span>: <span style=\"color: #008080; text-decoration-color: #008080; font-weight: bold\">0.0</span>,\n",
              "<span style=\"color: #7fbf7f; text-decoration-color: #7fbf7f\">│   </span><span style=\"color: #008000; text-decoration-color: #008000\">'explainability_method'</span>: <span style=\"color: #008000; text-decoration-color: #008000\">'atgrad_attention'</span>,\n",
              "<span style=\"color: #7fbf7f; text-decoration-color: #7fbf7f\">│   </span><span style=\"color: #008000; text-decoration-color: #008000\">'prediction_split'</span>: <span style=\"color: #008000; text-decoration-color: #008000\">'all'</span>\n",
              "<span style=\"font-weight: bold\">}</span>\n",
              "</pre>\n"
            ],
            "text/plain": [
              "\u001b[1m{\u001b[0m\n",
              "\u001b[2;32m│   \u001b[0m\u001b[32m'decision_boundary'\u001b[0m: \u001b[1;35mnp.float64\u001b[0m\u001b[1m(\u001b[0m\u001b[1;36m0.036000000000000004\u001b[0m\u001b[1m)\u001b[0m,\n",
              "\u001b[2;32m│   \u001b[0m\u001b[32m'precision'\u001b[0m: \u001b[1;36m0.38987951807228727\u001b[0m,\n",
              "\u001b[2;32m│   \u001b[0m\u001b[32m'recall'\u001b[0m: \u001b[1;36m0.3868962219033937\u001b[0m,\n",
              "\u001b[2;32m│   \u001b[0m\u001b[32m'f1'\u001b[0m: \u001b[1;36m0.38838214113758107\u001b[0m,\n",
              "\u001b[2;32m│   \u001b[0m\u001b[32m'auprc'\u001b[0m: \u001b[1;35mnp.float64\u001b[0m\u001b[1m(\u001b[0m\u001b[1;36m0.32348900346312803\u001b[0m\u001b[1m)\u001b[0m,\n",
              "\u001b[2;32m│   \u001b[0m\u001b[32m'average_number_of_predicted_tokens'\u001b[0m: \u001b[1;36m3.5409556313993176\u001b[0m,\n",
              "\u001b[2;32m│   \u001b[0m\u001b[32m'evidence_span_token_recall'\u001b[0m: \u001b[1;36m0.5596857849170075\u001b[0m,\n",
              "\u001b[2;32m│   \u001b[0m\u001b[32m'evidence_span_recall'\u001b[0m: \u001b[1;36m0.6953924914608546\u001b[0m,\n",
              "\u001b[2;32m│   \u001b[0m\u001b[32m'precision@1'\u001b[0m: \u001b[1;36m0.5017064846416383\u001b[0m,\n",
              "\u001b[2;32m│   \u001b[0m\u001b[32m'recall@1'\u001b[0m: \u001b[1;36m0.1406025824964132\u001b[0m,\n",
              "\u001b[2;32m│   \u001b[0m\u001b[32m'precision@5'\u001b[0m: \u001b[1;36m0.30102389078498293\u001b[0m,\n",
              "\u001b[2;32m│   \u001b[0m\u001b[32m'recall@5'\u001b[0m: \u001b[1;36m0.4218077474892396\u001b[0m,\n",
              "\u001b[2;32m│   \u001b[0m\u001b[32m'precision@10'\u001b[0m: \u001b[1;36m0.19539249146757678\u001b[0m,\n",
              "\u001b[2;32m│   \u001b[0m\u001b[32m'recall@10'\u001b[0m: \u001b[1;36m0.547584887613582\u001b[0m,\n",
              "\u001b[2;32m│   \u001b[0m\u001b[32m'precision@50'\u001b[0m: \u001b[1;36m0.054573378839590445\u001b[0m,\n",
              "\u001b[2;32m│   \u001b[0m\u001b[32m'recall@50'\u001b[0m: \u001b[1;36m0.7647058823529411\u001b[0m,\n",
              "\u001b[2;32m│   \u001b[0m\u001b[32m'precision@100'\u001b[0m: \u001b[1;36m0.029522184300341297\u001b[0m,\n",
              "\u001b[2;32m│   \u001b[0m\u001b[32m'recall@100'\u001b[0m: \u001b[1;36m0.8273553323768532\u001b[0m,\n",
              "\u001b[2;32m│   \u001b[0m\u001b[32m'iou'\u001b[0m: \u001b[1;36m0.4104264647019455\u001b[0m,\n",
              "\u001b[2;32m│   \u001b[0m\u001b[32m'kl_divergence'\u001b[0m: \u001b[1;36m2.5847808838171855\u001b[0m,\n",
              "\u001b[2;32m│   \u001b[0m\u001b[32m'entropy'\u001b[0m: \u001b[1;36m0.5844066434305919\u001b[0m,\n",
              "\u001b[2;32m│   \u001b[0m\u001b[32m'no_predictions'\u001b[0m: \u001b[1;36m0.12286689419795221\u001b[0m,\n",
              "\u001b[2;32m│   \u001b[0m\u001b[32m'attributions_sum_zero'\u001b[0m: \u001b[1;36m0.0\u001b[0m,\n",
              "\u001b[2;32m│   \u001b[0m\u001b[32m'explainability_method'\u001b[0m: \u001b[32m'atgrad_attention'\u001b[0m,\n",
              "\u001b[2;32m│   \u001b[0m\u001b[32m'prediction_split'\u001b[0m: \u001b[32m'all'\u001b[0m\n",
              "\u001b[1m}\u001b[0m\n"
            ]
          },
          "metadata": {},
          "output_type": "display_data"
        },
        {
          "name": "stderr",
          "output_type": "stream",
          "text": [
            "sys:1: MapWithoutReturnDtypeWarning: Calling `map_elements` without specifying `return_dtype` can lead to unpredictable results. Specify `return_dtype` to silence this warning.\n",
            "sys:1: MapWithoutReturnDtypeWarning: Calling `map_elements` without specifying `return_dtype` can lead to unpredictable results. Specify `return_dtype` to silence this warning.\n",
            "sys:1: MapWithoutReturnDtypeWarning: Calling `map_elements` without specifying `return_dtype` can lead to unpredictable results. Specify `return_dtype` to silence this warning.\n",
            "sys:1: MapWithoutReturnDtypeWarning: Calling `map_elements` without specifying `return_dtype` can lead to unpredictable results. Specify `return_dtype` to silence this warning.\n",
            "sys:1: MapWithoutReturnDtypeWarning: Calling `map_elements` without specifying `return_dtype` can lead to unpredictable results. Specify `return_dtype` to silence this warning.\n",
            "sys:1: MapWithoutReturnDtypeWarning: Calling `map_elements` without specifying `return_dtype` can lead to unpredictable results. Specify `return_dtype` to silence this warning.\n",
            "sys:1: MapWithoutReturnDtypeWarning: Calling `map_elements` without specifying `return_dtype` can lead to unpredictable results. Specify `return_dtype` to silence this warning.\n",
            "sys:1: MapWithoutReturnDtypeWarning: Calling `map_elements` without specifying `return_dtype` can lead to unpredictable results. Specify `return_dtype` to silence this warning.\n",
            "sys:1: MapWithoutReturnDtypeWarning: Calling `map_elements` without specifying `return_dtype` can lead to unpredictable results. Specify `return_dtype` to silence this warning.\n",
            "sys:1: MapWithoutReturnDtypeWarning: Calling `map_elements` without specifying `return_dtype` can lead to unpredictable results. Specify `return_dtype` to silence this warning.\n",
            "sys:1: MapWithoutReturnDtypeWarning: Calling `map_elements` without specifying `return_dtype` can lead to unpredictable results. Specify `return_dtype` to silence this warning.\n",
            "sys:1: MapWithoutReturnDtypeWarning: Calling `map_elements` without specifying `return_dtype` can lead to unpredictable results. Specify `return_dtype` to silence this warning.\n",
            "sys:1: MapWithoutReturnDtypeWarning: Calling `map_elements` without specifying `return_dtype` can lead to unpredictable results. Specify `return_dtype` to silence this warning.\n",
            "sys:1: MapWithoutReturnDtypeWarning: Calling `map_elements` without specifying `return_dtype` can lead to unpredictable results. Specify `return_dtype` to silence this warning.\n",
            "sys:1: MapWithoutReturnDtypeWarning: Calling `map_elements` without specifying `return_dtype` can lead to unpredictable results. Specify `return_dtype` to silence this warning.\n",
            "sys:1: MapWithoutReturnDtypeWarning: Calling `map_elements` without specifying `return_dtype` can lead to unpredictable results. Specify `return_dtype` to silence this warning.\n",
            "sys:1: MapWithoutReturnDtypeWarning: Calling `map_elements` without specifying `return_dtype` can lead to unpredictable results. Specify `return_dtype` to silence this warning.\n",
            "sys:1: MapWithoutReturnDtypeWarning: Calling `map_elements` without specifying `return_dtype` can lead to unpredictable results. Specify `return_dtype` to silence this warning.\n"
          ]
        },
        {
          "data": {
            "text/html": [
              "<pre style=\"white-space:pre;overflow-x:auto;line-height:normal;font-family:Menlo,'DejaVu Sans Mono',consolas,'Courier New',monospace\"><span style=\"font-weight: bold\">{</span>\n",
              "<span style=\"color: #7fbf7f; text-decoration-color: #7fbf7f\">│   </span><span style=\"color: #008000; text-decoration-color: #008000\">'decision_boundary'</span>: <span style=\"color: #800080; text-decoration-color: #800080; font-weight: bold\">np.float64</span><span style=\"font-weight: bold\">(</span><span style=\"color: #008080; text-decoration-color: #008080; font-weight: bold\">0.036000000000000004</span><span style=\"font-weight: bold\">)</span>,\n",
              "<span style=\"color: #7fbf7f; text-decoration-color: #7fbf7f\">│   </span><span style=\"color: #008000; text-decoration-color: #008000\">'precision'</span>: <span style=\"color: #008080; text-decoration-color: #008080; font-weight: bold\">0.3746205221615035</span>,\n",
              "<span style=\"color: #7fbf7f; text-decoration-color: #7fbf7f\">│   </span><span style=\"color: #008000; text-decoration-color: #008000\">'recall'</span>: <span style=\"color: #008080; text-decoration-color: #008080; font-weight: bold\">0.4378992193044681</span>,\n",
              "<span style=\"color: #7fbf7f; text-decoration-color: #7fbf7f\">│   </span><span style=\"color: #008000; text-decoration-color: #008000\">'f1'</span>: <span style=\"color: #008080; text-decoration-color: #008080; font-weight: bold\">0.4037958115133523</span>,\n",
              "<span style=\"color: #7fbf7f; text-decoration-color: #7fbf7f\">│   </span><span style=\"color: #008000; text-decoration-color: #008000\">'auprc'</span>: <span style=\"color: #800080; text-decoration-color: #800080; font-weight: bold\">np.float64</span><span style=\"font-weight: bold\">(</span><span style=\"color: #008080; text-decoration-color: #008080; font-weight: bold\">0.3441015046954393</span><span style=\"font-weight: bold\">)</span>,\n",
              "<span style=\"color: #7fbf7f; text-decoration-color: #7fbf7f\">│   </span><span style=\"color: #008000; text-decoration-color: #008000\">'average_number_of_predicted_tokens'</span>: <span style=\"color: #008080; text-decoration-color: #008080; font-weight: bold\">4.097014925373134</span>,\n",
              "<span style=\"color: #7fbf7f; text-decoration-color: #7fbf7f\">│   </span><span style=\"color: #008000; text-decoration-color: #008000\">'evidence_span_token_recall'</span>: <span style=\"color: #008080; text-decoration-color: #008080; font-weight: bold\">0.6186967503161658</span>,\n",
              "<span style=\"color: #7fbf7f; text-decoration-color: #7fbf7f\">│   </span><span style=\"color: #008000; text-decoration-color: #008000\">'evidence_span_recall'</span>: <span style=\"color: #008080; text-decoration-color: #008080; font-weight: bold\">0.7636815920324836</span>,\n",
              "<span style=\"color: #7fbf7f; text-decoration-color: #7fbf7f\">│   </span><span style=\"color: #008000; text-decoration-color: #008000\">'precision@1'</span>: <span style=\"color: #008080; text-decoration-color: #008080; font-weight: bold\">0.5149253731343284</span>,\n",
              "<span style=\"color: #7fbf7f; text-decoration-color: #7fbf7f\">│   </span><span style=\"color: #008000; text-decoration-color: #008000\">'recall@1'</span>: <span style=\"color: #008080; text-decoration-color: #008080; font-weight: bold\">0.14691270404542228</span>,\n",
              "<span style=\"color: #7fbf7f; text-decoration-color: #7fbf7f\">│   </span><span style=\"color: #008000; text-decoration-color: #008000\">'precision@5'</span>: <span style=\"color: #008080; text-decoration-color: #008080; font-weight: bold\">0.3174129353233831</span>,\n",
              "<span style=\"color: #7fbf7f; text-decoration-color: #7fbf7f\">│   </span><span style=\"color: #008000; text-decoration-color: #008000\">'recall@5'</span>: <span style=\"color: #008080; text-decoration-color: #008080; font-weight: bold\">0.4528034066713982</span>,\n",
              "<span style=\"color: #7fbf7f; text-decoration-color: #7fbf7f\">│   </span><span style=\"color: #008000; text-decoration-color: #008000\">'precision@10'</span>: <span style=\"color: #008080; text-decoration-color: #008080; font-weight: bold\">0.20572139303482587</span>,\n",
              "<span style=\"color: #7fbf7f; text-decoration-color: #7fbf7f\">│   </span><span style=\"color: #008000; text-decoration-color: #008000\">'recall@10'</span>: <span style=\"color: #008080; text-decoration-color: #008080; font-weight: bold\">0.5869410929737402</span>,\n",
              "<span style=\"color: #7fbf7f; text-decoration-color: #7fbf7f\">│   </span><span style=\"color: #008000; text-decoration-color: #008000\">'precision@50'</span>: <span style=\"color: #008080; text-decoration-color: #008080; font-weight: bold\">0.05721393034825871</span>,\n",
              "<span style=\"color: #7fbf7f; text-decoration-color: #7fbf7f\">│   </span><span style=\"color: #008000; text-decoration-color: #008000\">'recall@50'</span>: <span style=\"color: #008080; text-decoration-color: #008080; font-weight: bold\">0.8161816891412349</span>,\n",
              "<span style=\"color: #7fbf7f; text-decoration-color: #7fbf7f\">│   </span><span style=\"color: #008000; text-decoration-color: #008000\">'precision@100'</span>: <span style=\"color: #008080; text-decoration-color: #008080; font-weight: bold\">0.03079601990049751</span>,\n",
              "<span style=\"color: #7fbf7f; text-decoration-color: #7fbf7f\">│   </span><span style=\"color: #008000; text-decoration-color: #008000\">'recall@100'</span>: <span style=\"color: #008080; text-decoration-color: #008080; font-weight: bold\">0.8786373314407381</span>,\n",
              "<span style=\"color: #7fbf7f; text-decoration-color: #7fbf7f\">│   </span><span style=\"color: #008000; text-decoration-color: #008000\">'iou'</span>: <span style=\"color: #008080; text-decoration-color: #008080; font-weight: bold\">0.4292408141622169</span>,\n",
              "<span style=\"color: #7fbf7f; text-decoration-color: #7fbf7f\">│   </span><span style=\"color: #008000; text-decoration-color: #008000\">'kl_divergence'</span>: <span style=\"color: #008080; text-decoration-color: #008080; font-weight: bold\">2.297743260223141</span>,\n",
              "<span style=\"color: #7fbf7f; text-decoration-color: #7fbf7f\">│   </span><span style=\"color: #008000; text-decoration-color: #008000\">'entropy'</span>: <span style=\"color: #008080; text-decoration-color: #008080; font-weight: bold\">0.5435924809463669</span>,\n",
              "<span style=\"color: #7fbf7f; text-decoration-color: #7fbf7f\">│   </span><span style=\"color: #008000; text-decoration-color: #008000\">'no_predictions'</span>: <span style=\"color: #008080; text-decoration-color: #008080; font-weight: bold\">0.04975124378109453</span>,\n",
              "<span style=\"color: #7fbf7f; text-decoration-color: #7fbf7f\">│   </span><span style=\"color: #008000; text-decoration-color: #008000\">'attributions_sum_zero'</span>: <span style=\"color: #008080; text-decoration-color: #008080; font-weight: bold\">0.0</span>,\n",
              "<span style=\"color: #7fbf7f; text-decoration-color: #7fbf7f\">│   </span><span style=\"color: #008000; text-decoration-color: #008000\">'explainability_method'</span>: <span style=\"color: #008000; text-decoration-color: #008000\">'atgrad_attention'</span>,\n",
              "<span style=\"color: #7fbf7f; text-decoration-color: #7fbf7f\">│   </span><span style=\"color: #008000; text-decoration-color: #008000\">'prediction_split'</span>: <span style=\"color: #008000; text-decoration-color: #008000\">'predicted'</span>\n",
              "<span style=\"font-weight: bold\">}</span>\n",
              "</pre>\n"
            ],
            "text/plain": [
              "\u001b[1m{\u001b[0m\n",
              "\u001b[2;32m│   \u001b[0m\u001b[32m'decision_boundary'\u001b[0m: \u001b[1;35mnp.float64\u001b[0m\u001b[1m(\u001b[0m\u001b[1;36m0.036000000000000004\u001b[0m\u001b[1m)\u001b[0m,\n",
              "\u001b[2;32m│   \u001b[0m\u001b[32m'precision'\u001b[0m: \u001b[1;36m0.3746205221615035\u001b[0m,\n",
              "\u001b[2;32m│   \u001b[0m\u001b[32m'recall'\u001b[0m: \u001b[1;36m0.4378992193044681\u001b[0m,\n",
              "\u001b[2;32m│   \u001b[0m\u001b[32m'f1'\u001b[0m: \u001b[1;36m0.4037958115133523\u001b[0m,\n",
              "\u001b[2;32m│   \u001b[0m\u001b[32m'auprc'\u001b[0m: \u001b[1;35mnp.float64\u001b[0m\u001b[1m(\u001b[0m\u001b[1;36m0.3441015046954393\u001b[0m\u001b[1m)\u001b[0m,\n",
              "\u001b[2;32m│   \u001b[0m\u001b[32m'average_number_of_predicted_tokens'\u001b[0m: \u001b[1;36m4.097014925373134\u001b[0m,\n",
              "\u001b[2;32m│   \u001b[0m\u001b[32m'evidence_span_token_recall'\u001b[0m: \u001b[1;36m0.6186967503161658\u001b[0m,\n",
              "\u001b[2;32m│   \u001b[0m\u001b[32m'evidence_span_recall'\u001b[0m: \u001b[1;36m0.7636815920324836\u001b[0m,\n",
              "\u001b[2;32m│   \u001b[0m\u001b[32m'precision@1'\u001b[0m: \u001b[1;36m0.5149253731343284\u001b[0m,\n",
              "\u001b[2;32m│   \u001b[0m\u001b[32m'recall@1'\u001b[0m: \u001b[1;36m0.14691270404542228\u001b[0m,\n",
              "\u001b[2;32m│   \u001b[0m\u001b[32m'precision@5'\u001b[0m: \u001b[1;36m0.3174129353233831\u001b[0m,\n",
              "\u001b[2;32m│   \u001b[0m\u001b[32m'recall@5'\u001b[0m: \u001b[1;36m0.4528034066713982\u001b[0m,\n",
              "\u001b[2;32m│   \u001b[0m\u001b[32m'precision@10'\u001b[0m: \u001b[1;36m0.20572139303482587\u001b[0m,\n",
              "\u001b[2;32m│   \u001b[0m\u001b[32m'recall@10'\u001b[0m: \u001b[1;36m0.5869410929737402\u001b[0m,\n",
              "\u001b[2;32m│   \u001b[0m\u001b[32m'precision@50'\u001b[0m: \u001b[1;36m0.05721393034825871\u001b[0m,\n",
              "\u001b[2;32m│   \u001b[0m\u001b[32m'recall@50'\u001b[0m: \u001b[1;36m0.8161816891412349\u001b[0m,\n",
              "\u001b[2;32m│   \u001b[0m\u001b[32m'precision@100'\u001b[0m: \u001b[1;36m0.03079601990049751\u001b[0m,\n",
              "\u001b[2;32m│   \u001b[0m\u001b[32m'recall@100'\u001b[0m: \u001b[1;36m0.8786373314407381\u001b[0m,\n",
              "\u001b[2;32m│   \u001b[0m\u001b[32m'iou'\u001b[0m: \u001b[1;36m0.4292408141622169\u001b[0m,\n",
              "\u001b[2;32m│   \u001b[0m\u001b[32m'kl_divergence'\u001b[0m: \u001b[1;36m2.297743260223141\u001b[0m,\n",
              "\u001b[2;32m│   \u001b[0m\u001b[32m'entropy'\u001b[0m: \u001b[1;36m0.5435924809463669\u001b[0m,\n",
              "\u001b[2;32m│   \u001b[0m\u001b[32m'no_predictions'\u001b[0m: \u001b[1;36m0.04975124378109453\u001b[0m,\n",
              "\u001b[2;32m│   \u001b[0m\u001b[32m'attributions_sum_zero'\u001b[0m: \u001b[1;36m0.0\u001b[0m,\n",
              "\u001b[2;32m│   \u001b[0m\u001b[32m'explainability_method'\u001b[0m: \u001b[32m'atgrad_attention'\u001b[0m,\n",
              "\u001b[2;32m│   \u001b[0m\u001b[32m'prediction_split'\u001b[0m: \u001b[32m'predicted'\u001b[0m\n",
              "\u001b[1m}\u001b[0m\n"
            ]
          },
          "metadata": {},
          "output_type": "display_data"
        },
        {
          "name": "stderr",
          "output_type": "stream",
          "text": [
            "sys:1: MapWithoutReturnDtypeWarning: Calling `map_elements` without specifying `return_dtype` can lead to unpredictable results. Specify `return_dtype` to silence this warning.\n",
            "sys:1: MapWithoutReturnDtypeWarning: Calling `map_elements` without specifying `return_dtype` can lead to unpredictable results. Specify `return_dtype` to silence this warning.\n",
            "sys:1: MapWithoutReturnDtypeWarning: Calling `map_elements` without specifying `return_dtype` can lead to unpredictable results. Specify `return_dtype` to silence this warning.\n",
            "sys:1: MapWithoutReturnDtypeWarning: Calling `map_elements` without specifying `return_dtype` can lead to unpredictable results. Specify `return_dtype` to silence this warning.\n",
            "sys:1: MapWithoutReturnDtypeWarning: Calling `map_elements` without specifying `return_dtype` can lead to unpredictable results. Specify `return_dtype` to silence this warning.\n",
            "sys:1: MapWithoutReturnDtypeWarning: Calling `map_elements` without specifying `return_dtype` can lead to unpredictable results. Specify `return_dtype` to silence this warning.\n",
            "sys:1: MapWithoutReturnDtypeWarning: Calling `map_elements` without specifying `return_dtype` can lead to unpredictable results. Specify `return_dtype` to silence this warning.\n",
            "sys:1: MapWithoutReturnDtypeWarning: Calling `map_elements` without specifying `return_dtype` can lead to unpredictable results. Specify `return_dtype` to silence this warning.\n",
            "sys:1: MapWithoutReturnDtypeWarning: Calling `map_elements` without specifying `return_dtype` can lead to unpredictable results. Specify `return_dtype` to silence this warning.\n",
            "sys:1: MapWithoutReturnDtypeWarning: Calling `map_elements` without specifying `return_dtype` can lead to unpredictable results. Specify `return_dtype` to silence this warning.\n",
            "sys:1: MapWithoutReturnDtypeWarning: Calling `map_elements` without specifying `return_dtype` can lead to unpredictable results. Specify `return_dtype` to silence this warning.\n",
            "sys:1: MapWithoutReturnDtypeWarning: Calling `map_elements` without specifying `return_dtype` can lead to unpredictable results. Specify `return_dtype` to silence this warning.\n",
            "sys:1: MapWithoutReturnDtypeWarning: Calling `map_elements` without specifying `return_dtype` can lead to unpredictable results. Specify `return_dtype` to silence this warning.\n",
            "sys:1: MapWithoutReturnDtypeWarning: Calling `map_elements` without specifying `return_dtype` can lead to unpredictable results. Specify `return_dtype` to silence this warning.\n",
            "sys:1: MapWithoutReturnDtypeWarning: Calling `map_elements` without specifying `return_dtype` can lead to unpredictable results. Specify `return_dtype` to silence this warning.\n",
            "sys:1: MapWithoutReturnDtypeWarning: Calling `map_elements` without specifying `return_dtype` can lead to unpredictable results. Specify `return_dtype` to silence this warning.\n",
            "sys:1: MapWithoutReturnDtypeWarning: Calling `map_elements` without specifying `return_dtype` can lead to unpredictable results. Specify `return_dtype` to silence this warning.\n",
            "sys:1: MapWithoutReturnDtypeWarning: Calling `map_elements` without specifying `return_dtype` can lead to unpredictable results. Specify `return_dtype` to silence this warning.\n"
          ]
        },
        {
          "data": {
            "text/html": [
              "<pre style=\"white-space:pre;overflow-x:auto;line-height:normal;font-family:Menlo,'DejaVu Sans Mono',consolas,'Courier New',monospace\"><span style=\"font-weight: bold\">{</span>\n",
              "<span style=\"color: #7fbf7f; text-decoration-color: #7fbf7f\">│   </span><span style=\"color: #008000; text-decoration-color: #008000\">'decision_boundary'</span>: <span style=\"color: #800080; text-decoration-color: #800080; font-weight: bold\">np.float64</span><span style=\"font-weight: bold\">(</span><span style=\"color: #008080; text-decoration-color: #008080; font-weight: bold\">0.036000000000000004</span><span style=\"font-weight: bold\">)</span>,\n",
              "<span style=\"color: #7fbf7f; text-decoration-color: #7fbf7f\">│   </span><span style=\"color: #008000; text-decoration-color: #008000\">'precision'</span>: <span style=\"color: #008080; text-decoration-color: #008080; font-weight: bold\">0.448598130841111</span>,\n",
              "<span style=\"color: #7fbf7f; text-decoration-color: #7fbf7f\">│   </span><span style=\"color: #008000; text-decoration-color: #008000\">'recall'</span>: <span style=\"color: #008080; text-decoration-color: #008080; font-weight: bold\">0.2815249266862129</span>,\n",
              "<span style=\"color: #7fbf7f; text-decoration-color: #7fbf7f\">│   </span><span style=\"color: #008000; text-decoration-color: #008000\">'f1'</span>: <span style=\"color: #008080; text-decoration-color: #008080; font-weight: bold\">0.3459459459412015</span>,\n",
              "<span style=\"color: #7fbf7f; text-decoration-color: #7fbf7f\">│   </span><span style=\"color: #008000; text-decoration-color: #008000\">'auprc'</span>: <span style=\"color: #800080; text-decoration-color: #800080; font-weight: bold\">np.float64</span><span style=\"font-weight: bold\">(</span><span style=\"color: #008080; text-decoration-color: #008080; font-weight: bold\">0.29329661296342485</span><span style=\"font-weight: bold\">)</span>,\n",
              "<span style=\"color: #7fbf7f; text-decoration-color: #7fbf7f\">│   </span><span style=\"color: #008000; text-decoration-color: #008000\">'average_number_of_predicted_tokens'</span>: <span style=\"color: #008080; text-decoration-color: #008080; font-weight: bold\">2.3260869565217392</span>,\n",
              "<span style=\"color: #7fbf7f; text-decoration-color: #7fbf7f\">│   </span><span style=\"color: #008000; text-decoration-color: #008000\">'evidence_span_token_recall'</span>: <span style=\"color: #008080; text-decoration-color: #008080; font-weight: bold\">0.4307596539905857</span>,\n",
              "<span style=\"color: #7fbf7f; text-decoration-color: #7fbf7f\">│   </span><span style=\"color: #008000; text-decoration-color: #008000\">'evidence_span_recall'</span>: <span style=\"color: #008080; text-decoration-color: #008080; font-weight: bold\">0.5461956521684921</span>,\n",
              "<span style=\"color: #7fbf7f; text-decoration-color: #7fbf7f\">│   </span><span style=\"color: #008000; text-decoration-color: #008000\">'precision@1'</span>: <span style=\"color: #008080; text-decoration-color: #008080; font-weight: bold\">0.47282608695652173</span>,\n",
              "<span style=\"color: #7fbf7f; text-decoration-color: #7fbf7f\">│   </span><span style=\"color: #008000; text-decoration-color: #008000\">'recall@1'</span>: <span style=\"color: #008080; text-decoration-color: #008080; font-weight: bold\">0.12756598240469208</span>,\n",
              "<span style=\"color: #7fbf7f; text-decoration-color: #7fbf7f\">│   </span><span style=\"color: #008000; text-decoration-color: #008000\">'precision@5'</span>: <span style=\"color: #008080; text-decoration-color: #008080; font-weight: bold\">0.26521739130434785</span>,\n",
              "<span style=\"color: #7fbf7f; text-decoration-color: #7fbf7f\">│   </span><span style=\"color: #008000; text-decoration-color: #008000\">'recall@5'</span>: <span style=\"color: #008080; text-decoration-color: #008080; font-weight: bold\">0.35777126099706746</span>,\n",
              "<span style=\"color: #7fbf7f; text-decoration-color: #7fbf7f\">│   </span><span style=\"color: #008000; text-decoration-color: #008000\">'precision@10'</span>: <span style=\"color: #008080; text-decoration-color: #008080; font-weight: bold\">0.17282608695652174</span>,\n",
              "<span style=\"color: #7fbf7f; text-decoration-color: #7fbf7f\">│   </span><span style=\"color: #008000; text-decoration-color: #008000\">'recall@10'</span>: <span style=\"color: #008080; text-decoration-color: #008080; font-weight: bold\">0.4662756598240469</span>,\n",
              "<span style=\"color: #7fbf7f; text-decoration-color: #7fbf7f\">│   </span><span style=\"color: #008000; text-decoration-color: #008000\">'precision@50'</span>: <span style=\"color: #008080; text-decoration-color: #008080; font-weight: bold\">0.048804347826086954</span>,\n",
              "<span style=\"color: #7fbf7f; text-decoration-color: #7fbf7f\">│   </span><span style=\"color: #008000; text-decoration-color: #008000\">'recall@50'</span>: <span style=\"color: #008080; text-decoration-color: #008080; font-weight: bold\">0.658357771260997</span>,\n",
              "<span style=\"color: #7fbf7f; text-decoration-color: #7fbf7f\">│   </span><span style=\"color: #008000; text-decoration-color: #008000\">'precision@100'</span>: <span style=\"color: #008080; text-decoration-color: #008080; font-weight: bold\">0.02673913043478261</span>,\n",
              "<span style=\"color: #7fbf7f; text-decoration-color: #7fbf7f\">│   </span><span style=\"color: #008000; text-decoration-color: #008000\">'recall@100'</span>: <span style=\"color: #008080; text-decoration-color: #008080; font-weight: bold\">0.7214076246334311</span>,\n",
              "<span style=\"color: #7fbf7f; text-decoration-color: #7fbf7f\">│   </span><span style=\"color: #008000; text-decoration-color: #008000\">'iou'</span>: <span style=\"color: #008080; text-decoration-color: #008080; font-weight: bold\">0.3693212012072221</span>,\n",
              "<span style=\"color: #7fbf7f; text-decoration-color: #7fbf7f\">│   </span><span style=\"color: #008000; text-decoration-color: #008000\">'kl_divergence'</span>: <span style=\"color: #008080; text-decoration-color: #008080; font-weight: bold\">3.2118956918867823</span>,\n",
              "<span style=\"color: #7fbf7f; text-decoration-color: #7fbf7f\">│   </span><span style=\"color: #008000; text-decoration-color: #008000\">'entropy'</span>: <span style=\"color: #008080; text-decoration-color: #008080; font-weight: bold\">0.673576715814605</span>,\n",
              "<span style=\"color: #7fbf7f; text-decoration-color: #7fbf7f\">│   </span><span style=\"color: #008000; text-decoration-color: #008000\">'no_predictions'</span>: <span style=\"color: #008080; text-decoration-color: #008080; font-weight: bold\">0.2826086956521739</span>,\n",
              "<span style=\"color: #7fbf7f; text-decoration-color: #7fbf7f\">│   </span><span style=\"color: #008000; text-decoration-color: #008000\">'attributions_sum_zero'</span>: <span style=\"color: #008080; text-decoration-color: #008080; font-weight: bold\">0.0</span>,\n",
              "<span style=\"color: #7fbf7f; text-decoration-color: #7fbf7f\">│   </span><span style=\"color: #008000; text-decoration-color: #008000\">'explainability_method'</span>: <span style=\"color: #008000; text-decoration-color: #008000\">'atgrad_attention'</span>,\n",
              "<span style=\"color: #7fbf7f; text-decoration-color: #7fbf7f\">│   </span><span style=\"color: #008000; text-decoration-color: #008000\">'prediction_split'</span>: <span style=\"color: #008000; text-decoration-color: #008000\">'not_predicted'</span>\n",
              "<span style=\"font-weight: bold\">}</span>\n",
              "</pre>\n"
            ],
            "text/plain": [
              "\u001b[1m{\u001b[0m\n",
              "\u001b[2;32m│   \u001b[0m\u001b[32m'decision_boundary'\u001b[0m: \u001b[1;35mnp.float64\u001b[0m\u001b[1m(\u001b[0m\u001b[1;36m0.036000000000000004\u001b[0m\u001b[1m)\u001b[0m,\n",
              "\u001b[2;32m│   \u001b[0m\u001b[32m'precision'\u001b[0m: \u001b[1;36m0.448598130841111\u001b[0m,\n",
              "\u001b[2;32m│   \u001b[0m\u001b[32m'recall'\u001b[0m: \u001b[1;36m0.2815249266862129\u001b[0m,\n",
              "\u001b[2;32m│   \u001b[0m\u001b[32m'f1'\u001b[0m: \u001b[1;36m0.3459459459412015\u001b[0m,\n",
              "\u001b[2;32m│   \u001b[0m\u001b[32m'auprc'\u001b[0m: \u001b[1;35mnp.float64\u001b[0m\u001b[1m(\u001b[0m\u001b[1;36m0.29329661296342485\u001b[0m\u001b[1m)\u001b[0m,\n",
              "\u001b[2;32m│   \u001b[0m\u001b[32m'average_number_of_predicted_tokens'\u001b[0m: \u001b[1;36m2.3260869565217392\u001b[0m,\n",
              "\u001b[2;32m│   \u001b[0m\u001b[32m'evidence_span_token_recall'\u001b[0m: \u001b[1;36m0.4307596539905857\u001b[0m,\n",
              "\u001b[2;32m│   \u001b[0m\u001b[32m'evidence_span_recall'\u001b[0m: \u001b[1;36m0.5461956521684921\u001b[0m,\n",
              "\u001b[2;32m│   \u001b[0m\u001b[32m'precision@1'\u001b[0m: \u001b[1;36m0.47282608695652173\u001b[0m,\n",
              "\u001b[2;32m│   \u001b[0m\u001b[32m'recall@1'\u001b[0m: \u001b[1;36m0.12756598240469208\u001b[0m,\n",
              "\u001b[2;32m│   \u001b[0m\u001b[32m'precision@5'\u001b[0m: \u001b[1;36m0.26521739130434785\u001b[0m,\n",
              "\u001b[2;32m│   \u001b[0m\u001b[32m'recall@5'\u001b[0m: \u001b[1;36m0.35777126099706746\u001b[0m,\n",
              "\u001b[2;32m│   \u001b[0m\u001b[32m'precision@10'\u001b[0m: \u001b[1;36m0.17282608695652174\u001b[0m,\n",
              "\u001b[2;32m│   \u001b[0m\u001b[32m'recall@10'\u001b[0m: \u001b[1;36m0.4662756598240469\u001b[0m,\n",
              "\u001b[2;32m│   \u001b[0m\u001b[32m'precision@50'\u001b[0m: \u001b[1;36m0.048804347826086954\u001b[0m,\n",
              "\u001b[2;32m│   \u001b[0m\u001b[32m'recall@50'\u001b[0m: \u001b[1;36m0.658357771260997\u001b[0m,\n",
              "\u001b[2;32m│   \u001b[0m\u001b[32m'precision@100'\u001b[0m: \u001b[1;36m0.02673913043478261\u001b[0m,\n",
              "\u001b[2;32m│   \u001b[0m\u001b[32m'recall@100'\u001b[0m: \u001b[1;36m0.7214076246334311\u001b[0m,\n",
              "\u001b[2;32m│   \u001b[0m\u001b[32m'iou'\u001b[0m: \u001b[1;36m0.3693212012072221\u001b[0m,\n",
              "\u001b[2;32m│   \u001b[0m\u001b[32m'kl_divergence'\u001b[0m: \u001b[1;36m3.2118956918867823\u001b[0m,\n",
              "\u001b[2;32m│   \u001b[0m\u001b[32m'entropy'\u001b[0m: \u001b[1;36m0.673576715814605\u001b[0m,\n",
              "\u001b[2;32m│   \u001b[0m\u001b[32m'no_predictions'\u001b[0m: \u001b[1;36m0.2826086956521739\u001b[0m,\n",
              "\u001b[2;32m│   \u001b[0m\u001b[32m'attributions_sum_zero'\u001b[0m: \u001b[1;36m0.0\u001b[0m,\n",
              "\u001b[2;32m│   \u001b[0m\u001b[32m'explainability_method'\u001b[0m: \u001b[32m'atgrad_attention'\u001b[0m,\n",
              "\u001b[2;32m│   \u001b[0m\u001b[32m'prediction_split'\u001b[0m: \u001b[32m'not_predicted'\u001b[0m\n",
              "\u001b[1m}\u001b[0m\n"
            ]
          },
          "metadata": {},
          "output_type": "display_data"
        },
        {
          "data": {
            "text/html": [
              "<pre style=\"white-space:pre;overflow-x:auto;line-height:normal;font-family:Menlo,'DejaVu Sans Mono',consolas,'Courier New',monospace\"><span style=\"color: #008000; text-decoration-color: #008000\">'Evaluating invert_label_att'</span>\n",
              "</pre>\n"
            ],
            "text/plain": [
              "\u001b[32m'Evaluating invert_label_att'\u001b[0m\n"
            ]
          },
          "metadata": {},
          "output_type": "display_data"
        },
        {
          "data": {
            "application/vnd.jupyter.widget-view+json": {
              "model_id": "99bc1425e47b4392af9e76ae53e62b25",
              "version_major": 2,
              "version_minor": 0
            },
            "text/plain": [
              "Output()"
            ]
          },
          "metadata": {},
          "output_type": "display_data"
        },
        {
          "data": {
            "text/html": [
              "<pre style=\"white-space:pre;overflow-x:auto;line-height:normal;font-family:Menlo,'DejaVu Sans Mono',consolas,'Courier New',monospace\"></pre>\n"
            ],
            "text/plain": []
          },
          "metadata": {},
          "output_type": "display_data"
        },
        {
          "name": "stderr",
          "output_type": "stream",
          "text": [
            "/content/explain-icd/explainable_medical_coding/utils/analysis.py:237: DataOrientationWarning: Row orientation inferred during DataFrame construction. Explicitly specify the orientation by passing `orient=\"row\"` to silence this warning.\n",
            "  df = pl.DataFrame(schema=schema, data=rows)\n",
            "sys:1: MapWithoutReturnDtypeWarning: Calling `map_elements` without specifying `return_dtype` can lead to unpredictable results. Specify `return_dtype` to silence this warning.\n",
            "sys:1: MapWithoutReturnDtypeWarning: Calling `map_elements` without specifying `return_dtype` can lead to unpredictable results. Specify `return_dtype` to silence this warning.\n",
            "sys:1: MapWithoutReturnDtypeWarning: Calling `map_elements` without specifying `return_dtype` can lead to unpredictable results. Specify `return_dtype` to silence this warning.\n",
            "sys:1: MapWithoutReturnDtypeWarning: Calling `map_elements` without specifying `return_dtype` can lead to unpredictable results. Specify `return_dtype` to silence this warning.\n",
            "sys:1: MapWithoutReturnDtypeWarning: Calling `map_elements` without specifying `return_dtype` can lead to unpredictable results. Specify `return_dtype` to silence this warning.\n",
            "sys:1: MapWithoutReturnDtypeWarning: Calling `map_elements` without specifying `return_dtype` can lead to unpredictable results. Specify `return_dtype` to silence this warning.\n"
          ]
        },
        {
          "data": {
            "application/vnd.jupyter.widget-view+json": {
              "model_id": "b3a3674cd71f4cbe9defe2d66429fe20",
              "version_major": 2,
              "version_minor": 0
            },
            "text/plain": [
              "Output()"
            ]
          },
          "metadata": {},
          "output_type": "display_data"
        },
        {
          "data": {
            "text/html": [
              "<pre style=\"white-space:pre;overflow-x:auto;line-height:normal;font-family:Menlo,'DejaVu Sans Mono',consolas,'Courier New',monospace\"></pre>\n"
            ],
            "text/plain": []
          },
          "metadata": {},
          "output_type": "display_data"
        },
        {
          "name": "stderr",
          "output_type": "stream",
          "text": [
            "/content/explain-icd/explainable_medical_coding/utils/analysis.py:237: DataOrientationWarning: Row orientation inferred during DataFrame construction. Explicitly specify the orientation by passing `orient=\"row\"` to silence this warning.\n",
            "  df = pl.DataFrame(schema=schema, data=rows)\n",
            "sys:1: MapWithoutReturnDtypeWarning: Calling `map_elements` without specifying `return_dtype` can lead to unpredictable results. Specify `return_dtype` to silence this warning.\n",
            "sys:1: MapWithoutReturnDtypeWarning: Calling `map_elements` without specifying `return_dtype` can lead to unpredictable results. Specify `return_dtype` to silence this warning.\n",
            "sys:1: MapWithoutReturnDtypeWarning: Calling `map_elements` without specifying `return_dtype` can lead to unpredictable results. Specify `return_dtype` to silence this warning.\n",
            "sys:1: MapWithoutReturnDtypeWarning: Calling `map_elements` without specifying `return_dtype` can lead to unpredictable results. Specify `return_dtype` to silence this warning.\n",
            "sys:1: MapWithoutReturnDtypeWarning: Calling `map_elements` without specifying `return_dtype` can lead to unpredictable results. Specify `return_dtype` to silence this warning.\n",
            "sys:1: MapWithoutReturnDtypeWarning: Calling `map_elements` without specifying `return_dtype` can lead to unpredictable results. Specify `return_dtype` to silence this warning.\n",
            "sys:1: MapWithoutReturnDtypeWarning: Calling `map_elements` without specifying `return_dtype` can lead to unpredictable results. Specify `return_dtype` to silence this warning.\n",
            "sys:1: MapWithoutReturnDtypeWarning: Calling `map_elements` without specifying `return_dtype` can lead to unpredictable results. Specify `return_dtype` to silence this warning.\n",
            "sys:1: MapWithoutReturnDtypeWarning: Calling `map_elements` without specifying `return_dtype` can lead to unpredictable results. Specify `return_dtype` to silence this warning.\n",
            "sys:1: MapWithoutReturnDtypeWarning: Calling `map_elements` without specifying `return_dtype` can lead to unpredictable results. Specify `return_dtype` to silence this warning.\n",
            "sys:1: MapWithoutReturnDtypeWarning: Calling `map_elements` without specifying `return_dtype` can lead to unpredictable results. Specify `return_dtype` to silence this warning.\n",
            "sys:1: MapWithoutReturnDtypeWarning: Calling `map_elements` without specifying `return_dtype` can lead to unpredictable results. Specify `return_dtype` to silence this warning.\n",
            "sys:1: MapWithoutReturnDtypeWarning: Calling `map_elements` without specifying `return_dtype` can lead to unpredictable results. Specify `return_dtype` to silence this warning.\n",
            "sys:1: MapWithoutReturnDtypeWarning: Calling `map_elements` without specifying `return_dtype` can lead to unpredictable results. Specify `return_dtype` to silence this warning.\n",
            "sys:1: MapWithoutReturnDtypeWarning: Calling `map_elements` without specifying `return_dtype` can lead to unpredictable results. Specify `return_dtype` to silence this warning.\n",
            "sys:1: MapWithoutReturnDtypeWarning: Calling `map_elements` without specifying `return_dtype` can lead to unpredictable results. Specify `return_dtype` to silence this warning.\n",
            "sys:1: MapWithoutReturnDtypeWarning: Calling `map_elements` without specifying `return_dtype` can lead to unpredictable results. Specify `return_dtype` to silence this warning.\n",
            "sys:1: MapWithoutReturnDtypeWarning: Calling `map_elements` without specifying `return_dtype` can lead to unpredictable results. Specify `return_dtype` to silence this warning.\n",
            "sys:1: MapWithoutReturnDtypeWarning: Calling `map_elements` without specifying `return_dtype` can lead to unpredictable results. Specify `return_dtype` to silence this warning.\n",
            "sys:1: MapWithoutReturnDtypeWarning: Calling `map_elements` without specifying `return_dtype` can lead to unpredictable results. Specify `return_dtype` to silence this warning.\n",
            "sys:1: MapWithoutReturnDtypeWarning: Calling `map_elements` without specifying `return_dtype` can lead to unpredictable results. Specify `return_dtype` to silence this warning.\n",
            "sys:1: MapWithoutReturnDtypeWarning: Calling `map_elements` without specifying `return_dtype` can lead to unpredictable results. Specify `return_dtype` to silence this warning.\n",
            "sys:1: MapWithoutReturnDtypeWarning: Calling `map_elements` without specifying `return_dtype` can lead to unpredictable results. Specify `return_dtype` to silence this warning.\n",
            "sys:1: MapWithoutReturnDtypeWarning: Calling `map_elements` without specifying `return_dtype` can lead to unpredictable results. Specify `return_dtype` to silence this warning.\n"
          ]
        },
        {
          "data": {
            "text/html": [
              "<pre style=\"white-space:pre;overflow-x:auto;line-height:normal;font-family:Menlo,'DejaVu Sans Mono',consolas,'Courier New',monospace\"><span style=\"font-weight: bold\">{</span>\n",
              "<span style=\"color: #7fbf7f; text-decoration-color: #7fbf7f\">│   </span><span style=\"color: #008000; text-decoration-color: #008000\">'decision_boundary'</span>: <span style=\"color: #800080; text-decoration-color: #800080; font-weight: bold\">np.float64</span><span style=\"font-weight: bold\">(</span><span style=\"color: #008080; text-decoration-color: #008080; font-weight: bold\">0.039</span><span style=\"font-weight: bold\">)</span>,\n",
              "<span style=\"color: #7fbf7f; text-decoration-color: #7fbf7f\">│   </span><span style=\"color: #008000; text-decoration-color: #008000\">'precision'</span>: <span style=\"color: #008080; text-decoration-color: #008080; font-weight: bold\">0.36975488159534536</span>,\n",
              "<span style=\"color: #7fbf7f; text-decoration-color: #7fbf7f\">│   </span><span style=\"color: #008000; text-decoration-color: #008000\">'recall'</span>: <span style=\"color: #008080; text-decoration-color: #008080; font-weight: bold\">0.42563366810138487</span>,\n",
              "<span style=\"color: #7fbf7f; text-decoration-color: #7fbf7f\">│   </span><span style=\"color: #008000; text-decoration-color: #008000\">'f1'</span>: <span style=\"color: #008080; text-decoration-color: #008080; font-weight: bold\">0.3957314361888869</span>,\n",
              "<span style=\"color: #7fbf7f; text-decoration-color: #7fbf7f\">│   </span><span style=\"color: #008000; text-decoration-color: #008000\">'auprc'</span>: <span style=\"color: #800080; text-decoration-color: #800080; font-weight: bold\">np.float64</span><span style=\"font-weight: bold\">(</span><span style=\"color: #008080; text-decoration-color: #008080; font-weight: bold\">0.3457575729843433</span><span style=\"font-weight: bold\">)</span>,\n",
              "<span style=\"color: #7fbf7f; text-decoration-color: #7fbf7f\">│   </span><span style=\"color: #008000; text-decoration-color: #008000\">'average_number_of_predicted_tokens'</span>: <span style=\"color: #008080; text-decoration-color: #008080; font-weight: bold\">4.107508532423208</span>,\n",
              "<span style=\"color: #7fbf7f; text-decoration-color: #7fbf7f\">│   </span><span style=\"color: #008000; text-decoration-color: #008000\">'evidence_span_token_recall'</span>: <span style=\"color: #008080; text-decoration-color: #008080; font-weight: bold\">0.5855190197518907</span>,\n",
              "<span style=\"color: #7fbf7f; text-decoration-color: #7fbf7f\">│   </span><span style=\"color: #008000; text-decoration-color: #008000\">'evidence_span_recall'</span>: <span style=\"color: #008080; text-decoration-color: #008080; font-weight: bold\">0.7002275312788233</span>,\n",
              "<span style=\"color: #7fbf7f; text-decoration-color: #7fbf7f\">│   </span><span style=\"color: #008000; text-decoration-color: #008000\">'precision@1'</span>: <span style=\"color: #008080; text-decoration-color: #008080; font-weight: bold\">0.4863481228668942</span>,\n",
              "<span style=\"color: #7fbf7f; text-decoration-color: #7fbf7f\">│   </span><span style=\"color: #008000; text-decoration-color: #008000\">'recall@1'</span>: <span style=\"color: #008080; text-decoration-color: #008080; font-weight: bold\">0.13629842180774748</span>,\n",
              "<span style=\"color: #7fbf7f; text-decoration-color: #7fbf7f\">│   </span><span style=\"color: #008000; text-decoration-color: #008000\">'precision@5'</span>: <span style=\"color: #008080; text-decoration-color: #008080; font-weight: bold\">0.3078498293515358</span>,\n",
              "<span style=\"color: #7fbf7f; text-decoration-color: #7fbf7f\">│   </span><span style=\"color: #008000; text-decoration-color: #008000\">'recall@5'</span>: <span style=\"color: #008080; text-decoration-color: #008080; font-weight: bold\">0.43137254901960786</span>,\n",
              "<span style=\"color: #7fbf7f; text-decoration-color: #7fbf7f\">│   </span><span style=\"color: #008000; text-decoration-color: #008000\">'precision@10'</span>: <span style=\"color: #008080; text-decoration-color: #008080; font-weight: bold\">0.2052901023890785</span>,\n",
              "<span style=\"color: #7fbf7f; text-decoration-color: #7fbf7f\">│   </span><span style=\"color: #008000; text-decoration-color: #008000\">'recall@10'</span>: <span style=\"color: #008080; text-decoration-color: #008080; font-weight: bold\">0.5753228120516499</span>,\n",
              "<span style=\"color: #7fbf7f; text-decoration-color: #7fbf7f\">│   </span><span style=\"color: #008000; text-decoration-color: #008000\">'precision@50'</span>: <span style=\"color: #008080; text-decoration-color: #008080; font-weight: bold\">0.05689419795221843</span>,\n",
              "<span style=\"color: #7fbf7f; text-decoration-color: #7fbf7f\">│   </span><span style=\"color: #008000; text-decoration-color: #008000\">'recall@50'</span>: <span style=\"color: #008080; text-decoration-color: #008080; font-weight: bold\">0.7972262075561932</span>,\n",
              "<span style=\"color: #7fbf7f; text-decoration-color: #7fbf7f\">│   </span><span style=\"color: #008000; text-decoration-color: #008000\">'precision@100'</span>: <span style=\"color: #008080; text-decoration-color: #008080; font-weight: bold\">0.030665529010238907</span>,\n",
              "<span style=\"color: #7fbf7f; text-decoration-color: #7fbf7f\">│   </span><span style=\"color: #008000; text-decoration-color: #008000\">'recall@100'</span>: <span style=\"color: #008080; text-decoration-color: #008080; font-weight: bold\">0.8593974175035868</span>,\n",
              "<span style=\"color: #7fbf7f; text-decoration-color: #7fbf7f\">│   </span><span style=\"color: #008000; text-decoration-color: #008000\">'iou'</span>: <span style=\"color: #008080; text-decoration-color: #008080; font-weight: bold\">0.4078622615916199</span>,\n",
              "<span style=\"color: #7fbf7f; text-decoration-color: #7fbf7f\">│   </span><span style=\"color: #008000; text-decoration-color: #008000\">'kl_divergence'</span>: <span style=\"color: #008080; text-decoration-color: #008080; font-weight: bold\">2.521669574298175</span>,\n",
              "<span style=\"color: #7fbf7f; text-decoration-color: #7fbf7f\">│   </span><span style=\"color: #008000; text-decoration-color: #008000\">'entropy'</span>: <span style=\"color: #008080; text-decoration-color: #008080; font-weight: bold\">0.5890906185659172</span>,\n",
              "<span style=\"color: #7fbf7f; text-decoration-color: #7fbf7f\">│   </span><span style=\"color: #008000; text-decoration-color: #008000\">'no_predictions'</span>: <span style=\"color: #008080; text-decoration-color: #008080; font-weight: bold\">0.16552901023890784</span>,\n",
              "<span style=\"color: #7fbf7f; text-decoration-color: #7fbf7f\">│   </span><span style=\"color: #008000; text-decoration-color: #008000\">'attributions_sum_zero'</span>: <span style=\"color: #008080; text-decoration-color: #008080; font-weight: bold\">0.0</span>,\n",
              "<span style=\"color: #7fbf7f; text-decoration-color: #7fbf7f\">│   </span><span style=\"color: #008000; text-decoration-color: #008000\">'explainability_method'</span>: <span style=\"color: #008000; text-decoration-color: #008000\">'invert_label_att'</span>,\n",
              "<span style=\"color: #7fbf7f; text-decoration-color: #7fbf7f\">│   </span><span style=\"color: #008000; text-decoration-color: #008000\">'prediction_split'</span>: <span style=\"color: #008000; text-decoration-color: #008000\">'all'</span>\n",
              "<span style=\"font-weight: bold\">}</span>\n",
              "</pre>\n"
            ],
            "text/plain": [
              "\u001b[1m{\u001b[0m\n",
              "\u001b[2;32m│   \u001b[0m\u001b[32m'decision_boundary'\u001b[0m: \u001b[1;35mnp.float64\u001b[0m\u001b[1m(\u001b[0m\u001b[1;36m0.039\u001b[0m\u001b[1m)\u001b[0m,\n",
              "\u001b[2;32m│   \u001b[0m\u001b[32m'precision'\u001b[0m: \u001b[1;36m0.36975488159534536\u001b[0m,\n",
              "\u001b[2;32m│   \u001b[0m\u001b[32m'recall'\u001b[0m: \u001b[1;36m0.42563366810138487\u001b[0m,\n",
              "\u001b[2;32m│   \u001b[0m\u001b[32m'f1'\u001b[0m: \u001b[1;36m0.3957314361888869\u001b[0m,\n",
              "\u001b[2;32m│   \u001b[0m\u001b[32m'auprc'\u001b[0m: \u001b[1;35mnp.float64\u001b[0m\u001b[1m(\u001b[0m\u001b[1;36m0.3457575729843433\u001b[0m\u001b[1m)\u001b[0m,\n",
              "\u001b[2;32m│   \u001b[0m\u001b[32m'average_number_of_predicted_tokens'\u001b[0m: \u001b[1;36m4.107508532423208\u001b[0m,\n",
              "\u001b[2;32m│   \u001b[0m\u001b[32m'evidence_span_token_recall'\u001b[0m: \u001b[1;36m0.5855190197518907\u001b[0m,\n",
              "\u001b[2;32m│   \u001b[0m\u001b[32m'evidence_span_recall'\u001b[0m: \u001b[1;36m0.7002275312788233\u001b[0m,\n",
              "\u001b[2;32m│   \u001b[0m\u001b[32m'precision@1'\u001b[0m: \u001b[1;36m0.4863481228668942\u001b[0m,\n",
              "\u001b[2;32m│   \u001b[0m\u001b[32m'recall@1'\u001b[0m: \u001b[1;36m0.13629842180774748\u001b[0m,\n",
              "\u001b[2;32m│   \u001b[0m\u001b[32m'precision@5'\u001b[0m: \u001b[1;36m0.3078498293515358\u001b[0m,\n",
              "\u001b[2;32m│   \u001b[0m\u001b[32m'recall@5'\u001b[0m: \u001b[1;36m0.43137254901960786\u001b[0m,\n",
              "\u001b[2;32m│   \u001b[0m\u001b[32m'precision@10'\u001b[0m: \u001b[1;36m0.2052901023890785\u001b[0m,\n",
              "\u001b[2;32m│   \u001b[0m\u001b[32m'recall@10'\u001b[0m: \u001b[1;36m0.5753228120516499\u001b[0m,\n",
              "\u001b[2;32m│   \u001b[0m\u001b[32m'precision@50'\u001b[0m: \u001b[1;36m0.05689419795221843\u001b[0m,\n",
              "\u001b[2;32m│   \u001b[0m\u001b[32m'recall@50'\u001b[0m: \u001b[1;36m0.7972262075561932\u001b[0m,\n",
              "\u001b[2;32m│   \u001b[0m\u001b[32m'precision@100'\u001b[0m: \u001b[1;36m0.030665529010238907\u001b[0m,\n",
              "\u001b[2;32m│   \u001b[0m\u001b[32m'recall@100'\u001b[0m: \u001b[1;36m0.8593974175035868\u001b[0m,\n",
              "\u001b[2;32m│   \u001b[0m\u001b[32m'iou'\u001b[0m: \u001b[1;36m0.4078622615916199\u001b[0m,\n",
              "\u001b[2;32m│   \u001b[0m\u001b[32m'kl_divergence'\u001b[0m: \u001b[1;36m2.521669574298175\u001b[0m,\n",
              "\u001b[2;32m│   \u001b[0m\u001b[32m'entropy'\u001b[0m: \u001b[1;36m0.5890906185659172\u001b[0m,\n",
              "\u001b[2;32m│   \u001b[0m\u001b[32m'no_predictions'\u001b[0m: \u001b[1;36m0.16552901023890784\u001b[0m,\n",
              "\u001b[2;32m│   \u001b[0m\u001b[32m'attributions_sum_zero'\u001b[0m: \u001b[1;36m0.0\u001b[0m,\n",
              "\u001b[2;32m│   \u001b[0m\u001b[32m'explainability_method'\u001b[0m: \u001b[32m'invert_label_att'\u001b[0m,\n",
              "\u001b[2;32m│   \u001b[0m\u001b[32m'prediction_split'\u001b[0m: \u001b[32m'all'\u001b[0m\n",
              "\u001b[1m}\u001b[0m\n"
            ]
          },
          "metadata": {},
          "output_type": "display_data"
        },
        {
          "name": "stderr",
          "output_type": "stream",
          "text": [
            "sys:1: MapWithoutReturnDtypeWarning: Calling `map_elements` without specifying `return_dtype` can lead to unpredictable results. Specify `return_dtype` to silence this warning.\n",
            "sys:1: MapWithoutReturnDtypeWarning: Calling `map_elements` without specifying `return_dtype` can lead to unpredictable results. Specify `return_dtype` to silence this warning.\n",
            "sys:1: MapWithoutReturnDtypeWarning: Calling `map_elements` without specifying `return_dtype` can lead to unpredictable results. Specify `return_dtype` to silence this warning.\n",
            "sys:1: MapWithoutReturnDtypeWarning: Calling `map_elements` without specifying `return_dtype` can lead to unpredictable results. Specify `return_dtype` to silence this warning.\n",
            "sys:1: MapWithoutReturnDtypeWarning: Calling `map_elements` without specifying `return_dtype` can lead to unpredictable results. Specify `return_dtype` to silence this warning.\n",
            "sys:1: MapWithoutReturnDtypeWarning: Calling `map_elements` without specifying `return_dtype` can lead to unpredictable results. Specify `return_dtype` to silence this warning.\n",
            "sys:1: MapWithoutReturnDtypeWarning: Calling `map_elements` without specifying `return_dtype` can lead to unpredictable results. Specify `return_dtype` to silence this warning.\n",
            "sys:1: MapWithoutReturnDtypeWarning: Calling `map_elements` without specifying `return_dtype` can lead to unpredictable results. Specify `return_dtype` to silence this warning.\n",
            "sys:1: MapWithoutReturnDtypeWarning: Calling `map_elements` without specifying `return_dtype` can lead to unpredictable results. Specify `return_dtype` to silence this warning.\n",
            "sys:1: MapWithoutReturnDtypeWarning: Calling `map_elements` without specifying `return_dtype` can lead to unpredictable results. Specify `return_dtype` to silence this warning.\n",
            "sys:1: MapWithoutReturnDtypeWarning: Calling `map_elements` without specifying `return_dtype` can lead to unpredictable results. Specify `return_dtype` to silence this warning.\n",
            "sys:1: MapWithoutReturnDtypeWarning: Calling `map_elements` without specifying `return_dtype` can lead to unpredictable results. Specify `return_dtype` to silence this warning.\n",
            "sys:1: MapWithoutReturnDtypeWarning: Calling `map_elements` without specifying `return_dtype` can lead to unpredictable results. Specify `return_dtype` to silence this warning.\n",
            "sys:1: MapWithoutReturnDtypeWarning: Calling `map_elements` without specifying `return_dtype` can lead to unpredictable results. Specify `return_dtype` to silence this warning.\n",
            "sys:1: MapWithoutReturnDtypeWarning: Calling `map_elements` without specifying `return_dtype` can lead to unpredictable results. Specify `return_dtype` to silence this warning.\n",
            "sys:1: MapWithoutReturnDtypeWarning: Calling `map_elements` without specifying `return_dtype` can lead to unpredictable results. Specify `return_dtype` to silence this warning.\n",
            "sys:1: MapWithoutReturnDtypeWarning: Calling `map_elements` without specifying `return_dtype` can lead to unpredictable results. Specify `return_dtype` to silence this warning.\n",
            "sys:1: MapWithoutReturnDtypeWarning: Calling `map_elements` without specifying `return_dtype` can lead to unpredictable results. Specify `return_dtype` to silence this warning.\n"
          ]
        },
        {
          "data": {
            "text/html": [
              "<pre style=\"white-space:pre;overflow-x:auto;line-height:normal;font-family:Menlo,'DejaVu Sans Mono',consolas,'Courier New',monospace\"><span style=\"font-weight: bold\">{</span>\n",
              "<span style=\"color: #7fbf7f; text-decoration-color: #7fbf7f\">│   </span><span style=\"color: #008000; text-decoration-color: #008000\">'decision_boundary'</span>: <span style=\"color: #800080; text-decoration-color: #800080; font-weight: bold\">np.float64</span><span style=\"font-weight: bold\">(</span><span style=\"color: #008080; text-decoration-color: #008080; font-weight: bold\">0.039</span><span style=\"font-weight: bold\">)</span>,\n",
              "<span style=\"color: #7fbf7f; text-decoration-color: #7fbf7f\">│   </span><span style=\"color: #008000; text-decoration-color: #008000\">'precision'</span>: <span style=\"color: #008080; text-decoration-color: #008080; font-weight: bold\">0.3575308641975291</span>,\n",
              "<span style=\"color: #7fbf7f; text-decoration-color: #7fbf7f\">│   </span><span style=\"color: #008000; text-decoration-color: #008000\">'recall'</span>: <span style=\"color: #008080; text-decoration-color: #008080; font-weight: bold\">0.5138396025549999</span>,\n",
              "<span style=\"color: #7fbf7f; text-decoration-color: #7fbf7f\">│   </span><span style=\"color: #008000; text-decoration-color: #008000\">'f1'</span>: <span style=\"color: #008080; text-decoration-color: #008080; font-weight: bold\">0.4216656959765213</span>,\n",
              "<span style=\"color: #7fbf7f; text-decoration-color: #7fbf7f\">│   </span><span style=\"color: #008000; text-decoration-color: #008000\">'auprc'</span>: <span style=\"color: #800080; text-decoration-color: #800080; font-weight: bold\">np.float64</span><span style=\"font-weight: bold\">(</span><span style=\"color: #008080; text-decoration-color: #008080; font-weight: bold\">0.3863072510713019</span><span style=\"font-weight: bold\">)</span>,\n",
              "<span style=\"color: #7fbf7f; text-decoration-color: #7fbf7f\">│   </span><span style=\"color: #008000; text-decoration-color: #008000\">'average_number_of_predicted_tokens'</span>: <span style=\"color: #008080; text-decoration-color: #008080; font-weight: bold\">5.037313432835821</span>,\n",
              "<span style=\"color: #7fbf7f; text-decoration-color: #7fbf7f\">│   </span><span style=\"color: #008000; text-decoration-color: #008000\">'evidence_span_token_recall'</span>: <span style=\"color: #008080; text-decoration-color: #008080; font-weight: bold\">0.6920741813424947</span>,\n",
              "<span style=\"color: #7fbf7f; text-decoration-color: #7fbf7f\">│   </span><span style=\"color: #008000; text-decoration-color: #008000\">'evidence_span_recall'</span>: <span style=\"color: #008080; text-decoration-color: #008080; font-weight: bold\">0.8030679933588512</span>,\n",
              "<span style=\"color: #7fbf7f; text-decoration-color: #7fbf7f\">│   </span><span style=\"color: #008000; text-decoration-color: #008000\">'precision@1'</span>: <span style=\"color: #008080; text-decoration-color: #008080; font-weight: bold\">0.5298507462686567</span>,\n",
              "<span style=\"color: #7fbf7f; text-decoration-color: #7fbf7f\">│   </span><span style=\"color: #008000; text-decoration-color: #008000\">'recall@1'</span>: <span style=\"color: #008080; text-decoration-color: #008080; font-weight: bold\">0.15117104329311568</span>,\n",
              "<span style=\"color: #7fbf7f; text-decoration-color: #7fbf7f\">│   </span><span style=\"color: #008000; text-decoration-color: #008000\">'precision@5'</span>: <span style=\"color: #008080; text-decoration-color: #008080; font-weight: bold\">0.3288557213930348</span>,\n",
              "<span style=\"color: #7fbf7f; text-decoration-color: #7fbf7f\">│   </span><span style=\"color: #008000; text-decoration-color: #008000\">'recall@5'</span>: <span style=\"color: #008080; text-decoration-color: #008080; font-weight: bold\">0.4691270404542229</span>,\n",
              "<span style=\"color: #7fbf7f; text-decoration-color: #7fbf7f\">│   </span><span style=\"color: #008000; text-decoration-color: #008000\">'precision@10'</span>: <span style=\"color: #008080; text-decoration-color: #008080; font-weight: bold\">0.21567164179104478</span>,\n",
              "<span style=\"color: #7fbf7f; text-decoration-color: #7fbf7f\">│   </span><span style=\"color: #008000; text-decoration-color: #008000\">'recall@10'</span>: <span style=\"color: #008080; text-decoration-color: #008080; font-weight: bold\">0.6153300212916962</span>,\n",
              "<span style=\"color: #7fbf7f; text-decoration-color: #7fbf7f\">│   </span><span style=\"color: #008000; text-decoration-color: #008000\">'precision@50'</span>: <span style=\"color: #008080; text-decoration-color: #008080; font-weight: bold\">0.059402985074626866</span>,\n",
              "<span style=\"color: #7fbf7f; text-decoration-color: #7fbf7f\">│   </span><span style=\"color: #008000; text-decoration-color: #008000\">'recall@50'</span>: <span style=\"color: #008080; text-decoration-color: #008080; font-weight: bold\">0.8474095102909865</span>,\n",
              "<span style=\"color: #7fbf7f; text-decoration-color: #7fbf7f\">│   </span><span style=\"color: #008000; text-decoration-color: #008000\">'precision@100'</span>: <span style=\"color: #008080; text-decoration-color: #008080; font-weight: bold\">0.03171641791044776</span>,\n",
              "<span style=\"color: #7fbf7f; text-decoration-color: #7fbf7f\">│   </span><span style=\"color: #008000; text-decoration-color: #008000\">'recall@100'</span>: <span style=\"color: #008080; text-decoration-color: #008080; font-weight: bold\">0.9048970901348474</span>,\n",
              "<span style=\"color: #7fbf7f; text-decoration-color: #7fbf7f\">│   </span><span style=\"color: #008000; text-decoration-color: #008000\">'iou'</span>: <span style=\"color: #008080; text-decoration-color: #008080; font-weight: bold\">0.44919955242999837</span>,\n",
              "<span style=\"color: #7fbf7f; text-decoration-color: #7fbf7f\">│   </span><span style=\"color: #008000; text-decoration-color: #008000\">'kl_divergence'</span>: <span style=\"color: #008080; text-decoration-color: #008080; font-weight: bold\">2.100853897884708</span>,\n",
              "<span style=\"color: #7fbf7f; text-decoration-color: #7fbf7f\">│   </span><span style=\"color: #008000; text-decoration-color: #008000\">'entropy'</span>: <span style=\"color: #008080; text-decoration-color: #008080; font-weight: bold\">0.5181446328025159</span>,\n",
              "<span style=\"color: #7fbf7f; text-decoration-color: #7fbf7f\">│   </span><span style=\"color: #008000; text-decoration-color: #008000\">'no_predictions'</span>: <span style=\"color: #008080; text-decoration-color: #008080; font-weight: bold\">0.05721393034825871</span>,\n",
              "<span style=\"color: #7fbf7f; text-decoration-color: #7fbf7f\">│   </span><span style=\"color: #008000; text-decoration-color: #008000\">'attributions_sum_zero'</span>: <span style=\"color: #008080; text-decoration-color: #008080; font-weight: bold\">0.0</span>,\n",
              "<span style=\"color: #7fbf7f; text-decoration-color: #7fbf7f\">│   </span><span style=\"color: #008000; text-decoration-color: #008000\">'explainability_method'</span>: <span style=\"color: #008000; text-decoration-color: #008000\">'invert_label_att'</span>,\n",
              "<span style=\"color: #7fbf7f; text-decoration-color: #7fbf7f\">│   </span><span style=\"color: #008000; text-decoration-color: #008000\">'prediction_split'</span>: <span style=\"color: #008000; text-decoration-color: #008000\">'predicted'</span>\n",
              "<span style=\"font-weight: bold\">}</span>\n",
              "</pre>\n"
            ],
            "text/plain": [
              "\u001b[1m{\u001b[0m\n",
              "\u001b[2;32m│   \u001b[0m\u001b[32m'decision_boundary'\u001b[0m: \u001b[1;35mnp.float64\u001b[0m\u001b[1m(\u001b[0m\u001b[1;36m0.039\u001b[0m\u001b[1m)\u001b[0m,\n",
              "\u001b[2;32m│   \u001b[0m\u001b[32m'precision'\u001b[0m: \u001b[1;36m0.3575308641975291\u001b[0m,\n",
              "\u001b[2;32m│   \u001b[0m\u001b[32m'recall'\u001b[0m: \u001b[1;36m0.5138396025549999\u001b[0m,\n",
              "\u001b[2;32m│   \u001b[0m\u001b[32m'f1'\u001b[0m: \u001b[1;36m0.4216656959765213\u001b[0m,\n",
              "\u001b[2;32m│   \u001b[0m\u001b[32m'auprc'\u001b[0m: \u001b[1;35mnp.float64\u001b[0m\u001b[1m(\u001b[0m\u001b[1;36m0.3863072510713019\u001b[0m\u001b[1m)\u001b[0m,\n",
              "\u001b[2;32m│   \u001b[0m\u001b[32m'average_number_of_predicted_tokens'\u001b[0m: \u001b[1;36m5.037313432835821\u001b[0m,\n",
              "\u001b[2;32m│   \u001b[0m\u001b[32m'evidence_span_token_recall'\u001b[0m: \u001b[1;36m0.6920741813424947\u001b[0m,\n",
              "\u001b[2;32m│   \u001b[0m\u001b[32m'evidence_span_recall'\u001b[0m: \u001b[1;36m0.8030679933588512\u001b[0m,\n",
              "\u001b[2;32m│   \u001b[0m\u001b[32m'precision@1'\u001b[0m: \u001b[1;36m0.5298507462686567\u001b[0m,\n",
              "\u001b[2;32m│   \u001b[0m\u001b[32m'recall@1'\u001b[0m: \u001b[1;36m0.15117104329311568\u001b[0m,\n",
              "\u001b[2;32m│   \u001b[0m\u001b[32m'precision@5'\u001b[0m: \u001b[1;36m0.3288557213930348\u001b[0m,\n",
              "\u001b[2;32m│   \u001b[0m\u001b[32m'recall@5'\u001b[0m: \u001b[1;36m0.4691270404542229\u001b[0m,\n",
              "\u001b[2;32m│   \u001b[0m\u001b[32m'precision@10'\u001b[0m: \u001b[1;36m0.21567164179104478\u001b[0m,\n",
              "\u001b[2;32m│   \u001b[0m\u001b[32m'recall@10'\u001b[0m: \u001b[1;36m0.6153300212916962\u001b[0m,\n",
              "\u001b[2;32m│   \u001b[0m\u001b[32m'precision@50'\u001b[0m: \u001b[1;36m0.059402985074626866\u001b[0m,\n",
              "\u001b[2;32m│   \u001b[0m\u001b[32m'recall@50'\u001b[0m: \u001b[1;36m0.8474095102909865\u001b[0m,\n",
              "\u001b[2;32m│   \u001b[0m\u001b[32m'precision@100'\u001b[0m: \u001b[1;36m0.03171641791044776\u001b[0m,\n",
              "\u001b[2;32m│   \u001b[0m\u001b[32m'recall@100'\u001b[0m: \u001b[1;36m0.9048970901348474\u001b[0m,\n",
              "\u001b[2;32m│   \u001b[0m\u001b[32m'iou'\u001b[0m: \u001b[1;36m0.44919955242999837\u001b[0m,\n",
              "\u001b[2;32m│   \u001b[0m\u001b[32m'kl_divergence'\u001b[0m: \u001b[1;36m2.100853897884708\u001b[0m,\n",
              "\u001b[2;32m│   \u001b[0m\u001b[32m'entropy'\u001b[0m: \u001b[1;36m0.5181446328025159\u001b[0m,\n",
              "\u001b[2;32m│   \u001b[0m\u001b[32m'no_predictions'\u001b[0m: \u001b[1;36m0.05721393034825871\u001b[0m,\n",
              "\u001b[2;32m│   \u001b[0m\u001b[32m'attributions_sum_zero'\u001b[0m: \u001b[1;36m0.0\u001b[0m,\n",
              "\u001b[2;32m│   \u001b[0m\u001b[32m'explainability_method'\u001b[0m: \u001b[32m'invert_label_att'\u001b[0m,\n",
              "\u001b[2;32m│   \u001b[0m\u001b[32m'prediction_split'\u001b[0m: \u001b[32m'predicted'\u001b[0m\n",
              "\u001b[1m}\u001b[0m\n"
            ]
          },
          "metadata": {},
          "output_type": "display_data"
        },
        {
          "name": "stderr",
          "output_type": "stream",
          "text": [
            "sys:1: MapWithoutReturnDtypeWarning: Calling `map_elements` without specifying `return_dtype` can lead to unpredictable results. Specify `return_dtype` to silence this warning.\n",
            "sys:1: MapWithoutReturnDtypeWarning: Calling `map_elements` without specifying `return_dtype` can lead to unpredictable results. Specify `return_dtype` to silence this warning.\n",
            "sys:1: MapWithoutReturnDtypeWarning: Calling `map_elements` without specifying `return_dtype` can lead to unpredictable results. Specify `return_dtype` to silence this warning.\n",
            "sys:1: MapWithoutReturnDtypeWarning: Calling `map_elements` without specifying `return_dtype` can lead to unpredictable results. Specify `return_dtype` to silence this warning.\n",
            "sys:1: MapWithoutReturnDtypeWarning: Calling `map_elements` without specifying `return_dtype` can lead to unpredictable results. Specify `return_dtype` to silence this warning.\n",
            "sys:1: MapWithoutReturnDtypeWarning: Calling `map_elements` without specifying `return_dtype` can lead to unpredictable results. Specify `return_dtype` to silence this warning.\n",
            "sys:1: MapWithoutReturnDtypeWarning: Calling `map_elements` without specifying `return_dtype` can lead to unpredictable results. Specify `return_dtype` to silence this warning.\n",
            "sys:1: MapWithoutReturnDtypeWarning: Calling `map_elements` without specifying `return_dtype` can lead to unpredictable results. Specify `return_dtype` to silence this warning.\n",
            "sys:1: MapWithoutReturnDtypeWarning: Calling `map_elements` without specifying `return_dtype` can lead to unpredictable results. Specify `return_dtype` to silence this warning.\n",
            "sys:1: MapWithoutReturnDtypeWarning: Calling `map_elements` without specifying `return_dtype` can lead to unpredictable results. Specify `return_dtype` to silence this warning.\n",
            "sys:1: MapWithoutReturnDtypeWarning: Calling `map_elements` without specifying `return_dtype` can lead to unpredictable results. Specify `return_dtype` to silence this warning.\n",
            "sys:1: MapWithoutReturnDtypeWarning: Calling `map_elements` without specifying `return_dtype` can lead to unpredictable results. Specify `return_dtype` to silence this warning.\n",
            "sys:1: MapWithoutReturnDtypeWarning: Calling `map_elements` without specifying `return_dtype` can lead to unpredictable results. Specify `return_dtype` to silence this warning.\n",
            "sys:1: MapWithoutReturnDtypeWarning: Calling `map_elements` without specifying `return_dtype` can lead to unpredictable results. Specify `return_dtype` to silence this warning.\n",
            "sys:1: MapWithoutReturnDtypeWarning: Calling `map_elements` without specifying `return_dtype` can lead to unpredictable results. Specify `return_dtype` to silence this warning.\n",
            "sys:1: MapWithoutReturnDtypeWarning: Calling `map_elements` without specifying `return_dtype` can lead to unpredictable results. Specify `return_dtype` to silence this warning.\n",
            "sys:1: MapWithoutReturnDtypeWarning: Calling `map_elements` without specifying `return_dtype` can lead to unpredictable results. Specify `return_dtype` to silence this warning.\n",
            "sys:1: MapWithoutReturnDtypeWarning: Calling `map_elements` without specifying `return_dtype` can lead to unpredictable results. Specify `return_dtype` to silence this warning.\n"
          ]
        },
        {
          "data": {
            "text/html": [
              "<pre style=\"white-space:pre;overflow-x:auto;line-height:normal;font-family:Menlo,'DejaVu Sans Mono',consolas,'Courier New',monospace\"><span style=\"font-weight: bold\">{</span>\n",
              "<span style=\"color: #7fbf7f; text-decoration-color: #7fbf7f\">│   </span><span style=\"color: #008000; text-decoration-color: #008000\">'decision_boundary'</span>: <span style=\"color: #800080; text-decoration-color: #800080; font-weight: bold\">np.float64</span><span style=\"font-weight: bold\">(</span><span style=\"color: #008080; text-decoration-color: #008080; font-weight: bold\">0.039</span><span style=\"font-weight: bold\">)</span>,\n",
              "<span style=\"color: #7fbf7f; text-decoration-color: #7fbf7f\">│   </span><span style=\"color: #008000; text-decoration-color: #008000\">'precision'</span>: <span style=\"color: #008080; text-decoration-color: #008080; font-weight: bold\">0.43455497382197816</span>,\n",
              "<span style=\"color: #7fbf7f; text-decoration-color: #7fbf7f\">│   </span><span style=\"color: #008000; text-decoration-color: #008000\">'recall'</span>: <span style=\"color: #008080; text-decoration-color: #008080; font-weight: bold\">0.24340175953078821</span>,\n",
              "<span style=\"color: #7fbf7f; text-decoration-color: #7fbf7f\">│   </span><span style=\"color: #008000; text-decoration-color: #008000\">'f1'</span>: <span style=\"color: #008080; text-decoration-color: #008080; font-weight: bold\">0.31203007518336157</span>,\n",
              "<span style=\"color: #7fbf7f; text-decoration-color: #7fbf7f\">│   </span><span style=\"color: #008000; text-decoration-color: #008000\">'auprc'</span>: <span style=\"color: #800080; text-decoration-color: #800080; font-weight: bold\">np.float64</span><span style=\"font-weight: bold\">(</span><span style=\"color: #008080; text-decoration-color: #008080; font-weight: bold\">0.2791950196214305</span><span style=\"font-weight: bold\">)</span>,\n",
              "<span style=\"color: #7fbf7f; text-decoration-color: #7fbf7f\">│   </span><span style=\"color: #008000; text-decoration-color: #008000\">'average_number_of_predicted_tokens'</span>: <span style=\"color: #008080; text-decoration-color: #008080; font-weight: bold\">2.0760869565217392</span>,\n",
              "<span style=\"color: #7fbf7f; text-decoration-color: #7fbf7f\">│   </span><span style=\"color: #008000; text-decoration-color: #008000\">'evidence_span_token_recall'</span>: <span style=\"color: #008080; text-decoration-color: #008080; font-weight: bold\">0.35271915584198466</span>,\n",
              "<span style=\"color: #7fbf7f; text-decoration-color: #7fbf7f\">│   </span><span style=\"color: #008000; text-decoration-color: #008000\">'evidence_span_recall'</span>: <span style=\"color: #008080; text-decoration-color: #008080; font-weight: bold\">0.47554347825615495</span>,\n",
              "<span style=\"color: #7fbf7f; text-decoration-color: #7fbf7f\">│   </span><span style=\"color: #008000; text-decoration-color: #008000\">'precision@1'</span>: <span style=\"color: #008080; text-decoration-color: #008080; font-weight: bold\">0.391304347826087</span>,\n",
              "<span style=\"color: #7fbf7f; text-decoration-color: #7fbf7f\">│   </span><span style=\"color: #008000; text-decoration-color: #008000\">'recall@1'</span>: <span style=\"color: #008080; text-decoration-color: #008080; font-weight: bold\">0.10557184750733138</span>,\n",
              "<span style=\"color: #7fbf7f; text-decoration-color: #7fbf7f\">│   </span><span style=\"color: #008000; text-decoration-color: #008000\">'precision@5'</span>: <span style=\"color: #008080; text-decoration-color: #008080; font-weight: bold\">0.2619565217391304</span>,\n",
              "<span style=\"color: #7fbf7f; text-decoration-color: #7fbf7f\">│   </span><span style=\"color: #008000; text-decoration-color: #008000\">'recall@5'</span>: <span style=\"color: #008080; text-decoration-color: #008080; font-weight: bold\">0.3533724340175953</span>,\n",
              "<span style=\"color: #7fbf7f; text-decoration-color: #7fbf7f\">│   </span><span style=\"color: #008000; text-decoration-color: #008000\">'precision@10'</span>: <span style=\"color: #008080; text-decoration-color: #008080; font-weight: bold\">0.1826086956521739</span>,\n",
              "<span style=\"color: #7fbf7f; text-decoration-color: #7fbf7f\">│   </span><span style=\"color: #008000; text-decoration-color: #008000\">'recall@10'</span>: <span style=\"color: #008080; text-decoration-color: #008080; font-weight: bold\">0.49266862170087977</span>,\n",
              "<span style=\"color: #7fbf7f; text-decoration-color: #7fbf7f\">│   </span><span style=\"color: #008000; text-decoration-color: #008000\">'precision@50'</span>: <span style=\"color: #008080; text-decoration-color: #008080; font-weight: bold\">0.05141304347826087</span>,\n",
              "<span style=\"color: #7fbf7f; text-decoration-color: #7fbf7f\">│   </span><span style=\"color: #008000; text-decoration-color: #008000\">'recall@50'</span>: <span style=\"color: #008080; text-decoration-color: #008080; font-weight: bold\">0.6935483870967742</span>,\n",
              "<span style=\"color: #7fbf7f; text-decoration-color: #7fbf7f\">│   </span><span style=\"color: #008000; text-decoration-color: #008000\">'precision@100'</span>: <span style=\"color: #008080; text-decoration-color: #008080; font-weight: bold\">0.028369565217391306</span>,\n",
              "<span style=\"color: #7fbf7f; text-decoration-color: #7fbf7f\">│   </span><span style=\"color: #008000; text-decoration-color: #008000\">'recall@100'</span>: <span style=\"color: #008080; text-decoration-color: #008080; font-weight: bold\">0.7653958944281525</span>,\n",
              "<span style=\"color: #7fbf7f; text-decoration-color: #7fbf7f\">│   </span><span style=\"color: #008000; text-decoration-color: #008000\">'iou'</span>: <span style=\"color: #008080; text-decoration-color: #008080; font-weight: bold\">0.3175492674773365</span>,\n",
              "<span style=\"color: #7fbf7f; text-decoration-color: #7fbf7f\">│   </span><span style=\"color: #008000; text-decoration-color: #008000\">'kl_divergence'</span>: <span style=\"color: #008080; text-decoration-color: #008080; font-weight: bold\">3.4410603455928164</span>,\n",
              "<span style=\"color: #7fbf7f; text-decoration-color: #7fbf7f\">│   </span><span style=\"color: #008000; text-decoration-color: #008000\">'entropy'</span>: <span style=\"color: #008080; text-decoration-color: #008080; font-weight: bold\">0.7440921744185652</span>,\n",
              "<span style=\"color: #7fbf7f; text-decoration-color: #7fbf7f\">│   </span><span style=\"color: #008000; text-decoration-color: #008000\">'no_predictions'</span>: <span style=\"color: #008080; text-decoration-color: #008080; font-weight: bold\">0.40217391304347827</span>,\n",
              "<span style=\"color: #7fbf7f; text-decoration-color: #7fbf7f\">│   </span><span style=\"color: #008000; text-decoration-color: #008000\">'attributions_sum_zero'</span>: <span style=\"color: #008080; text-decoration-color: #008080; font-weight: bold\">0.0</span>,\n",
              "<span style=\"color: #7fbf7f; text-decoration-color: #7fbf7f\">│   </span><span style=\"color: #008000; text-decoration-color: #008000\">'explainability_method'</span>: <span style=\"color: #008000; text-decoration-color: #008000\">'invert_label_att'</span>,\n",
              "<span style=\"color: #7fbf7f; text-decoration-color: #7fbf7f\">│   </span><span style=\"color: #008000; text-decoration-color: #008000\">'prediction_split'</span>: <span style=\"color: #008000; text-decoration-color: #008000\">'not_predicted'</span>\n",
              "<span style=\"font-weight: bold\">}</span>\n",
              "</pre>\n"
            ],
            "text/plain": [
              "\u001b[1m{\u001b[0m\n",
              "\u001b[2;32m│   \u001b[0m\u001b[32m'decision_boundary'\u001b[0m: \u001b[1;35mnp.float64\u001b[0m\u001b[1m(\u001b[0m\u001b[1;36m0.039\u001b[0m\u001b[1m)\u001b[0m,\n",
              "\u001b[2;32m│   \u001b[0m\u001b[32m'precision'\u001b[0m: \u001b[1;36m0.43455497382197816\u001b[0m,\n",
              "\u001b[2;32m│   \u001b[0m\u001b[32m'recall'\u001b[0m: \u001b[1;36m0.24340175953078821\u001b[0m,\n",
              "\u001b[2;32m│   \u001b[0m\u001b[32m'f1'\u001b[0m: \u001b[1;36m0.31203007518336157\u001b[0m,\n",
              "\u001b[2;32m│   \u001b[0m\u001b[32m'auprc'\u001b[0m: \u001b[1;35mnp.float64\u001b[0m\u001b[1m(\u001b[0m\u001b[1;36m0.2791950196214305\u001b[0m\u001b[1m)\u001b[0m,\n",
              "\u001b[2;32m│   \u001b[0m\u001b[32m'average_number_of_predicted_tokens'\u001b[0m: \u001b[1;36m2.0760869565217392\u001b[0m,\n",
              "\u001b[2;32m│   \u001b[0m\u001b[32m'evidence_span_token_recall'\u001b[0m: \u001b[1;36m0.35271915584198466\u001b[0m,\n",
              "\u001b[2;32m│   \u001b[0m\u001b[32m'evidence_span_recall'\u001b[0m: \u001b[1;36m0.47554347825615495\u001b[0m,\n",
              "\u001b[2;32m│   \u001b[0m\u001b[32m'precision@1'\u001b[0m: \u001b[1;36m0.391304347826087\u001b[0m,\n",
              "\u001b[2;32m│   \u001b[0m\u001b[32m'recall@1'\u001b[0m: \u001b[1;36m0.10557184750733138\u001b[0m,\n",
              "\u001b[2;32m│   \u001b[0m\u001b[32m'precision@5'\u001b[0m: \u001b[1;36m0.2619565217391304\u001b[0m,\n",
              "\u001b[2;32m│   \u001b[0m\u001b[32m'recall@5'\u001b[0m: \u001b[1;36m0.3533724340175953\u001b[0m,\n",
              "\u001b[2;32m│   \u001b[0m\u001b[32m'precision@10'\u001b[0m: \u001b[1;36m0.1826086956521739\u001b[0m,\n",
              "\u001b[2;32m│   \u001b[0m\u001b[32m'recall@10'\u001b[0m: \u001b[1;36m0.49266862170087977\u001b[0m,\n",
              "\u001b[2;32m│   \u001b[0m\u001b[32m'precision@50'\u001b[0m: \u001b[1;36m0.05141304347826087\u001b[0m,\n",
              "\u001b[2;32m│   \u001b[0m\u001b[32m'recall@50'\u001b[0m: \u001b[1;36m0.6935483870967742\u001b[0m,\n",
              "\u001b[2;32m│   \u001b[0m\u001b[32m'precision@100'\u001b[0m: \u001b[1;36m0.028369565217391306\u001b[0m,\n",
              "\u001b[2;32m│   \u001b[0m\u001b[32m'recall@100'\u001b[0m: \u001b[1;36m0.7653958944281525\u001b[0m,\n",
              "\u001b[2;32m│   \u001b[0m\u001b[32m'iou'\u001b[0m: \u001b[1;36m0.3175492674773365\u001b[0m,\n",
              "\u001b[2;32m│   \u001b[0m\u001b[32m'kl_divergence'\u001b[0m: \u001b[1;36m3.4410603455928164\u001b[0m,\n",
              "\u001b[2;32m│   \u001b[0m\u001b[32m'entropy'\u001b[0m: \u001b[1;36m0.7440921744185652\u001b[0m,\n",
              "\u001b[2;32m│   \u001b[0m\u001b[32m'no_predictions'\u001b[0m: \u001b[1;36m0.40217391304347827\u001b[0m,\n",
              "\u001b[2;32m│   \u001b[0m\u001b[32m'attributions_sum_zero'\u001b[0m: \u001b[1;36m0.0\u001b[0m,\n",
              "\u001b[2;32m│   \u001b[0m\u001b[32m'explainability_method'\u001b[0m: \u001b[32m'invert_label_att'\u001b[0m,\n",
              "\u001b[2;32m│   \u001b[0m\u001b[32m'prediction_split'\u001b[0m: \u001b[32m'not_predicted'\u001b[0m\n",
              "\u001b[1m}\u001b[0m\n"
            ]
          },
          "metadata": {},
          "output_type": "display_data"
        }
      ],
      "source": [
        "from explainable_medical_coding.eval.plausibility_metrics import evaluate_plausibility_and_sparsity\n",
        "\n",
        "evaluate_plausibility_and_sparsity(\n",
        "  model=model,\n",
        "  model_path=model_path,\n",
        "  datasets=dataset,\n",
        "  text_tokenizer=text_tokenizer,\n",
        "  target_tokenizer=target_tokenizer,\n",
        "  decision_boundary=decision_boundary,\n",
        "  explainability_methods=exp_config.explainers,\n",
        "  cache_explanations=exp_config.cache_explanations,\n",
        "  save_path=results_dir / \"plausibility_and_sparsity.csv\",\n",
        ")"
      ]
    },
    {
      "cell_type": "code",
      "execution_count": null,
      "metadata": {
        "colab": {
          "base_uri": "https://localhost:8080/"
        },
        "id": "Gsq4doIdF-5Z",
        "outputId": "bb6b584e-bede-4d16-de72-4eb797c62f02"
      },
      "outputs": [
        {
          "data": {
            "application/vnd.google.colaboratory.intrinsic+json": {
              "type": "string"
            },
            "text/plain": [
              "'/content/explain-icd/supervised_v5vsimfr.zip'"
            ]
          },
          "execution_count": 11,
          "metadata": {},
          "output_type": "execute_result"
        }
      ],
      "source": [
        "import shutil\n",
        "from google.colab import files\n",
        "\n",
        "shutil.make_archive(run_id.replace('/','_'), 'zip', results_dir)\n",
        "files.download(f\"{run_id.replace('/','_')}.zip\")  # Replace with your file path"
      ]
    },
    {
      "cell_type": "markdown",
      "source": [
        "## Testing"
      ],
      "metadata": {
        "id": "veZDXhtNRAvr"
      }
    },
    {
      "cell_type": "markdown",
      "metadata": {
        "id": "nfCPdbCZ4iDg"
      },
      "source": [
        "### Show explains"
      ]
    },
    {
      "cell_type": "code",
      "execution_count": null,
      "metadata": {
        "colab": {
          "base_uri": "https://localhost:8080/"
        },
        "id": "J_DtgNYSYaqE",
        "outputId": "9dfca67c-3737-40ec-b91a-9f8c41b277ea"
      },
      "outputs": [
        {
          "name": "stdout",
          "output_type": "stream",
          "text": [
            ".\n",
            "..\n",
            "d3aa98ab6d411894_3bf94d6802fd709e_9ab1f4ba369b5b47_5a13c741343b6cac.parquet\n",
            "d3aa98ab6d411894_46626e54961c0fe9_92297ef836b1e4c5_5a13c741343b6cac.parquet\n",
            "d3aa98ab6d411894_46626e54961c0fe9_9ab1f4ba369b5b47_5a13c741343b6cac.parquet\n",
            "d3aa98ab6d411894_55c64f476e83010f_92297ef836b1e4c5_5a13c741343b6cac.parquet\n",
            "d3aa98ab6d411894_5f729e7f31df513f_92297ef836b1e4c5_5a13c741343b6cac.parquet\n",
            "d3aa98ab6d411894_5f729e7f31df513f_9ab1f4ba369b5b47_5a13c741343b6cac.parquet\n",
            "d3aa98ab6d411894_8d8d47e5a419e9aa_92297ef836b1e4c5_5a13c741343b6cac.parquet\n",
            "d3aa98ab6d411894_99adcd9e1660b5a7_92297ef836b1e4c5_5a13c741343b6cac.parquet\n",
            "d3aa98ab6d411894_99adcd9e1660b5a7_9ab1f4ba369b5b47_5a13c741343b6cac.parquet\n",
            "d3aa98ab6d411894_afdfdd4ac638be04_92297ef836b1e4c5_5a13c741343b6cac.parquet\n",
            "d3aa98ab6d411894_afdfdd4ac638be04_9ab1f4ba369b5b47_5a13c741343b6cac.parquet\n",
            "d3aa98ab6d411894_cfd9c4c4bd681e39_9ab1f4ba369b5b47_5a13c741343b6cac.parquet\n"
          ]
        }
      ],
      "source": [
        "!ls -a .cache/"
      ]
    },
    {
      "cell_type": "code",
      "execution_count": null,
      "metadata": {
        "collapsed": true,
        "id": "lrMIWdpHXIGB"
      },
      "outputs": [],
      "source": [
        "# import os\n",
        "\n",
        "# folder1 = \"/content/explain-icd/reports/cache/tm/3hvfq75j\"\n",
        "# folder2 = \"/content/explain-icd/reports/cache/unsupervised/0fom6iwn\"\n",
        "\n",
        "# for filename in os.listdir(folder1):\n",
        "#     file_path = os.path.join(folder2, filename)  # Construct path in folder2\n",
        "#     if os.path.exists(file_path):  # Check if file exists\n",
        "#         os.remove(file_path)  # Delete file\n",
        "#         print(f\"Deleted: {file_path}\")\n",
        "#     else:\n",
        "#         print(f\"Not found: {file_path}\")\n"
      ]
    },
    {
      "cell_type": "code",
      "execution_count": null,
      "metadata": {
        "id": "OPPCjiZ_Hc7B"
      },
      "outputs": [],
      "source": [
        "import shutil\n",
        "\n",
        "cache_path = f\"/content/explain-icd/reports/cache/{run_id}\"\n",
        "src_folder = Path(\".cache/\")\n",
        "dst_folder = Path(cache_path)\n",
        "\n",
        "dst_folder.mkdir(parents=True, exist_ok=True)\n",
        "\n",
        "for file in src_folder.iterdir():\n",
        "    if file.is_file():\n",
        "        shutil.copy2(file, dst_folder / file.name)"
      ]
    },
    {
      "cell_type": "code",
      "execution_count": null,
      "metadata": {
        "colab": {
          "base_uri": "https://localhost:8080/",
          "height": 36
        },
        "collapsed": true,
        "id": "AqnQDsvEHt1I",
        "outputId": "dfa313d3-e840-4c0d-b8e2-832f201651e9"
      },
      "outputs": [
        {
          "data": {
            "application/vnd.google.colaboratory.intrinsic+json": {
              "type": "string"
            },
            "text/plain": [
              "'/content/explain-icd/cache_supervised_v5vsimfr.zip'"
            ]
          },
          "execution_count": 16,
          "metadata": {},
          "output_type": "execute_result"
        }
      ],
      "source": [
        "shutil.make_archive(f\"cache_{run_id.replace('/','_')}\", 'zip', '/content/explain-icd/reports/cache/')"
      ]
    },
    {
      "cell_type": "code",
      "execution_count": null,
      "metadata": {
        "id": "D3lMs-eU_hEZ"
      },
      "outputs": [],
      "source": [
        "files.download('.cache/993fdbf01d5d514f_02684f16e21b842b_bf3a5555623e3e78_9c04c226392f283b.parque')  # Replace with your file path\n",
        "files.download('.cache/993fdbf01d5d514f_02684f16e21b842b_bf3a5555623e3e78_9c04c226392f283b.parque')  # Replace with your file path"
      ]
    },
    {
      "cell_type": "code",
      "execution_count": null,
      "metadata": {
        "id": "HG9RXHtGetUI"
      },
      "outputs": [],
      "source": [
        "import polars as pl\n",
        "\n",
        "explanations_val_df = pl.read_parquet(\".cache/993fdbf01d5d514f_02684f16e21b842b_bf3a5555623e3e78_9c04c226392f283b.parquet\") # validation\n",
        "explanations_test_df = pl.read_parquet(\".cache/993fdbf01d5d514f_c97cb0a2a071cda6_66a672f034179133_9c04c226392f283b.parquet\")  # test"
      ]
    },
    {
      "cell_type": "code",
      "execution_count": null,
      "metadata": {
        "colab": {
          "base_uri": "https://localhost:8080/"
        },
        "id": "llNRcecSy9j-",
        "outputId": "6e1f46d4-be3f-41c4-9931-d924d78fc2f6"
      },
      "outputs": [
        {
          "name": "stdout",
          "output_type": "stream",
          "text": [
            "shape: (5, 5)\n",
            "┌─────────┬───────────┬──────────┬─────────────────────────────────┬────────────────────┐\n",
            "│ note_id ┆ target_id ┆ y_prob   ┆ attributions                    ┆ evidence_token_ids │\n",
            "│ ---     ┆ ---       ┆ ---      ┆ ---                             ┆ ---                │\n",
            "│ str     ┆ i64       ┆ f64      ┆ list[f64]                       ┆ list[i64]          │\n",
            "╞═════════╪═══════════╪══════════╪═════════════════════════════════╪════════════════════╡\n",
            "│ 23168   ┆ 3493      ┆ 0.80501  ┆ [0.0017, 0.000012, … 0.000073]  ┆ [625]              │\n",
            "│ 23168   ┆ 4264      ┆ 0.912789 ┆ [0.000302, 0.000028, … 0.00010… ┆ [144, 145, … 636]  │\n",
            "│ 23168   ┆ 8104      ┆ 0.960634 ┆ [0.000187, 0.000005, … 0.00036… ┆ [2372, 2373, 2374] │\n",
            "│ 23168   ┆ 2827      ┆ 0.788849 ┆ [0.000059, 0.000003, … 0.00040… ┆ [669]              │\n",
            "│ 23168   ┆ 4751      ┆ 0.049201 ┆ [0.002332, 0.000015, … 0.0004]  ┆ [640]              │\n",
            "└─────────┴───────────┴──────────┴─────────────────────────────────┴────────────────────┘\n"
          ]
        }
      ],
      "source": [
        "# First half (0 to 4)\n",
        "split_idx = 5\n",
        "df1 = df.slice(0, split_idx)\n",
        "\n",
        "# Second half (5 to end)\n",
        "df2 = df.slice(split_idx, len(df) - split_idx)\n",
        "print(df1.head())\n",
        "\n",
        "explanations_val_df = df1\n",
        "explanations_test_df = df2"
      ]
    },
    {
      "cell_type": "code",
      "execution_count": null,
      "metadata": {
        "colab": {
          "base_uri": "https://localhost:8080/"
        },
        "id": "M6nnI3SIYtVX",
        "outputId": "3d0114f5-3c02-4154-be93-85c4ba47fff1"
      },
      "outputs": [
        {
          "name": "stdout",
          "output_type": "stream",
          "text": [
            "shape: (5, 5)\n",
            "┌─────────┬───────────┬──────────┬─────────────────────────────────┬────────────────────┐\n",
            "│ note_id ┆ target_id ┆ y_prob   ┆ attributions                    ┆ evidence_token_ids │\n",
            "│ ---     ┆ ---       ┆ ---      ┆ ---                             ┆ ---                │\n",
            "│ str     ┆ i64       ┆ f64      ┆ list[f64]                       ┆ list[i64]          │\n",
            "╞═════════╪═══════════╪══════════╪═════════════════════════════════╪════════════════════╡\n",
            "│ 23168   ┆ 3493      ┆ 0.80501  ┆ [2.6812e-9, 4.5563e-11, … 1.19… ┆ [625]              │\n",
            "│ 23168   ┆ 4264      ┆ 0.912789 ┆ [2.1894e-10, 3.8074e-11, … 3.3… ┆ [144, 145, … 636]  │\n",
            "│ 23168   ┆ 8104      ┆ 0.960634 ┆ [2.6349e-11, 1.7133e-12, … 1.0… ┆ [2372, 2373, 2374] │\n",
            "│ 23168   ┆ 2827      ┆ 0.788849 ┆ [3.4599e-10, 3.8024e-11, … 1.7… ┆ [669]              │\n",
            "│ 23168   ┆ 4751      ┆ 0.049201 ┆ [0.000001, 2.3029e-8, … 2.8749… ┆ [640]              │\n",
            "└─────────┴───────────┴──────────┴─────────────────────────────────┴────────────────────┘\n"
          ]
        }
      ],
      "source": [
        "print(explanations_test_df.head())"
      ]
    },
    {
      "cell_type": "code",
      "execution_count": null,
      "metadata": {
        "id": "0IMTzRheiLPD"
      },
      "outputs": [],
      "source": [
        "from explainable_medical_coding.eval.plausibility_metrics import find_explanation_decision_boundary\n",
        "\n",
        "explanation_decision_boundary = find_explanation_decision_boundary(explanations_val_df)  # use validation set to find the decision boundary"
      ]
    },
    {
      "cell_type": "code",
      "execution_count": null,
      "metadata": {
        "colab": {
          "base_uri": "https://localhost:8080/"
        },
        "id": "-py_pkjq0pBW",
        "outputId": "e6ee207f-3d79-4918-bb4d-261ac2482253"
      },
      "outputs": [
        {
          "name": "stdout",
          "output_type": "stream",
          "text": [
            "0.098\n"
          ]
        }
      ],
      "source": [
        "print(explanation_decision_boundary)"
      ]
    },
    {
      "cell_type": "code",
      "execution_count": null,
      "metadata": {
        "colab": {
          "base_uri": "https://localhost:8080/"
        },
        "id": "PROYoBIUokKx",
        "outputId": "32719484-96d0-4d84-928b-a41a47ed616a"
      },
      "outputs": [
        {
          "name": "stderr",
          "output_type": "stream",
          "text": [
            "sys:1: MapWithoutReturnDtypeWarning: Calling `map_elements` without specifying `return_dtype` can lead to unpredictable results. Specify `return_dtype` to silence this warning.\n",
            "sys:1: MapWithoutReturnDtypeWarning: Calling `map_elements` without specifying `return_dtype` can lead to unpredictable results. Specify `return_dtype` to silence this warning.\n"
          ]
        }
      ],
      "source": [
        "from explainable_medical_coding.eval.plausibility_metrics import attributions2token_ids\n",
        "\n",
        "def decode_target_tokens(token_ids):\n",
        "    return target_tokenizer.decode(token_ids)\n",
        "\n",
        "pred_groundtruth = explanations_test_df.select(\n",
        "    note_id=pl.col(\"note_id\"),\n",
        "    target_text=pl.col(\"target_id\").map_elements(lambda x: decode_target_tokens([x])),\n",
        "    predicted_token_ids=pl.col(\"attributions\").map_elements(\n",
        "        lambda x: attributions2token_ids(x, explanation_decision_boundary)\n",
        "    ),\n",
        "    evidence_token_ids=pl.col(\"evidence_token_ids\"),\n",
        ")"
      ]
    },
    {
      "cell_type": "code",
      "execution_count": null,
      "metadata": {
        "id": "qpuShw9z02fB"
      },
      "outputs": [],
      "source": [
        "from datasets import load_dataset\n",
        "import polars as pl\n",
        "from transformers import AutoTokenizer\n",
        "\n",
        "\n",
        "# Load dataset once to avoid multiple calls\n",
        "check_dataset = load_dataset(\"explainable_medical_coding/datasets/mdace_inpatient_icd9.py\", name=\"mdace_inpatient_icd9\")\n",
        "\n",
        "# Create a dictionary for fast lookup (note_id → original_text)\n",
        "note_text_lookup = {row[\"note_id\"]: row[\"text\"] for row in check_dataset[\"test\"]}\n",
        "\n",
        "def reconstruct_text(note_id: str, token_ids: list[int]) -> str:\n",
        "    \"\"\"\n",
        "    Given a note_id and a list of token_ids, reconstruct the text.\n",
        "\n",
        "    Args:\n",
        "        note_id (str): The note identifier.\n",
        "        token_ids (list[int]): List of token IDs representing extracted text.\n",
        "\n",
        "    Returns:\n",
        "        str: Reconstructed text.\n",
        "    \"\"\"\n",
        "    # Retrieve original text\n",
        "    original_text = note_text_lookup.get(note_id, None)\n",
        "    if original_text is None:\n",
        "        return \"Unknown Note ID\"\n",
        "\n",
        "    # Tokenize original text\n",
        "    tokenized = text_tokenizer(original_text, return_offsets_mapping=True)\n",
        "    offsets = tokenized[\"offset_mapping\"]  # Character spans of each token\n",
        "\n",
        "    # Extract token spans using token_ids\n",
        "    extracted_spans = [original_text[start:end] for idx, (start, end) in enumerate(offsets) if idx in token_ids]\n",
        "\n",
        "    # Reconstruct text by joining extracted spans\n",
        "    return \" \".join(extracted_spans)\n",
        "\n",
        "# Apply the function to a Polars DataFrame\n",
        "df = pred_groundtruth.with_columns(\n",
        "    pl.struct([\"note_id\", \"predicted_token_ids\"]).map_elements(\n",
        "        lambda row: reconstruct_text(row[\"note_id\"], row[\"predicted_token_ids\"]),\n",
        "        return_dtype=pl.Utf8  # Specify output type to avoid warnings\n",
        "    ).alias(\"predicted_text\")\n",
        ")\n",
        "\n",
        "df = df.with_columns(\n",
        "    pl.struct([\"note_id\", \"evidence_token_ids\"]).map_elements(\n",
        "        lambda row: reconstruct_text(row[\"note_id\"], row[\"evidence_token_ids\"]),\n",
        "        return_dtype=pl.Utf8\n",
        "    ).alias(\"evidence_text\")\n",
        ")"
      ]
    },
    {
      "cell_type": "code",
      "execution_count": null,
      "metadata": {
        "colab": {
          "base_uri": "https://localhost:8080/"
        },
        "id": "3VnWvU6B9CT2",
        "outputId": "a2823474-6cb9-46fd-fd70-2712cb57bf79"
      },
      "outputs": [
        {
          "name": "stdout",
          "output_type": "stream",
          "text": [
            "shape: (5, 6)\n",
            "┌─────────┬─────────────┬───────────────────┬───────────────────┬──────────────────┬───────────────┐\n",
            "│ note_id ┆ target_text ┆ predicted_token_i ┆ evidence_token_id ┆ predicted_text   ┆ evidence_text │\n",
            "│ ---     ┆ ---         ┆ ds                ┆ s                 ┆ ---              ┆ ---           │\n",
            "│ str     ┆ list[str]   ┆ ---               ┆ ---               ┆ str              ┆ str           │\n",
            "│         ┆             ┆ list[i64]         ┆ list[i64]         ┆                  ┆               │\n",
            "╞═════════╪═════════════╪═══════════════════╪═══════════════════╪══════════════════╪═══════════════╡\n",
            "│ 23168   ┆ [\"493.22\"]  ┆ []                ┆ []                ┆                  ┆               │\n",
            "│ 23168   ┆ [\"530.81\"]  ┆ [651, 657, …      ┆ [658, 659]        ┆ - / G ERD / hi   ┆ G ERD         │\n",
            "│         ┆             ┆ 3120]             ┆                   ┆ atal hernia # G… ┆               │\n",
            "│ 23168   ┆ [\"493.92\"]  ┆ [2202, 3375]      ┆ [139, 633]        ┆ acerb acerb      ┆ asthma Asthma │\n",
            "│ 23168   ┆ [\"38.93\"]   ┆ [113, 114, … 118] ┆ []                ┆ Pl acement of a  ┆               │\n",
            "│         ┆             ┆                   ┆                   ┆ midline IV       ┆               │\n",
            "│ 23168   ┆ [\"285.9\"]   ┆ [643, 644, …      ┆ [643, 644]        ┆ An emia Fer Gluc ┆ An emia       │\n",
            "│         ┆             ┆ 3063]             ┆                   ┆ onate            ┆               │\n",
            "└─────────┴─────────────┴───────────────────┴───────────────────┴──────────────────┴───────────────┘\n"
          ]
        }
      ],
      "source": [
        "print(df.head())"
      ]
    },
    {
      "cell_type": "markdown",
      "metadata": {
        "id": "KZulvr6SY9xJ"
      },
      "source": [
        "### A little testing"
      ]
    },
    {
      "cell_type": "code",
      "execution_count": null,
      "metadata": {
        "id": "Vbv0sgWBZYXH"
      },
      "outputs": [],
      "source": [
        "from explainable_medical_coding.utils.analysis import predict\n",
        "\n",
        "test_dataset = dataset[\"test\"]\n",
        "example_idx = 0\n",
        "note_id = test_dataset[\"note_id\"][example_idx]\n",
        "input_ids = test_dataset[\"input_ids\"][example_idx].to(device).unsqueeze(0)\n",
        "ground_truth_target_ids = test_dataset[\"target_ids\"][example_idx].tolist()\n",
        "evidence_input_ids = test_dataset[\"evidence_input_ids\"][example_idx]\n",
        "target_id2evidence_input_ids = {\n",
        "    ground_truth_target_id: evidence_input_ids[idx]\n",
        "    for idx, ground_truth_target_id in enumerate(ground_truth_target_ids)\n",
        "}\n",
        "\n",
        "y_probs = predict(model, input_ids, device).cpu()[0]\n",
        "predicted_target_ids = torch.where(y_probs > decision_boundary)[0].tolist()\n",
        "target_ids = torch.tensor(\n",
        "    list(set(ground_truth_target_ids) | set(predicted_target_ids))\n",
        ")"
      ]
    },
    {
      "cell_type": "code",
      "execution_count": null,
      "metadata": {
        "colab": {
          "base_uri": "https://localhost:8080/"
        },
        "id": "T4XwgLj0xUrO",
        "outputId": "ceee6847-666d-4fe9-a2a6-b339830dcff2"
      },
      "outputs": [
        {
          "name": "stdout",
          "output_type": "stream",
          "text": [
            "torch.Size([11])\n"
          ]
        }
      ],
      "source": [
        "print(target_ids.shape)"
      ]
    },
    {
      "cell_type": "code",
      "execution_count": null,
      "metadata": {
        "id": "VI1MWe3Cfbmw"
      },
      "outputs": [],
      "source": [
        "# !mv /content/explain-icd/modeling_roberta.py /usr/local/lib/python3.11/dist-packages/transformers/models/roberta/modeling_roberta.py"
      ]
    },
    {
      "cell_type": "code",
      "execution_count": null,
      "metadata": {
        "colab": {
          "base_uri": "https://localhost:8080/"
        },
        "id": "NE4FWd1nb91Q",
        "outputId": "ff7c8ac3-f23a-4a06-a58a-1e55ac104014"
      },
      "outputs": [
        {
          "name": "stdout",
          "output_type": "stream",
          "text": [
            "torch.Size([1, 3592])\n",
            "torch.Size([1, 3592])\n"
          ]
        }
      ],
      "source": [
        "from explainable_medical_coding.explainability.helper_functions import create_attention_mask\n",
        "\n",
        "#from explanability_methods\n",
        "input_ids = input_ids.to(device)\n",
        "sequence_length = input_ids.shape[1]\n",
        "attention_mask = create_attention_mask(input_ids)\n",
        "print(input_ids.shape)\n",
        "print(attention_mask.shape)\n",
        "\n",
        "#from models.py\n",
        "#from encoder\n",
        "input_ids = model.split_input_into_chunks(input_ids, model.pad_token_id)\n",
        "if attention_mask is not None:\n",
        "  attention_masks = model.get_chunked_attention_masks(attention_mask)\n",
        "\n",
        "batch_size, num_chunks, chunk_size = input_ids.size()\n",
        "last_hidden_state, pooler_output = model.roberta_encoder(\n",
        "            input_ids=input_ids.view(-1, chunk_size),\n",
        "            attention_mask=attention_masks.view(-1, chunk_size)\n",
        "            if attention_masks is not None\n",
        "            else None,\n",
        "            return_dict=False\n",
        "        )\n",
        "# last_hidden_state, pooler_output, hidden_states, attentions = model.roberta_encoder(\n",
        "#             input_ids=input_ids.view(-1, chunk_size),\n",
        "#             attention_mask=attention_masks.view(-1, chunk_size)\n",
        "#             if attention_masks is not None\n",
        "#             else None,\n",
        "#             return_dict=False,\n",
        "#             output_hidden_states=True,\n",
        "#             output_attentions=True,\n",
        "#         )\n",
        "\n",
        "# last_hidden_state, pooler_output, norms  = model.roberta_encoder(\n",
        "#             input_ids=input_ids.view(-1, chunk_size),\n",
        "#             attention_mask=attention_masks.view(-1, chunk_size)\n",
        "#             if attention_masks is not None\n",
        "#             else None,\n",
        "#             return_dict=False,\n",
        "#             output_norms=True\n",
        "#         )\n",
        "hidden_output = last_hidden_state.view(batch_size, num_chunks * chunk_size, -1)"
      ]
    },
    {
      "cell_type": "code",
      "execution_count": null,
      "metadata": {
        "colab": {
          "base_uri": "https://localhost:8080/"
        },
        "id": "91U4LsjOi3UA",
        "outputId": "c84c1d19-ba7a-4a7b-ac64-3a473309bb91"
      },
      "outputs": [
        {
          "name": "stdout",
          "output_type": "stream",
          "text": [
            "torch.Size([1, 29, 128])\n",
            "torch.Size([1, 3592])\n"
          ]
        }
      ],
      "source": [
        "print(input_ids.shape)\n",
        "print(attention_mask.shape)"
      ]
    },
    {
      "cell_type": "code",
      "execution_count": null,
      "metadata": {
        "id": "nKLcHYLWhrYn"
      },
      "outputs": [],
      "source": [
        "_, label_attentions = model.label_wise_attention(\n",
        "            hidden_output,\n",
        "            attention_masks=attention_mask,\n",
        "            output_attention=True,\n",
        "            attn_grad_hook_fn=None,\n",
        "        )"
      ]
    },
    {
      "cell_type": "code",
      "execution_count": null,
      "metadata": {
        "colab": {
          "base_uri": "https://localhost:8080/"
        },
        "id": "TRbM47ZTcrFA",
        "outputId": "99e97f6a-9d58-4a0f-9cd4-200dcc7a1576"
      },
      "outputs": [
        {
          "name": "stdout",
          "output_type": "stream",
          "text": [
            "torch.Size([1, 8943, 3712])\n"
          ]
        }
      ],
      "source": [
        "print(label_attentions.shape)"
      ]
    },
    {
      "cell_type": "markdown",
      "metadata": {
        "id": "sLwzDdDnbhqX"
      },
      "source": [
        "### Go for new explainer"
      ]
    },
    {
      "cell_type": "code",
      "execution_count": null,
      "metadata": {
        "id": "2ktVofrudj2Q"
      },
      "outputs": [],
      "source": [
        "lable_cross_attention = model.label_wise_attention\n",
        "\n",
        "V = lable_cross_attention.weights_v(hidden_output) # [batch_size, seq_len, input_size]\n",
        "K = lable_cross_attention.weights_k(hidden_output) # [batch_size, seq_len, input_size]\n",
        "Q = lable_cross_attention.label_representations # [num_classes, input_size]"
      ]
    },
    {
      "cell_type": "code",
      "execution_count": null,
      "metadata": {
        "colab": {
          "base_uri": "https://localhost:8080/"
        },
        "id": "sELpmr3jkZIQ",
        "outputId": "040db050-8cb6-43ad-c02f-687c8b771721"
      },
      "outputs": [
        {
          "name": "stdout",
          "output_type": "stream",
          "text": [
            "torch.Size([1, 3712, 768])\n",
            "torch.Size([1, 3712, 768])\n",
            "torch.Size([8943, 768])\n"
          ]
        }
      ],
      "source": [
        "print(V.shape)\n",
        "print(K.shape)\n",
        "print(Q.shape)"
      ]
    },
    {
      "cell_type": "code",
      "execution_count": null,
      "metadata": {
        "id": "rQ35vwDWdaDA"
      },
      "outputs": [],
      "source": [
        "att_weights = K.matmul(Q.transpose(1, 0))  # [batch_size, seq_len, num_classes]"
      ]
    },
    {
      "cell_type": "code",
      "execution_count": null,
      "metadata": {
        "colab": {
          "base_uri": "https://localhost:8080/"
        },
        "id": "x0opDSsjqIbZ",
        "outputId": "95ae13e4-c2ba-41cd-a419-1b82ad899f09"
      },
      "outputs": [
        {
          "name": "stdout",
          "output_type": "stream",
          "text": [
            "torch.Size([1, 3712, 8943])\n"
          ]
        }
      ],
      "source": [
        "print(att_weights.shape)"
      ]
    },
    {
      "cell_type": "code",
      "execution_count": null,
      "metadata": {
        "id": "0EA7CbIHnkaI"
      },
      "outputs": [],
      "source": [
        "attention_mask = torch.nn.functional.pad(\n",
        "                attention_mask, (0, hidden_output.size(1) - attention_mask.size(1)), value=0\n",
        "            )\n",
        "attention_mask = attention_mask.to(torch.bool)\n",
        "# repeat attention masks for each class\n",
        "attention_mask = attention_mask.unsqueeze(2).repeat(\n",
        "    1, 1, lable_cross_attention.num_classes\n",
        ")\n",
        "attention_mask = attention_mask.masked_fill_(\n",
        "    attention_mask.logical_not(), float(\"-inf\")\n",
        ")\n",
        "att_weights += attention_mask"
      ]
    },
    {
      "cell_type": "code",
      "execution_count": null,
      "metadata": {
        "colab": {
          "base_uri": "https://localhost:8080/"
        },
        "id": "zgDWf4OEnveX",
        "outputId": "2a15ac1d-a4fe-4259-ccd0-d12e05f5b6d4"
      },
      "outputs": [
        {
          "name": "stdout",
          "output_type": "stream",
          "text": [
            "torch.Size([1, 3712, 8943])\n"
          ]
        }
      ],
      "source": [
        "print(attention_mask.shape)"
      ]
    },
    {
      "cell_type": "code",
      "execution_count": null,
      "metadata": {
        "id": "qC7dO6P_pbmp"
      },
      "outputs": [],
      "source": [
        "attention = torch.softmax(\n",
        "            att_weights / lable_cross_attention.scale, dim=2\n",
        "        )  # [batch_size,  seq_len, num_classes]"
      ]
    },
    {
      "cell_type": "code",
      "execution_count": null,
      "metadata": {
        "colab": {
          "base_uri": "https://localhost:8080/"
        },
        "id": "0kA-FhVLpU4w",
        "outputId": "dd8de435-3661-47e7-d971-33ac944f4ee1"
      },
      "outputs": [
        {
          "name": "stdout",
          "output_type": "stream",
          "text": [
            "torch.Size([1, 3712, 8943])\n",
            "torch.Size([1, 3712, 8943])\n"
          ]
        }
      ],
      "source": [
        "print(attention.shape)\n",
        "print(att_weights.shape)"
      ]
    },
    {
      "cell_type": "code",
      "execution_count": null,
      "metadata": {
        "id": "asJ0-vwkk9Ov"
      },
      "outputs": [],
      "source": [
        "attention = attention.squeeze(\n",
        "    0\n",
        ").T.detach()  # [sequence_length+padding, num_classes]\n",
        "attention = attention[target_ids, :sequence_length]"
      ]
    },
    {
      "cell_type": "code",
      "execution_count": null,
      "metadata": {
        "id": "8qPoU7dAlDtH"
      },
      "outputs": [],
      "source": [
        "attributions = attention.transpose(0, 1).cpu()"
      ]
    },
    {
      "cell_type": "code",
      "execution_count": null,
      "metadata": {
        "colab": {
          "base_uri": "https://localhost:8080/"
        },
        "id": "TqwtyGwwxwRt",
        "outputId": "1d65e100-a2f5-41d9-ac04-cb36f5168fae"
      },
      "outputs": [
        {
          "name": "stdout",
          "output_type": "stream",
          "text": [
            "torch.Size([3592, 11])\n"
          ]
        }
      ],
      "source": [
        "print(attributions.shape)"
      ]
    },
    {
      "cell_type": "markdown",
      "metadata": {
        "id": "oMcV_180x9MH"
      },
      "source": [
        "### Process the attribution"
      ]
    },
    {
      "cell_type": "code",
      "execution_count": null,
      "metadata": {
        "id": "sis-tU9ix86N"
      },
      "outputs": [],
      "source": [
        "#form analysis\n",
        "rows = []\n",
        "for idx, target_id in enumerate(target_ids):\n",
        "    row = [\n",
        "        note_id,\n",
        "        target_id.item(),\n",
        "        y_probs[target_id].item(),\n",
        "        attributions[:, idx].tolist(),\n",
        "        target_id2evidence_input_ids.get(target_id.item(), []),\n",
        "    ]\n",
        "    rows.append(row)"
      ]
    },
    {
      "cell_type": "code",
      "execution_count": null,
      "metadata": {
        "colab": {
          "base_uri": "https://localhost:8080/"
        },
        "id": "HZtgUra_x06e",
        "outputId": "7118fb9e-f3f0-4928-c87e-b8d830df048b"
      },
      "outputs": [
        {
          "name": "stderr",
          "output_type": "stream",
          "text": [
            "<ipython-input-40-e2f9c516a3e6>:9: DataOrientationWarning: Row orientation inferred during DataFrame construction. Explicitly specify the orientation by passing `orient=\"row\"` to silence this warning.\n",
            "  df = pl.DataFrame(schema=schema, data=rows)\n"
          ]
        }
      ],
      "source": [
        "import polars as pl\n",
        "schema = {\n",
        "        \"note_id\": pl.Utf8,\n",
        "        \"target_id\": pl.Int64,\n",
        "        \"y_prob\": pl.Float64,\n",
        "        \"attributions\": pl.List(pl.Float64),\n",
        "        \"evidence_token_ids\": pl.List(pl.Int64),\n",
        "    }\n",
        "df = pl.DataFrame(schema=schema, data=rows)"
      ]
    }
  ],
  "metadata": {
    "accelerator": "GPU",
    "colab": {
      "gpuType": "T4",
      "provenance": [],
      "collapsed_sections": [
        "nfCPdbCZ4iDg",
        "KZulvr6SY9xJ",
        "sLwzDdDnbhqX",
        "oMcV_180x9MH",
        "gw3yQD7JyZzv"
      ],
      "machine_shape": "hm"
    },
    "kernelspec": {
      "display_name": "Python 3",
      "name": "python3"
    },
    "language_info": {
      "name": "python"
    }
  },
  "nbformat": 4,
  "nbformat_minor": 0
}